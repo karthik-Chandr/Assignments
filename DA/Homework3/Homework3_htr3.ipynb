{
 "cells": [
  {
   "cell_type": "code",
   "execution_count": null,
   "metadata": {},
   "outputs": [],
   "source": [
    "# #QUESTION\n",
    "# ## Homework Assignment 3: Find all dividends\n",
    "\n",
    "# ### Data Preparation\n",
    "\n",
    "# Use the 6 stocks ['IBM', 'MSFT', 'GOOG', 'AAPL', 'AMZN', 'FB'] historical data from homework assignment 2.\n",
    "\n",
    "# ### Load the data to dataframes\n",
    "\n",
    "# You will have 6 dataframes.\n",
    "\n",
    "# ### Understand how to compute the dividends\n",
    "\n",
    "# There are two columns in each csv file, \"Close\" and \"Adj Close\". If we compute the ratio of previous day's \"Close\" price \n",
    "#and today's \"Close\" price, then compare with the ratio of previous day's \"Adj Close\" price and today's \"Adj Close\" price, \n",
    "#on most of days, the two ratios should be equal. On dividend day, the two ratios will have a difference. \n",
    "#The difference times today's \"Close\" price, you will get the dividend. As the example below, you should be able to use \n",
    "#the method to reproduce the $1.5 dividend on 2/8/2018.\n",
    "\n",
    "# ![image.png](attachment:image.png)\n",
    "\n",
    "# ### The result\n",
    "\n",
    "# You result will have 6 dataframes, each of them have two columns, Date and Dividend. The dataframe should only have \n",
    "#the rows that represent the divident day and amount.\n",
    "\n",
    "# ### Submit\n",
    "\n",
    "# Submit your jupyter notebook file and HTML format with all intermediate results and the final dataframe. "
   ]
  },
  {
   "cell_type": "code",
   "execution_count": 64,
   "metadata": {},
   "outputs": [],
   "source": [
    "ibm = (read.csv('IBM.CSV'))\n",
    "goog = read.csv('GOOG.CSV')\n",
    "fb = read.csv('FB.CSV')\n",
    "msft = read.csv('MSFT.CSV')\n",
    "amzn = read.csv('AMZN.CSV')\n",
    "aapl = read.csv('AAPL.CSV')\n"
   ]
  },
  {
   "cell_type": "code",
   "execution_count": 65,
   "metadata": {},
   "outputs": [
    {
     "data": {
      "text/html": [
       "<table>\n",
       "<caption>A data.frame: 6 × 8</caption>\n",
       "<thead>\n",
       "\t<tr><th></th><th scope=col>Date</th><th scope=col>Open</th><th scope=col>High</th><th scope=col>Low</th><th scope=col>Close</th><th scope=col>Adj.Close</th><th scope=col>Volume</th><th scope=col>Close_Ratio</th></tr>\n",
       "\t<tr><th></th><th scope=col>&lt;chr&gt;</th><th scope=col>&lt;dbl&gt;</th><th scope=col>&lt;dbl&gt;</th><th scope=col>&lt;dbl&gt;</th><th scope=col>&lt;dbl&gt;</th><th scope=col>&lt;dbl&gt;</th><th scope=col>&lt;int&gt;</th><th scope=col>&lt;dbl&gt;</th></tr>\n",
       "</thead>\n",
       "<tbody>\n",
       "\t<tr><th scope=row>1</th><td>2018-01-02</td><td>154.50</td><td>154.81</td><td>153.54</td><td>154.25</td><td>135.7438</td><td>4202500</td><td>       NA</td></tr>\n",
       "\t<tr><th scope=row>2</th><td>2018-01-03</td><td>157.34</td><td>159.81</td><td>156.33</td><td>158.49</td><td>139.4751</td><td>9441600</td><td>0.9732475</td></tr>\n",
       "\t<tr><th scope=row>3</th><td>2018-01-04</td><td>159.65</td><td>162.32</td><td>159.37</td><td>161.70</td><td>142.3000</td><td>7556200</td><td>0.9801485</td></tr>\n",
       "\t<tr><th scope=row>4</th><td>2018-01-05</td><td>162.44</td><td>162.90</td><td>161.10</td><td>162.49</td><td>142.9952</td><td>5195800</td><td>0.9951381</td></tr>\n",
       "\t<tr><th scope=row>5</th><td>2018-01-08</td><td>162.66</td><td>163.91</td><td>161.70</td><td>163.47</td><td>143.8576</td><td>5237500</td><td>0.9940050</td></tr>\n",
       "\t<tr><th scope=row>6</th><td>2018-01-09</td><td>163.90</td><td>164.53</td><td>163.06</td><td>163.83</td><td>144.1744</td><td>4341800</td><td>0.9978026</td></tr>\n",
       "</tbody>\n",
       "</table>\n"
      ],
      "text/latex": [
       "A data.frame: 6 × 8\n",
       "\\begin{tabular}{r|llllllll}\n",
       "  & Date & Open & High & Low & Close & Adj.Close & Volume & Close\\_Ratio\\\\\n",
       "  & <chr> & <dbl> & <dbl> & <dbl> & <dbl> & <dbl> & <int> & <dbl>\\\\\n",
       "\\hline\n",
       "\t1 & 2018-01-02 & 154.50 & 154.81 & 153.54 & 154.25 & 135.7438 & 4202500 &        NA\\\\\n",
       "\t2 & 2018-01-03 & 157.34 & 159.81 & 156.33 & 158.49 & 139.4751 & 9441600 & 0.9732475\\\\\n",
       "\t3 & 2018-01-04 & 159.65 & 162.32 & 159.37 & 161.70 & 142.3000 & 7556200 & 0.9801485\\\\\n",
       "\t4 & 2018-01-05 & 162.44 & 162.90 & 161.10 & 162.49 & 142.9952 & 5195800 & 0.9951381\\\\\n",
       "\t5 & 2018-01-08 & 162.66 & 163.91 & 161.70 & 163.47 & 143.8576 & 5237500 & 0.9940050\\\\\n",
       "\t6 & 2018-01-09 & 163.90 & 164.53 & 163.06 & 163.83 & 144.1744 & 4341800 & 0.9978026\\\\\n",
       "\\end{tabular}\n"
      ],
      "text/markdown": [
       "\n",
       "A data.frame: 6 × 8\n",
       "\n",
       "| <!--/--> | Date &lt;chr&gt; | Open &lt;dbl&gt; | High &lt;dbl&gt; | Low &lt;dbl&gt; | Close &lt;dbl&gt; | Adj.Close &lt;dbl&gt; | Volume &lt;int&gt; | Close_Ratio &lt;dbl&gt; |\n",
       "|---|---|---|---|---|---|---|---|---|\n",
       "| 1 | 2018-01-02 | 154.50 | 154.81 | 153.54 | 154.25 | 135.7438 | 4202500 |        NA |\n",
       "| 2 | 2018-01-03 | 157.34 | 159.81 | 156.33 | 158.49 | 139.4751 | 9441600 | 0.9732475 |\n",
       "| 3 | 2018-01-04 | 159.65 | 162.32 | 159.37 | 161.70 | 142.3000 | 7556200 | 0.9801485 |\n",
       "| 4 | 2018-01-05 | 162.44 | 162.90 | 161.10 | 162.49 | 142.9952 | 5195800 | 0.9951381 |\n",
       "| 5 | 2018-01-08 | 162.66 | 163.91 | 161.70 | 163.47 | 143.8576 | 5237500 | 0.9940050 |\n",
       "| 6 | 2018-01-09 | 163.90 | 164.53 | 163.06 | 163.83 | 144.1744 | 4341800 | 0.9978026 |\n",
       "\n"
      ],
      "text/plain": [
       "  Date       Open   High   Low    Close  Adj.Close Volume  Close_Ratio\n",
       "1 2018-01-02 154.50 154.81 153.54 154.25 135.7438  4202500        NA  \n",
       "2 2018-01-03 157.34 159.81 156.33 158.49 139.4751  9441600 0.9732475  \n",
       "3 2018-01-04 159.65 162.32 159.37 161.70 142.3000  7556200 0.9801485  \n",
       "4 2018-01-05 162.44 162.90 161.10 162.49 142.9952  5195800 0.9951381  \n",
       "5 2018-01-08 162.66 163.91 161.70 163.47 143.8576  5237500 0.9940050  \n",
       "6 2018-01-09 163.90 164.53 163.06 163.83 144.1744  4341800 0.9978026  "
      ]
     },
     "metadata": {},
     "output_type": "display_data"
    },
    {
     "data": {
      "text/html": [
       "<table>\n",
       "<caption>A data.frame: 6 × 8</caption>\n",
       "<thead>\n",
       "\t<tr><th></th><th scope=col>Date</th><th scope=col>Open</th><th scope=col>High</th><th scope=col>Low</th><th scope=col>Close</th><th scope=col>Adj.Close</th><th scope=col>Volume</th><th scope=col>Close_Ratio</th></tr>\n",
       "\t<tr><th></th><th scope=col>&lt;chr&gt;</th><th scope=col>&lt;dbl&gt;</th><th scope=col>&lt;dbl&gt;</th><th scope=col>&lt;dbl&gt;</th><th scope=col>&lt;dbl&gt;</th><th scope=col>&lt;dbl&gt;</th><th scope=col>&lt;int&gt;</th><th scope=col>&lt;dbl&gt;</th></tr>\n",
       "</thead>\n",
       "<tbody>\n",
       "\t<tr><th scope=row>1</th><td>2018-01-02</td><td>1048.34</td><td>1066.94</td><td>1045.230</td><td>1065.00</td><td>1065.00</td><td>1237600</td><td>       NA</td></tr>\n",
       "\t<tr><th scope=row>2</th><td>2018-01-03</td><td>1064.31</td><td>1086.29</td><td>1063.210</td><td>1082.48</td><td>1082.48</td><td>1430200</td><td>0.9838519</td></tr>\n",
       "\t<tr><th scope=row>3</th><td>2018-01-04</td><td>1088.00</td><td>1093.57</td><td>1084.002</td><td>1086.40</td><td>1086.40</td><td>1004600</td><td>0.9963917</td></tr>\n",
       "\t<tr><th scope=row>4</th><td>2018-01-05</td><td>1094.00</td><td>1104.25</td><td>1092.000</td><td>1102.23</td><td>1102.23</td><td>1279100</td><td>0.9856382</td></tr>\n",
       "\t<tr><th scope=row>5</th><td>2018-01-08</td><td>1102.23</td><td>1111.27</td><td>1101.620</td><td>1106.94</td><td>1106.94</td><td>1047600</td><td>0.9957451</td></tr>\n",
       "\t<tr><th scope=row>6</th><td>2018-01-09</td><td>1109.40</td><td>1110.57</td><td>1101.231</td><td>1106.26</td><td>1106.26</td><td> 902500</td><td>1.0006146</td></tr>\n",
       "</tbody>\n",
       "</table>\n"
      ],
      "text/latex": [
       "A data.frame: 6 × 8\n",
       "\\begin{tabular}{r|llllllll}\n",
       "  & Date & Open & High & Low & Close & Adj.Close & Volume & Close\\_Ratio\\\\\n",
       "  & <chr> & <dbl> & <dbl> & <dbl> & <dbl> & <dbl> & <int> & <dbl>\\\\\n",
       "\\hline\n",
       "\t1 & 2018-01-02 & 1048.34 & 1066.94 & 1045.230 & 1065.00 & 1065.00 & 1237600 &        NA\\\\\n",
       "\t2 & 2018-01-03 & 1064.31 & 1086.29 & 1063.210 & 1082.48 & 1082.48 & 1430200 & 0.9838519\\\\\n",
       "\t3 & 2018-01-04 & 1088.00 & 1093.57 & 1084.002 & 1086.40 & 1086.40 & 1004600 & 0.9963917\\\\\n",
       "\t4 & 2018-01-05 & 1094.00 & 1104.25 & 1092.000 & 1102.23 & 1102.23 & 1279100 & 0.9856382\\\\\n",
       "\t5 & 2018-01-08 & 1102.23 & 1111.27 & 1101.620 & 1106.94 & 1106.94 & 1047600 & 0.9957451\\\\\n",
       "\t6 & 2018-01-09 & 1109.40 & 1110.57 & 1101.231 & 1106.26 & 1106.26 &  902500 & 1.0006146\\\\\n",
       "\\end{tabular}\n"
      ],
      "text/markdown": [
       "\n",
       "A data.frame: 6 × 8\n",
       "\n",
       "| <!--/--> | Date &lt;chr&gt; | Open &lt;dbl&gt; | High &lt;dbl&gt; | Low &lt;dbl&gt; | Close &lt;dbl&gt; | Adj.Close &lt;dbl&gt; | Volume &lt;int&gt; | Close_Ratio &lt;dbl&gt; |\n",
       "|---|---|---|---|---|---|---|---|---|\n",
       "| 1 | 2018-01-02 | 1048.34 | 1066.94 | 1045.230 | 1065.00 | 1065.00 | 1237600 |        NA |\n",
       "| 2 | 2018-01-03 | 1064.31 | 1086.29 | 1063.210 | 1082.48 | 1082.48 | 1430200 | 0.9838519 |\n",
       "| 3 | 2018-01-04 | 1088.00 | 1093.57 | 1084.002 | 1086.40 | 1086.40 | 1004600 | 0.9963917 |\n",
       "| 4 | 2018-01-05 | 1094.00 | 1104.25 | 1092.000 | 1102.23 | 1102.23 | 1279100 | 0.9856382 |\n",
       "| 5 | 2018-01-08 | 1102.23 | 1111.27 | 1101.620 | 1106.94 | 1106.94 | 1047600 | 0.9957451 |\n",
       "| 6 | 2018-01-09 | 1109.40 | 1110.57 | 1101.231 | 1106.26 | 1106.26 |  902500 | 1.0006146 |\n",
       "\n"
      ],
      "text/plain": [
       "  Date       Open    High    Low      Close   Adj.Close Volume  Close_Ratio\n",
       "1 2018-01-02 1048.34 1066.94 1045.230 1065.00 1065.00   1237600        NA  \n",
       "2 2018-01-03 1064.31 1086.29 1063.210 1082.48 1082.48   1430200 0.9838519  \n",
       "3 2018-01-04 1088.00 1093.57 1084.002 1086.40 1086.40   1004600 0.9963917  \n",
       "4 2018-01-05 1094.00 1104.25 1092.000 1102.23 1102.23   1279100 0.9856382  \n",
       "5 2018-01-08 1102.23 1111.27 1101.620 1106.94 1106.94   1047600 0.9957451  \n",
       "6 2018-01-09 1109.40 1110.57 1101.231 1106.26 1106.26    902500 1.0006146  "
      ]
     },
     "metadata": {},
     "output_type": "display_data"
    },
    {
     "data": {
      "text/html": [
       "<table>\n",
       "<caption>A data.frame: 6 × 8</caption>\n",
       "<thead>\n",
       "\t<tr><th></th><th scope=col>Date</th><th scope=col>Open</th><th scope=col>High</th><th scope=col>Low</th><th scope=col>Close</th><th scope=col>Adj.Close</th><th scope=col>Volume</th><th scope=col>Close_Ratio</th></tr>\n",
       "\t<tr><th></th><th scope=col>&lt;chr&gt;</th><th scope=col>&lt;dbl&gt;</th><th scope=col>&lt;dbl&gt;</th><th scope=col>&lt;dbl&gt;</th><th scope=col>&lt;dbl&gt;</th><th scope=col>&lt;dbl&gt;</th><th scope=col>&lt;int&gt;</th><th scope=col>&lt;dbl&gt;</th></tr>\n",
       "</thead>\n",
       "<tbody>\n",
       "\t<tr><th scope=row>1</th><td>2018-01-02</td><td>177.68</td><td>181.58</td><td>177.55</td><td>181.42</td><td>181.42</td><td>18151900</td><td>       NA</td></tr>\n",
       "\t<tr><th scope=row>2</th><td>2018-01-03</td><td>181.88</td><td>184.78</td><td>181.33</td><td>184.67</td><td>184.67</td><td>16886600</td><td>0.9824010</td></tr>\n",
       "\t<tr><th scope=row>3</th><td>2018-01-04</td><td>184.90</td><td>186.21</td><td>184.10</td><td>184.33</td><td>184.33</td><td>13880900</td><td>1.0018445</td></tr>\n",
       "\t<tr><th scope=row>4</th><td>2018-01-05</td><td>185.59</td><td>186.90</td><td>184.93</td><td>186.85</td><td>186.85</td><td>13574500</td><td>0.9865132</td></tr>\n",
       "\t<tr><th scope=row>5</th><td>2018-01-08</td><td>187.20</td><td>188.90</td><td>186.33</td><td>188.28</td><td>188.28</td><td>17994700</td><td>0.9924050</td></tr>\n",
       "\t<tr><th scope=row>6</th><td>2018-01-09</td><td>188.70</td><td>188.80</td><td>187.10</td><td>187.87</td><td>187.87</td><td>12393100</td><td>1.0021824</td></tr>\n",
       "</tbody>\n",
       "</table>\n"
      ],
      "text/latex": [
       "A data.frame: 6 × 8\n",
       "\\begin{tabular}{r|llllllll}\n",
       "  & Date & Open & High & Low & Close & Adj.Close & Volume & Close\\_Ratio\\\\\n",
       "  & <chr> & <dbl> & <dbl> & <dbl> & <dbl> & <dbl> & <int> & <dbl>\\\\\n",
       "\\hline\n",
       "\t1 & 2018-01-02 & 177.68 & 181.58 & 177.55 & 181.42 & 181.42 & 18151900 &        NA\\\\\n",
       "\t2 & 2018-01-03 & 181.88 & 184.78 & 181.33 & 184.67 & 184.67 & 16886600 & 0.9824010\\\\\n",
       "\t3 & 2018-01-04 & 184.90 & 186.21 & 184.10 & 184.33 & 184.33 & 13880900 & 1.0018445\\\\\n",
       "\t4 & 2018-01-05 & 185.59 & 186.90 & 184.93 & 186.85 & 186.85 & 13574500 & 0.9865132\\\\\n",
       "\t5 & 2018-01-08 & 187.20 & 188.90 & 186.33 & 188.28 & 188.28 & 17994700 & 0.9924050\\\\\n",
       "\t6 & 2018-01-09 & 188.70 & 188.80 & 187.10 & 187.87 & 187.87 & 12393100 & 1.0021824\\\\\n",
       "\\end{tabular}\n"
      ],
      "text/markdown": [
       "\n",
       "A data.frame: 6 × 8\n",
       "\n",
       "| <!--/--> | Date &lt;chr&gt; | Open &lt;dbl&gt; | High &lt;dbl&gt; | Low &lt;dbl&gt; | Close &lt;dbl&gt; | Adj.Close &lt;dbl&gt; | Volume &lt;int&gt; | Close_Ratio &lt;dbl&gt; |\n",
       "|---|---|---|---|---|---|---|---|---|\n",
       "| 1 | 2018-01-02 | 177.68 | 181.58 | 177.55 | 181.42 | 181.42 | 18151900 |        NA |\n",
       "| 2 | 2018-01-03 | 181.88 | 184.78 | 181.33 | 184.67 | 184.67 | 16886600 | 0.9824010 |\n",
       "| 3 | 2018-01-04 | 184.90 | 186.21 | 184.10 | 184.33 | 184.33 | 13880900 | 1.0018445 |\n",
       "| 4 | 2018-01-05 | 185.59 | 186.90 | 184.93 | 186.85 | 186.85 | 13574500 | 0.9865132 |\n",
       "| 5 | 2018-01-08 | 187.20 | 188.90 | 186.33 | 188.28 | 188.28 | 17994700 | 0.9924050 |\n",
       "| 6 | 2018-01-09 | 188.70 | 188.80 | 187.10 | 187.87 | 187.87 | 12393100 | 1.0021824 |\n",
       "\n"
      ],
      "text/plain": [
       "  Date       Open   High   Low    Close  Adj.Close Volume   Close_Ratio\n",
       "1 2018-01-02 177.68 181.58 177.55 181.42 181.42    18151900        NA  \n",
       "2 2018-01-03 181.88 184.78 181.33 184.67 184.67    16886600 0.9824010  \n",
       "3 2018-01-04 184.90 186.21 184.10 184.33 184.33    13880900 1.0018445  \n",
       "4 2018-01-05 185.59 186.90 184.93 186.85 186.85    13574500 0.9865132  \n",
       "5 2018-01-08 187.20 188.90 186.33 188.28 188.28    17994700 0.9924050  \n",
       "6 2018-01-09 188.70 188.80 187.10 187.87 187.87    12393100 1.0021824  "
      ]
     },
     "metadata": {},
     "output_type": "display_data"
    },
    {
     "data": {
      "text/html": [
       "<table>\n",
       "<caption>A data.frame: 6 × 8</caption>\n",
       "<thead>\n",
       "\t<tr><th></th><th scope=col>Date</th><th scope=col>Open</th><th scope=col>High</th><th scope=col>Low</th><th scope=col>Close</th><th scope=col>Adj.Close</th><th scope=col>Volume</th><th scope=col>Close_Ratio</th></tr>\n",
       "\t<tr><th></th><th scope=col>&lt;chr&gt;</th><th scope=col>&lt;dbl&gt;</th><th scope=col>&lt;dbl&gt;</th><th scope=col>&lt;dbl&gt;</th><th scope=col>&lt;dbl&gt;</th><th scope=col>&lt;dbl&gt;</th><th scope=col>&lt;int&gt;</th><th scope=col>&lt;dbl&gt;</th></tr>\n",
       "</thead>\n",
       "<tbody>\n",
       "\t<tr><th scope=row>1</th><td>2018-01-02</td><td>86.13</td><td>86.31</td><td>85.50</td><td>85.95</td><td>82.59932</td><td>22483800</td><td>       NA</td></tr>\n",
       "\t<tr><th scope=row>2</th><td>2018-01-03</td><td>86.06</td><td>86.51</td><td>85.97</td><td>86.35</td><td>82.98373</td><td>26061400</td><td>0.9953677</td></tr>\n",
       "\t<tr><th scope=row>3</th><td>2018-01-04</td><td>86.59</td><td>87.66</td><td>86.57</td><td>87.11</td><td>83.71412</td><td>21912000</td><td>0.9912754</td></tr>\n",
       "\t<tr><th scope=row>4</th><td>2018-01-05</td><td>87.66</td><td>88.41</td><td>87.43</td><td>88.19</td><td>84.75201</td><td>23407100</td><td>0.9877537</td></tr>\n",
       "\t<tr><th scope=row>5</th><td>2018-01-08</td><td>88.20</td><td>88.58</td><td>87.60</td><td>88.28</td><td>84.83849</td><td>22113000</td><td>0.9989806</td></tr>\n",
       "\t<tr><th scope=row>6</th><td>2018-01-09</td><td>88.65</td><td>88.73</td><td>87.86</td><td>88.22</td><td>84.78084</td><td>19484300</td><td>1.0006801</td></tr>\n",
       "</tbody>\n",
       "</table>\n"
      ],
      "text/latex": [
       "A data.frame: 6 × 8\n",
       "\\begin{tabular}{r|llllllll}\n",
       "  & Date & Open & High & Low & Close & Adj.Close & Volume & Close\\_Ratio\\\\\n",
       "  & <chr> & <dbl> & <dbl> & <dbl> & <dbl> & <dbl> & <int> & <dbl>\\\\\n",
       "\\hline\n",
       "\t1 & 2018-01-02 & 86.13 & 86.31 & 85.50 & 85.95 & 82.59932 & 22483800 &        NA\\\\\n",
       "\t2 & 2018-01-03 & 86.06 & 86.51 & 85.97 & 86.35 & 82.98373 & 26061400 & 0.9953677\\\\\n",
       "\t3 & 2018-01-04 & 86.59 & 87.66 & 86.57 & 87.11 & 83.71412 & 21912000 & 0.9912754\\\\\n",
       "\t4 & 2018-01-05 & 87.66 & 88.41 & 87.43 & 88.19 & 84.75201 & 23407100 & 0.9877537\\\\\n",
       "\t5 & 2018-01-08 & 88.20 & 88.58 & 87.60 & 88.28 & 84.83849 & 22113000 & 0.9989806\\\\\n",
       "\t6 & 2018-01-09 & 88.65 & 88.73 & 87.86 & 88.22 & 84.78084 & 19484300 & 1.0006801\\\\\n",
       "\\end{tabular}\n"
      ],
      "text/markdown": [
       "\n",
       "A data.frame: 6 × 8\n",
       "\n",
       "| <!--/--> | Date &lt;chr&gt; | Open &lt;dbl&gt; | High &lt;dbl&gt; | Low &lt;dbl&gt; | Close &lt;dbl&gt; | Adj.Close &lt;dbl&gt; | Volume &lt;int&gt; | Close_Ratio &lt;dbl&gt; |\n",
       "|---|---|---|---|---|---|---|---|---|\n",
       "| 1 | 2018-01-02 | 86.13 | 86.31 | 85.50 | 85.95 | 82.59932 | 22483800 |        NA |\n",
       "| 2 | 2018-01-03 | 86.06 | 86.51 | 85.97 | 86.35 | 82.98373 | 26061400 | 0.9953677 |\n",
       "| 3 | 2018-01-04 | 86.59 | 87.66 | 86.57 | 87.11 | 83.71412 | 21912000 | 0.9912754 |\n",
       "| 4 | 2018-01-05 | 87.66 | 88.41 | 87.43 | 88.19 | 84.75201 | 23407100 | 0.9877537 |\n",
       "| 5 | 2018-01-08 | 88.20 | 88.58 | 87.60 | 88.28 | 84.83849 | 22113000 | 0.9989806 |\n",
       "| 6 | 2018-01-09 | 88.65 | 88.73 | 87.86 | 88.22 | 84.78084 | 19484300 | 1.0006801 |\n",
       "\n"
      ],
      "text/plain": [
       "  Date       Open  High  Low   Close Adj.Close Volume   Close_Ratio\n",
       "1 2018-01-02 86.13 86.31 85.50 85.95 82.59932  22483800        NA  \n",
       "2 2018-01-03 86.06 86.51 85.97 86.35 82.98373  26061400 0.9953677  \n",
       "3 2018-01-04 86.59 87.66 86.57 87.11 83.71412  21912000 0.9912754  \n",
       "4 2018-01-05 87.66 88.41 87.43 88.19 84.75201  23407100 0.9877537  \n",
       "5 2018-01-08 88.20 88.58 87.60 88.28 84.83849  22113000 0.9989806  \n",
       "6 2018-01-09 88.65 88.73 87.86 88.22 84.78084  19484300 1.0006801  "
      ]
     },
     "metadata": {},
     "output_type": "display_data"
    },
    {
     "data": {
      "text/html": [
       "<table>\n",
       "<caption>A data.frame: 6 × 8</caption>\n",
       "<thead>\n",
       "\t<tr><th></th><th scope=col>Date</th><th scope=col>Open</th><th scope=col>High</th><th scope=col>Low</th><th scope=col>Close</th><th scope=col>Adj.Close</th><th scope=col>Volume</th><th scope=col>Close_Ratio</th></tr>\n",
       "\t<tr><th></th><th scope=col>&lt;chr&gt;</th><th scope=col>&lt;dbl&gt;</th><th scope=col>&lt;dbl&gt;</th><th scope=col>&lt;dbl&gt;</th><th scope=col>&lt;dbl&gt;</th><th scope=col>&lt;dbl&gt;</th><th scope=col>&lt;int&gt;</th><th scope=col>&lt;dbl&gt;</th></tr>\n",
       "</thead>\n",
       "<tbody>\n",
       "\t<tr><th scope=row>1</th><td>2018-01-02</td><td>1172.00</td><td>1190.00</td><td>1170.51</td><td>1189.01</td><td>1189.01</td><td>2694500</td><td>       NA</td></tr>\n",
       "\t<tr><th scope=row>2</th><td>2018-01-03</td><td>1188.30</td><td>1205.49</td><td>1188.30</td><td>1204.20</td><td>1204.20</td><td>3108800</td><td>0.9873859</td></tr>\n",
       "\t<tr><th scope=row>3</th><td>2018-01-04</td><td>1205.00</td><td>1215.87</td><td>1204.66</td><td>1209.59</td><td>1209.59</td><td>3022100</td><td>0.9955439</td></tr>\n",
       "\t<tr><th scope=row>4</th><td>2018-01-05</td><td>1217.51</td><td>1229.14</td><td>1210.00</td><td>1229.14</td><td>1229.14</td><td>3544700</td><td>0.9840945</td></tr>\n",
       "\t<tr><th scope=row>5</th><td>2018-01-08</td><td>1236.00</td><td>1253.08</td><td>1232.03</td><td>1246.87</td><td>1246.87</td><td>4279500</td><td>0.9857804</td></tr>\n",
       "\t<tr><th scope=row>6</th><td>2018-01-09</td><td>1256.90</td><td>1259.33</td><td>1241.76</td><td>1252.70</td><td>1252.70</td><td>3661300</td><td>0.9953461</td></tr>\n",
       "</tbody>\n",
       "</table>\n"
      ],
      "text/latex": [
       "A data.frame: 6 × 8\n",
       "\\begin{tabular}{r|llllllll}\n",
       "  & Date & Open & High & Low & Close & Adj.Close & Volume & Close\\_Ratio\\\\\n",
       "  & <chr> & <dbl> & <dbl> & <dbl> & <dbl> & <dbl> & <int> & <dbl>\\\\\n",
       "\\hline\n",
       "\t1 & 2018-01-02 & 1172.00 & 1190.00 & 1170.51 & 1189.01 & 1189.01 & 2694500 &        NA\\\\\n",
       "\t2 & 2018-01-03 & 1188.30 & 1205.49 & 1188.30 & 1204.20 & 1204.20 & 3108800 & 0.9873859\\\\\n",
       "\t3 & 2018-01-04 & 1205.00 & 1215.87 & 1204.66 & 1209.59 & 1209.59 & 3022100 & 0.9955439\\\\\n",
       "\t4 & 2018-01-05 & 1217.51 & 1229.14 & 1210.00 & 1229.14 & 1229.14 & 3544700 & 0.9840945\\\\\n",
       "\t5 & 2018-01-08 & 1236.00 & 1253.08 & 1232.03 & 1246.87 & 1246.87 & 4279500 & 0.9857804\\\\\n",
       "\t6 & 2018-01-09 & 1256.90 & 1259.33 & 1241.76 & 1252.70 & 1252.70 & 3661300 & 0.9953461\\\\\n",
       "\\end{tabular}\n"
      ],
      "text/markdown": [
       "\n",
       "A data.frame: 6 × 8\n",
       "\n",
       "| <!--/--> | Date &lt;chr&gt; | Open &lt;dbl&gt; | High &lt;dbl&gt; | Low &lt;dbl&gt; | Close &lt;dbl&gt; | Adj.Close &lt;dbl&gt; | Volume &lt;int&gt; | Close_Ratio &lt;dbl&gt; |\n",
       "|---|---|---|---|---|---|---|---|---|\n",
       "| 1 | 2018-01-02 | 1172.00 | 1190.00 | 1170.51 | 1189.01 | 1189.01 | 2694500 |        NA |\n",
       "| 2 | 2018-01-03 | 1188.30 | 1205.49 | 1188.30 | 1204.20 | 1204.20 | 3108800 | 0.9873859 |\n",
       "| 3 | 2018-01-04 | 1205.00 | 1215.87 | 1204.66 | 1209.59 | 1209.59 | 3022100 | 0.9955439 |\n",
       "| 4 | 2018-01-05 | 1217.51 | 1229.14 | 1210.00 | 1229.14 | 1229.14 | 3544700 | 0.9840945 |\n",
       "| 5 | 2018-01-08 | 1236.00 | 1253.08 | 1232.03 | 1246.87 | 1246.87 | 4279500 | 0.9857804 |\n",
       "| 6 | 2018-01-09 | 1256.90 | 1259.33 | 1241.76 | 1252.70 | 1252.70 | 3661300 | 0.9953461 |\n",
       "\n"
      ],
      "text/plain": [
       "  Date       Open    High    Low     Close   Adj.Close Volume  Close_Ratio\n",
       "1 2018-01-02 1172.00 1190.00 1170.51 1189.01 1189.01   2694500        NA  \n",
       "2 2018-01-03 1188.30 1205.49 1188.30 1204.20 1204.20   3108800 0.9873859  \n",
       "3 2018-01-04 1205.00 1215.87 1204.66 1209.59 1209.59   3022100 0.9955439  \n",
       "4 2018-01-05 1217.51 1229.14 1210.00 1229.14 1229.14   3544700 0.9840945  \n",
       "5 2018-01-08 1236.00 1253.08 1232.03 1246.87 1246.87   4279500 0.9857804  \n",
       "6 2018-01-09 1256.90 1259.33 1241.76 1252.70 1252.70   3661300 0.9953461  "
      ]
     },
     "metadata": {},
     "output_type": "display_data"
    },
    {
     "data": {
      "text/html": [
       "<table>\n",
       "<caption>A data.frame: 6 × 8</caption>\n",
       "<thead>\n",
       "\t<tr><th></th><th scope=col>Date</th><th scope=col>Open</th><th scope=col>High</th><th scope=col>Low</th><th scope=col>Close</th><th scope=col>Adj.Close</th><th scope=col>Volume</th><th scope=col>Close_Ratio</th></tr>\n",
       "\t<tr><th></th><th scope=col>&lt;chr&gt;</th><th scope=col>&lt;dbl&gt;</th><th scope=col>&lt;dbl&gt;</th><th scope=col>&lt;dbl&gt;</th><th scope=col>&lt;dbl&gt;</th><th scope=col>&lt;dbl&gt;</th><th scope=col>&lt;int&gt;</th><th scope=col>&lt;dbl&gt;</th></tr>\n",
       "</thead>\n",
       "<tbody>\n",
       "\t<tr><th scope=row>1</th><td>2018-01-02</td><td>42.5400</td><td>43.0750</td><td>42.3150</td><td>43.0650</td><td>41.51358</td><td>102223600</td><td>       NA</td></tr>\n",
       "\t<tr><th scope=row>2</th><td>2018-01-03</td><td>43.1325</td><td>43.6375</td><td>42.9900</td><td>43.0575</td><td>41.50634</td><td>118071600</td><td>1.0001742</td></tr>\n",
       "\t<tr><th scope=row>3</th><td>2018-01-04</td><td>43.1350</td><td>43.3675</td><td>43.0200</td><td>43.2575</td><td>41.69914</td><td> 89738400</td><td>0.9953765</td></tr>\n",
       "\t<tr><th scope=row>4</th><td>2018-01-05</td><td>43.3600</td><td>43.8425</td><td>43.2625</td><td>43.7500</td><td>42.17389</td><td> 94640000</td><td>0.9887429</td></tr>\n",
       "\t<tr><th scope=row>5</th><td>2018-01-08</td><td>43.5875</td><td>43.9025</td><td>43.4825</td><td>43.5875</td><td>42.01725</td><td> 82271200</td><td>1.0037281</td></tr>\n",
       "\t<tr><th scope=row>6</th><td>2018-01-09</td><td>43.6375</td><td>43.7650</td><td>43.3525</td><td>43.5825</td><td>42.01243</td><td> 86336000</td><td>1.0001148</td></tr>\n",
       "</tbody>\n",
       "</table>\n"
      ],
      "text/latex": [
       "A data.frame: 6 × 8\n",
       "\\begin{tabular}{r|llllllll}\n",
       "  & Date & Open & High & Low & Close & Adj.Close & Volume & Close\\_Ratio\\\\\n",
       "  & <chr> & <dbl> & <dbl> & <dbl> & <dbl> & <dbl> & <int> & <dbl>\\\\\n",
       "\\hline\n",
       "\t1 & 2018-01-02 & 42.5400 & 43.0750 & 42.3150 & 43.0650 & 41.51358 & 102223600 &        NA\\\\\n",
       "\t2 & 2018-01-03 & 43.1325 & 43.6375 & 42.9900 & 43.0575 & 41.50634 & 118071600 & 1.0001742\\\\\n",
       "\t3 & 2018-01-04 & 43.1350 & 43.3675 & 43.0200 & 43.2575 & 41.69914 &  89738400 & 0.9953765\\\\\n",
       "\t4 & 2018-01-05 & 43.3600 & 43.8425 & 43.2625 & 43.7500 & 42.17389 &  94640000 & 0.9887429\\\\\n",
       "\t5 & 2018-01-08 & 43.5875 & 43.9025 & 43.4825 & 43.5875 & 42.01725 &  82271200 & 1.0037281\\\\\n",
       "\t6 & 2018-01-09 & 43.6375 & 43.7650 & 43.3525 & 43.5825 & 42.01243 &  86336000 & 1.0001148\\\\\n",
       "\\end{tabular}\n"
      ],
      "text/markdown": [
       "\n",
       "A data.frame: 6 × 8\n",
       "\n",
       "| <!--/--> | Date &lt;chr&gt; | Open &lt;dbl&gt; | High &lt;dbl&gt; | Low &lt;dbl&gt; | Close &lt;dbl&gt; | Adj.Close &lt;dbl&gt; | Volume &lt;int&gt; | Close_Ratio &lt;dbl&gt; |\n",
       "|---|---|---|---|---|---|---|---|---|\n",
       "| 1 | 2018-01-02 | 42.5400 | 43.0750 | 42.3150 | 43.0650 | 41.51358 | 102223600 |        NA |\n",
       "| 2 | 2018-01-03 | 43.1325 | 43.6375 | 42.9900 | 43.0575 | 41.50634 | 118071600 | 1.0001742 |\n",
       "| 3 | 2018-01-04 | 43.1350 | 43.3675 | 43.0200 | 43.2575 | 41.69914 |  89738400 | 0.9953765 |\n",
       "| 4 | 2018-01-05 | 43.3600 | 43.8425 | 43.2625 | 43.7500 | 42.17389 |  94640000 | 0.9887429 |\n",
       "| 5 | 2018-01-08 | 43.5875 | 43.9025 | 43.4825 | 43.5875 | 42.01725 |  82271200 | 1.0037281 |\n",
       "| 6 | 2018-01-09 | 43.6375 | 43.7650 | 43.3525 | 43.5825 | 42.01243 |  86336000 | 1.0001148 |\n",
       "\n"
      ],
      "text/plain": [
       "  Date       Open    High    Low     Close   Adj.Close Volume    Close_Ratio\n",
       "1 2018-01-02 42.5400 43.0750 42.3150 43.0650 41.51358  102223600        NA  \n",
       "2 2018-01-03 43.1325 43.6375 42.9900 43.0575 41.50634  118071600 1.0001742  \n",
       "3 2018-01-04 43.1350 43.3675 43.0200 43.2575 41.69914   89738400 0.9953765  \n",
       "4 2018-01-05 43.3600 43.8425 43.2625 43.7500 42.17389   94640000 0.9887429  \n",
       "5 2018-01-08 43.5875 43.9025 43.4825 43.5875 42.01725   82271200 1.0037281  \n",
       "6 2018-01-09 43.6375 43.7650 43.3525 43.5825 42.01243   86336000 1.0001148  "
      ]
     },
     "metadata": {},
     "output_type": "display_data"
    }
   ],
   "source": [
    "#Finding \"Close_Ratio\" and adding it to the dataframe\n",
    "#IBM\n",
    "ibm_cl_rat= ibm[-nrow(ibm),5]/ibm[-1,5]\n",
    "ibm$Close_Ratio = c(NA,ibm_cl_rat)\n",
    "head(ibm)\n",
    "\n",
    "#GOOG\n",
    "goog_cl_rat= goog[-nrow(goog),5]/goog[-1,5]\n",
    "goog$Close_Ratio = c(NA,goog_cl_rat)\n",
    "head(goog)\n",
    "\n",
    "#FB\n",
    "fb_cl_rat= fb[-nrow(fb),5]/fb[-1,5]\n",
    "fb$Close_Ratio = c(NA,fb_cl_rat)\n",
    "head(fb)\n",
    "\n",
    "#MSFT\n",
    "msft_cl_rat= msft[-nrow(msft),5]/msft[-1,5]\n",
    "msft$Close_Ratio = c(NA,msft_cl_rat)\n",
    "head(msft)\n",
    "\n",
    "#AMZN\n",
    "amzn_cl_rat= amzn[-nrow(amzn),5]/amzn[-1,5]\n",
    "amzn$Close_Ratio = c(NA,amzn_cl_rat)\n",
    "head(amzn)\n",
    "\n",
    "#AAPL\n",
    "aapl_cl_rat= aapl[-nrow(aapl),5]/aapl[-1,5]\n",
    "aapl$Close_Ratio = c(NA,aapl_cl_rat)\n",
    "head(aapl)\n",
    "\n",
    "#Dataframe with \"Close_ratio\" column displayed below"
   ]
  },
  {
   "cell_type": "code",
   "execution_count": 66,
   "metadata": {},
   "outputs": [
    {
     "data": {
      "text/html": [
       "<table>\n",
       "<caption>A data.frame: 6 × 9</caption>\n",
       "<thead>\n",
       "\t<tr><th></th><th scope=col>Date</th><th scope=col>Open</th><th scope=col>High</th><th scope=col>Low</th><th scope=col>Close</th><th scope=col>Adj.Close</th><th scope=col>Volume</th><th scope=col>Close_Ratio</th><th scope=col>Adj.Close_Ratio</th></tr>\n",
       "\t<tr><th></th><th scope=col>&lt;chr&gt;</th><th scope=col>&lt;dbl&gt;</th><th scope=col>&lt;dbl&gt;</th><th scope=col>&lt;dbl&gt;</th><th scope=col>&lt;dbl&gt;</th><th scope=col>&lt;dbl&gt;</th><th scope=col>&lt;int&gt;</th><th scope=col>&lt;dbl&gt;</th><th scope=col>&lt;dbl&gt;</th></tr>\n",
       "</thead>\n",
       "<tbody>\n",
       "\t<tr><th scope=row>1</th><td>2018-01-02</td><td>154.50</td><td>154.81</td><td>153.54</td><td>154.25</td><td>135.7438</td><td>4202500</td><td>       NA</td><td>       NA</td></tr>\n",
       "\t<tr><th scope=row>2</th><td>2018-01-03</td><td>157.34</td><td>159.81</td><td>156.33</td><td>158.49</td><td>139.4751</td><td>9441600</td><td>0.9732475</td><td>0.9732472</td></tr>\n",
       "\t<tr><th scope=row>3</th><td>2018-01-04</td><td>159.65</td><td>162.32</td><td>159.37</td><td>161.70</td><td>142.3000</td><td>7556200</td><td>0.9801485</td><td>0.9801487</td></tr>\n",
       "\t<tr><th scope=row>4</th><td>2018-01-05</td><td>162.44</td><td>162.90</td><td>161.10</td><td>162.49</td><td>142.9952</td><td>5195800</td><td>0.9951381</td><td>0.9951380</td></tr>\n",
       "\t<tr><th scope=row>5</th><td>2018-01-08</td><td>162.66</td><td>163.91</td><td>161.70</td><td>163.47</td><td>143.8576</td><td>5237500</td><td>0.9940050</td><td>0.9940050</td></tr>\n",
       "\t<tr><th scope=row>6</th><td>2018-01-09</td><td>163.90</td><td>164.53</td><td>163.06</td><td>163.83</td><td>144.1744</td><td>4341800</td><td>0.9978026</td><td>0.9978027</td></tr>\n",
       "</tbody>\n",
       "</table>\n"
      ],
      "text/latex": [
       "A data.frame: 6 × 9\n",
       "\\begin{tabular}{r|lllllllll}\n",
       "  & Date & Open & High & Low & Close & Adj.Close & Volume & Close\\_Ratio & Adj.Close\\_Ratio\\\\\n",
       "  & <chr> & <dbl> & <dbl> & <dbl> & <dbl> & <dbl> & <int> & <dbl> & <dbl>\\\\\n",
       "\\hline\n",
       "\t1 & 2018-01-02 & 154.50 & 154.81 & 153.54 & 154.25 & 135.7438 & 4202500 &        NA &        NA\\\\\n",
       "\t2 & 2018-01-03 & 157.34 & 159.81 & 156.33 & 158.49 & 139.4751 & 9441600 & 0.9732475 & 0.9732472\\\\\n",
       "\t3 & 2018-01-04 & 159.65 & 162.32 & 159.37 & 161.70 & 142.3000 & 7556200 & 0.9801485 & 0.9801487\\\\\n",
       "\t4 & 2018-01-05 & 162.44 & 162.90 & 161.10 & 162.49 & 142.9952 & 5195800 & 0.9951381 & 0.9951380\\\\\n",
       "\t5 & 2018-01-08 & 162.66 & 163.91 & 161.70 & 163.47 & 143.8576 & 5237500 & 0.9940050 & 0.9940050\\\\\n",
       "\t6 & 2018-01-09 & 163.90 & 164.53 & 163.06 & 163.83 & 144.1744 & 4341800 & 0.9978026 & 0.9978027\\\\\n",
       "\\end{tabular}\n"
      ],
      "text/markdown": [
       "\n",
       "A data.frame: 6 × 9\n",
       "\n",
       "| <!--/--> | Date &lt;chr&gt; | Open &lt;dbl&gt; | High &lt;dbl&gt; | Low &lt;dbl&gt; | Close &lt;dbl&gt; | Adj.Close &lt;dbl&gt; | Volume &lt;int&gt; | Close_Ratio &lt;dbl&gt; | Adj.Close_Ratio &lt;dbl&gt; |\n",
       "|---|---|---|---|---|---|---|---|---|---|\n",
       "| 1 | 2018-01-02 | 154.50 | 154.81 | 153.54 | 154.25 | 135.7438 | 4202500 |        NA |        NA |\n",
       "| 2 | 2018-01-03 | 157.34 | 159.81 | 156.33 | 158.49 | 139.4751 | 9441600 | 0.9732475 | 0.9732472 |\n",
       "| 3 | 2018-01-04 | 159.65 | 162.32 | 159.37 | 161.70 | 142.3000 | 7556200 | 0.9801485 | 0.9801487 |\n",
       "| 4 | 2018-01-05 | 162.44 | 162.90 | 161.10 | 162.49 | 142.9952 | 5195800 | 0.9951381 | 0.9951380 |\n",
       "| 5 | 2018-01-08 | 162.66 | 163.91 | 161.70 | 163.47 | 143.8576 | 5237500 | 0.9940050 | 0.9940050 |\n",
       "| 6 | 2018-01-09 | 163.90 | 164.53 | 163.06 | 163.83 | 144.1744 | 4341800 | 0.9978026 | 0.9978027 |\n",
       "\n"
      ],
      "text/plain": [
       "  Date       Open   High   Low    Close  Adj.Close Volume  Close_Ratio\n",
       "1 2018-01-02 154.50 154.81 153.54 154.25 135.7438  4202500        NA  \n",
       "2 2018-01-03 157.34 159.81 156.33 158.49 139.4751  9441600 0.9732475  \n",
       "3 2018-01-04 159.65 162.32 159.37 161.70 142.3000  7556200 0.9801485  \n",
       "4 2018-01-05 162.44 162.90 161.10 162.49 142.9952  5195800 0.9951381  \n",
       "5 2018-01-08 162.66 163.91 161.70 163.47 143.8576  5237500 0.9940050  \n",
       "6 2018-01-09 163.90 164.53 163.06 163.83 144.1744  4341800 0.9978026  \n",
       "  Adj.Close_Ratio\n",
       "1        NA      \n",
       "2 0.9732472      \n",
       "3 0.9801487      \n",
       "4 0.9951380      \n",
       "5 0.9940050      \n",
       "6 0.9978027      "
      ]
     },
     "metadata": {},
     "output_type": "display_data"
    },
    {
     "data": {
      "text/html": [
       "<table>\n",
       "<caption>A data.frame: 6 × 9</caption>\n",
       "<thead>\n",
       "\t<tr><th></th><th scope=col>Date</th><th scope=col>Open</th><th scope=col>High</th><th scope=col>Low</th><th scope=col>Close</th><th scope=col>Adj.Close</th><th scope=col>Volume</th><th scope=col>Close_Ratio</th><th scope=col>Adj.Close_Ratio</th></tr>\n",
       "\t<tr><th></th><th scope=col>&lt;chr&gt;</th><th scope=col>&lt;dbl&gt;</th><th scope=col>&lt;dbl&gt;</th><th scope=col>&lt;dbl&gt;</th><th scope=col>&lt;dbl&gt;</th><th scope=col>&lt;dbl&gt;</th><th scope=col>&lt;int&gt;</th><th scope=col>&lt;dbl&gt;</th><th scope=col>&lt;dbl&gt;</th></tr>\n",
       "</thead>\n",
       "<tbody>\n",
       "\t<tr><th scope=row>1</th><td>2018-01-02</td><td>1048.34</td><td>1066.94</td><td>1045.230</td><td>1065.00</td><td>1065.00</td><td>1237600</td><td>       NA</td><td>       NA</td></tr>\n",
       "\t<tr><th scope=row>2</th><td>2018-01-03</td><td>1064.31</td><td>1086.29</td><td>1063.210</td><td>1082.48</td><td>1082.48</td><td>1430200</td><td>0.9838519</td><td>0.9838519</td></tr>\n",
       "\t<tr><th scope=row>3</th><td>2018-01-04</td><td>1088.00</td><td>1093.57</td><td>1084.002</td><td>1086.40</td><td>1086.40</td><td>1004600</td><td>0.9963917</td><td>0.9963917</td></tr>\n",
       "\t<tr><th scope=row>4</th><td>2018-01-05</td><td>1094.00</td><td>1104.25</td><td>1092.000</td><td>1102.23</td><td>1102.23</td><td>1279100</td><td>0.9856382</td><td>0.9856382</td></tr>\n",
       "\t<tr><th scope=row>5</th><td>2018-01-08</td><td>1102.23</td><td>1111.27</td><td>1101.620</td><td>1106.94</td><td>1106.94</td><td>1047600</td><td>0.9957451</td><td>0.9957451</td></tr>\n",
       "\t<tr><th scope=row>6</th><td>2018-01-09</td><td>1109.40</td><td>1110.57</td><td>1101.231</td><td>1106.26</td><td>1106.26</td><td> 902500</td><td>1.0006146</td><td>1.0006146</td></tr>\n",
       "</tbody>\n",
       "</table>\n"
      ],
      "text/latex": [
       "A data.frame: 6 × 9\n",
       "\\begin{tabular}{r|lllllllll}\n",
       "  & Date & Open & High & Low & Close & Adj.Close & Volume & Close\\_Ratio & Adj.Close\\_Ratio\\\\\n",
       "  & <chr> & <dbl> & <dbl> & <dbl> & <dbl> & <dbl> & <int> & <dbl> & <dbl>\\\\\n",
       "\\hline\n",
       "\t1 & 2018-01-02 & 1048.34 & 1066.94 & 1045.230 & 1065.00 & 1065.00 & 1237600 &        NA &        NA\\\\\n",
       "\t2 & 2018-01-03 & 1064.31 & 1086.29 & 1063.210 & 1082.48 & 1082.48 & 1430200 & 0.9838519 & 0.9838519\\\\\n",
       "\t3 & 2018-01-04 & 1088.00 & 1093.57 & 1084.002 & 1086.40 & 1086.40 & 1004600 & 0.9963917 & 0.9963917\\\\\n",
       "\t4 & 2018-01-05 & 1094.00 & 1104.25 & 1092.000 & 1102.23 & 1102.23 & 1279100 & 0.9856382 & 0.9856382\\\\\n",
       "\t5 & 2018-01-08 & 1102.23 & 1111.27 & 1101.620 & 1106.94 & 1106.94 & 1047600 & 0.9957451 & 0.9957451\\\\\n",
       "\t6 & 2018-01-09 & 1109.40 & 1110.57 & 1101.231 & 1106.26 & 1106.26 &  902500 & 1.0006146 & 1.0006146\\\\\n",
       "\\end{tabular}\n"
      ],
      "text/markdown": [
       "\n",
       "A data.frame: 6 × 9\n",
       "\n",
       "| <!--/--> | Date &lt;chr&gt; | Open &lt;dbl&gt; | High &lt;dbl&gt; | Low &lt;dbl&gt; | Close &lt;dbl&gt; | Adj.Close &lt;dbl&gt; | Volume &lt;int&gt; | Close_Ratio &lt;dbl&gt; | Adj.Close_Ratio &lt;dbl&gt; |\n",
       "|---|---|---|---|---|---|---|---|---|---|\n",
       "| 1 | 2018-01-02 | 1048.34 | 1066.94 | 1045.230 | 1065.00 | 1065.00 | 1237600 |        NA |        NA |\n",
       "| 2 | 2018-01-03 | 1064.31 | 1086.29 | 1063.210 | 1082.48 | 1082.48 | 1430200 | 0.9838519 | 0.9838519 |\n",
       "| 3 | 2018-01-04 | 1088.00 | 1093.57 | 1084.002 | 1086.40 | 1086.40 | 1004600 | 0.9963917 | 0.9963917 |\n",
       "| 4 | 2018-01-05 | 1094.00 | 1104.25 | 1092.000 | 1102.23 | 1102.23 | 1279100 | 0.9856382 | 0.9856382 |\n",
       "| 5 | 2018-01-08 | 1102.23 | 1111.27 | 1101.620 | 1106.94 | 1106.94 | 1047600 | 0.9957451 | 0.9957451 |\n",
       "| 6 | 2018-01-09 | 1109.40 | 1110.57 | 1101.231 | 1106.26 | 1106.26 |  902500 | 1.0006146 | 1.0006146 |\n",
       "\n"
      ],
      "text/plain": [
       "  Date       Open    High    Low      Close   Adj.Close Volume  Close_Ratio\n",
       "1 2018-01-02 1048.34 1066.94 1045.230 1065.00 1065.00   1237600        NA  \n",
       "2 2018-01-03 1064.31 1086.29 1063.210 1082.48 1082.48   1430200 0.9838519  \n",
       "3 2018-01-04 1088.00 1093.57 1084.002 1086.40 1086.40   1004600 0.9963917  \n",
       "4 2018-01-05 1094.00 1104.25 1092.000 1102.23 1102.23   1279100 0.9856382  \n",
       "5 2018-01-08 1102.23 1111.27 1101.620 1106.94 1106.94   1047600 0.9957451  \n",
       "6 2018-01-09 1109.40 1110.57 1101.231 1106.26 1106.26    902500 1.0006146  \n",
       "  Adj.Close_Ratio\n",
       "1        NA      \n",
       "2 0.9838519      \n",
       "3 0.9963917      \n",
       "4 0.9856382      \n",
       "5 0.9957451      \n",
       "6 1.0006146      "
      ]
     },
     "metadata": {},
     "output_type": "display_data"
    },
    {
     "data": {
      "text/html": [
       "<table>\n",
       "<caption>A data.frame: 6 × 9</caption>\n",
       "<thead>\n",
       "\t<tr><th></th><th scope=col>Date</th><th scope=col>Open</th><th scope=col>High</th><th scope=col>Low</th><th scope=col>Close</th><th scope=col>Adj.Close</th><th scope=col>Volume</th><th scope=col>Close_Ratio</th><th scope=col>Adj.Close_Ratio</th></tr>\n",
       "\t<tr><th></th><th scope=col>&lt;chr&gt;</th><th scope=col>&lt;dbl&gt;</th><th scope=col>&lt;dbl&gt;</th><th scope=col>&lt;dbl&gt;</th><th scope=col>&lt;dbl&gt;</th><th scope=col>&lt;dbl&gt;</th><th scope=col>&lt;int&gt;</th><th scope=col>&lt;dbl&gt;</th><th scope=col>&lt;dbl&gt;</th></tr>\n",
       "</thead>\n",
       "<tbody>\n",
       "\t<tr><th scope=row>1</th><td>2018-01-02</td><td>177.68</td><td>181.58</td><td>177.55</td><td>181.42</td><td>181.42</td><td>18151900</td><td>       NA</td><td>       NA</td></tr>\n",
       "\t<tr><th scope=row>2</th><td>2018-01-03</td><td>181.88</td><td>184.78</td><td>181.33</td><td>184.67</td><td>184.67</td><td>16886600</td><td>0.9824010</td><td>0.9824010</td></tr>\n",
       "\t<tr><th scope=row>3</th><td>2018-01-04</td><td>184.90</td><td>186.21</td><td>184.10</td><td>184.33</td><td>184.33</td><td>13880900</td><td>1.0018445</td><td>1.0018445</td></tr>\n",
       "\t<tr><th scope=row>4</th><td>2018-01-05</td><td>185.59</td><td>186.90</td><td>184.93</td><td>186.85</td><td>186.85</td><td>13574500</td><td>0.9865132</td><td>0.9865132</td></tr>\n",
       "\t<tr><th scope=row>5</th><td>2018-01-08</td><td>187.20</td><td>188.90</td><td>186.33</td><td>188.28</td><td>188.28</td><td>17994700</td><td>0.9924050</td><td>0.9924050</td></tr>\n",
       "\t<tr><th scope=row>6</th><td>2018-01-09</td><td>188.70</td><td>188.80</td><td>187.10</td><td>187.87</td><td>187.87</td><td>12393100</td><td>1.0021824</td><td>1.0021824</td></tr>\n",
       "</tbody>\n",
       "</table>\n"
      ],
      "text/latex": [
       "A data.frame: 6 × 9\n",
       "\\begin{tabular}{r|lllllllll}\n",
       "  & Date & Open & High & Low & Close & Adj.Close & Volume & Close\\_Ratio & Adj.Close\\_Ratio\\\\\n",
       "  & <chr> & <dbl> & <dbl> & <dbl> & <dbl> & <dbl> & <int> & <dbl> & <dbl>\\\\\n",
       "\\hline\n",
       "\t1 & 2018-01-02 & 177.68 & 181.58 & 177.55 & 181.42 & 181.42 & 18151900 &        NA &        NA\\\\\n",
       "\t2 & 2018-01-03 & 181.88 & 184.78 & 181.33 & 184.67 & 184.67 & 16886600 & 0.9824010 & 0.9824010\\\\\n",
       "\t3 & 2018-01-04 & 184.90 & 186.21 & 184.10 & 184.33 & 184.33 & 13880900 & 1.0018445 & 1.0018445\\\\\n",
       "\t4 & 2018-01-05 & 185.59 & 186.90 & 184.93 & 186.85 & 186.85 & 13574500 & 0.9865132 & 0.9865132\\\\\n",
       "\t5 & 2018-01-08 & 187.20 & 188.90 & 186.33 & 188.28 & 188.28 & 17994700 & 0.9924050 & 0.9924050\\\\\n",
       "\t6 & 2018-01-09 & 188.70 & 188.80 & 187.10 & 187.87 & 187.87 & 12393100 & 1.0021824 & 1.0021824\\\\\n",
       "\\end{tabular}\n"
      ],
      "text/markdown": [
       "\n",
       "A data.frame: 6 × 9\n",
       "\n",
       "| <!--/--> | Date &lt;chr&gt; | Open &lt;dbl&gt; | High &lt;dbl&gt; | Low &lt;dbl&gt; | Close &lt;dbl&gt; | Adj.Close &lt;dbl&gt; | Volume &lt;int&gt; | Close_Ratio &lt;dbl&gt; | Adj.Close_Ratio &lt;dbl&gt; |\n",
       "|---|---|---|---|---|---|---|---|---|---|\n",
       "| 1 | 2018-01-02 | 177.68 | 181.58 | 177.55 | 181.42 | 181.42 | 18151900 |        NA |        NA |\n",
       "| 2 | 2018-01-03 | 181.88 | 184.78 | 181.33 | 184.67 | 184.67 | 16886600 | 0.9824010 | 0.9824010 |\n",
       "| 3 | 2018-01-04 | 184.90 | 186.21 | 184.10 | 184.33 | 184.33 | 13880900 | 1.0018445 | 1.0018445 |\n",
       "| 4 | 2018-01-05 | 185.59 | 186.90 | 184.93 | 186.85 | 186.85 | 13574500 | 0.9865132 | 0.9865132 |\n",
       "| 5 | 2018-01-08 | 187.20 | 188.90 | 186.33 | 188.28 | 188.28 | 17994700 | 0.9924050 | 0.9924050 |\n",
       "| 6 | 2018-01-09 | 188.70 | 188.80 | 187.10 | 187.87 | 187.87 | 12393100 | 1.0021824 | 1.0021824 |\n",
       "\n"
      ],
      "text/plain": [
       "  Date       Open   High   Low    Close  Adj.Close Volume   Close_Ratio\n",
       "1 2018-01-02 177.68 181.58 177.55 181.42 181.42    18151900        NA  \n",
       "2 2018-01-03 181.88 184.78 181.33 184.67 184.67    16886600 0.9824010  \n",
       "3 2018-01-04 184.90 186.21 184.10 184.33 184.33    13880900 1.0018445  \n",
       "4 2018-01-05 185.59 186.90 184.93 186.85 186.85    13574500 0.9865132  \n",
       "5 2018-01-08 187.20 188.90 186.33 188.28 188.28    17994700 0.9924050  \n",
       "6 2018-01-09 188.70 188.80 187.10 187.87 187.87    12393100 1.0021824  \n",
       "  Adj.Close_Ratio\n",
       "1        NA      \n",
       "2 0.9824010      \n",
       "3 1.0018445      \n",
       "4 0.9865132      \n",
       "5 0.9924050      \n",
       "6 1.0021824      "
      ]
     },
     "metadata": {},
     "output_type": "display_data"
    },
    {
     "data": {
      "text/html": [
       "<table>\n",
       "<caption>A data.frame: 6 × 9</caption>\n",
       "<thead>\n",
       "\t<tr><th></th><th scope=col>Date</th><th scope=col>Open</th><th scope=col>High</th><th scope=col>Low</th><th scope=col>Close</th><th scope=col>Adj.Close</th><th scope=col>Volume</th><th scope=col>Close_Ratio</th><th scope=col>Adj.Close_Ratio</th></tr>\n",
       "\t<tr><th></th><th scope=col>&lt;chr&gt;</th><th scope=col>&lt;dbl&gt;</th><th scope=col>&lt;dbl&gt;</th><th scope=col>&lt;dbl&gt;</th><th scope=col>&lt;dbl&gt;</th><th scope=col>&lt;dbl&gt;</th><th scope=col>&lt;int&gt;</th><th scope=col>&lt;dbl&gt;</th><th scope=col>&lt;dbl&gt;</th></tr>\n",
       "</thead>\n",
       "<tbody>\n",
       "\t<tr><th scope=row>1</th><td>2018-01-02</td><td>86.13</td><td>86.31</td><td>85.50</td><td>85.95</td><td>82.59932</td><td>22483800</td><td>       NA</td><td>       NA</td></tr>\n",
       "\t<tr><th scope=row>2</th><td>2018-01-03</td><td>86.06</td><td>86.51</td><td>85.97</td><td>86.35</td><td>82.98373</td><td>26061400</td><td>0.9953677</td><td>0.9953677</td></tr>\n",
       "\t<tr><th scope=row>3</th><td>2018-01-04</td><td>86.59</td><td>87.66</td><td>86.57</td><td>87.11</td><td>83.71412</td><td>21912000</td><td>0.9912754</td><td>0.9912752</td></tr>\n",
       "\t<tr><th scope=row>4</th><td>2018-01-05</td><td>87.66</td><td>88.41</td><td>87.43</td><td>88.19</td><td>84.75201</td><td>23407100</td><td>0.9877537</td><td>0.9877537</td></tr>\n",
       "\t<tr><th scope=row>5</th><td>2018-01-08</td><td>88.20</td><td>88.58</td><td>87.60</td><td>88.28</td><td>84.83849</td><td>22113000</td><td>0.9989806</td><td>0.9989807</td></tr>\n",
       "\t<tr><th scope=row>6</th><td>2018-01-09</td><td>88.65</td><td>88.73</td><td>87.86</td><td>88.22</td><td>84.78084</td><td>19484300</td><td>1.0006801</td><td>1.0006800</td></tr>\n",
       "</tbody>\n",
       "</table>\n"
      ],
      "text/latex": [
       "A data.frame: 6 × 9\n",
       "\\begin{tabular}{r|lllllllll}\n",
       "  & Date & Open & High & Low & Close & Adj.Close & Volume & Close\\_Ratio & Adj.Close\\_Ratio\\\\\n",
       "  & <chr> & <dbl> & <dbl> & <dbl> & <dbl> & <dbl> & <int> & <dbl> & <dbl>\\\\\n",
       "\\hline\n",
       "\t1 & 2018-01-02 & 86.13 & 86.31 & 85.50 & 85.95 & 82.59932 & 22483800 &        NA &        NA\\\\\n",
       "\t2 & 2018-01-03 & 86.06 & 86.51 & 85.97 & 86.35 & 82.98373 & 26061400 & 0.9953677 & 0.9953677\\\\\n",
       "\t3 & 2018-01-04 & 86.59 & 87.66 & 86.57 & 87.11 & 83.71412 & 21912000 & 0.9912754 & 0.9912752\\\\\n",
       "\t4 & 2018-01-05 & 87.66 & 88.41 & 87.43 & 88.19 & 84.75201 & 23407100 & 0.9877537 & 0.9877537\\\\\n",
       "\t5 & 2018-01-08 & 88.20 & 88.58 & 87.60 & 88.28 & 84.83849 & 22113000 & 0.9989806 & 0.9989807\\\\\n",
       "\t6 & 2018-01-09 & 88.65 & 88.73 & 87.86 & 88.22 & 84.78084 & 19484300 & 1.0006801 & 1.0006800\\\\\n",
       "\\end{tabular}\n"
      ],
      "text/markdown": [
       "\n",
       "A data.frame: 6 × 9\n",
       "\n",
       "| <!--/--> | Date &lt;chr&gt; | Open &lt;dbl&gt; | High &lt;dbl&gt; | Low &lt;dbl&gt; | Close &lt;dbl&gt; | Adj.Close &lt;dbl&gt; | Volume &lt;int&gt; | Close_Ratio &lt;dbl&gt; | Adj.Close_Ratio &lt;dbl&gt; |\n",
       "|---|---|---|---|---|---|---|---|---|---|\n",
       "| 1 | 2018-01-02 | 86.13 | 86.31 | 85.50 | 85.95 | 82.59932 | 22483800 |        NA |        NA |\n",
       "| 2 | 2018-01-03 | 86.06 | 86.51 | 85.97 | 86.35 | 82.98373 | 26061400 | 0.9953677 | 0.9953677 |\n",
       "| 3 | 2018-01-04 | 86.59 | 87.66 | 86.57 | 87.11 | 83.71412 | 21912000 | 0.9912754 | 0.9912752 |\n",
       "| 4 | 2018-01-05 | 87.66 | 88.41 | 87.43 | 88.19 | 84.75201 | 23407100 | 0.9877537 | 0.9877537 |\n",
       "| 5 | 2018-01-08 | 88.20 | 88.58 | 87.60 | 88.28 | 84.83849 | 22113000 | 0.9989806 | 0.9989807 |\n",
       "| 6 | 2018-01-09 | 88.65 | 88.73 | 87.86 | 88.22 | 84.78084 | 19484300 | 1.0006801 | 1.0006800 |\n",
       "\n"
      ],
      "text/plain": [
       "  Date       Open  High  Low   Close Adj.Close Volume   Close_Ratio\n",
       "1 2018-01-02 86.13 86.31 85.50 85.95 82.59932  22483800        NA  \n",
       "2 2018-01-03 86.06 86.51 85.97 86.35 82.98373  26061400 0.9953677  \n",
       "3 2018-01-04 86.59 87.66 86.57 87.11 83.71412  21912000 0.9912754  \n",
       "4 2018-01-05 87.66 88.41 87.43 88.19 84.75201  23407100 0.9877537  \n",
       "5 2018-01-08 88.20 88.58 87.60 88.28 84.83849  22113000 0.9989806  \n",
       "6 2018-01-09 88.65 88.73 87.86 88.22 84.78084  19484300 1.0006801  \n",
       "  Adj.Close_Ratio\n",
       "1        NA      \n",
       "2 0.9953677      \n",
       "3 0.9912752      \n",
       "4 0.9877537      \n",
       "5 0.9989807      \n",
       "6 1.0006800      "
      ]
     },
     "metadata": {},
     "output_type": "display_data"
    },
    {
     "data": {
      "text/html": [
       "<table>\n",
       "<caption>A data.frame: 6 × 9</caption>\n",
       "<thead>\n",
       "\t<tr><th></th><th scope=col>Date</th><th scope=col>Open</th><th scope=col>High</th><th scope=col>Low</th><th scope=col>Close</th><th scope=col>Adj.Close</th><th scope=col>Volume</th><th scope=col>Close_Ratio</th><th scope=col>Adj.Close_Ratio</th></tr>\n",
       "\t<tr><th></th><th scope=col>&lt;chr&gt;</th><th scope=col>&lt;dbl&gt;</th><th scope=col>&lt;dbl&gt;</th><th scope=col>&lt;dbl&gt;</th><th scope=col>&lt;dbl&gt;</th><th scope=col>&lt;dbl&gt;</th><th scope=col>&lt;int&gt;</th><th scope=col>&lt;dbl&gt;</th><th scope=col>&lt;dbl&gt;</th></tr>\n",
       "</thead>\n",
       "<tbody>\n",
       "\t<tr><th scope=row>1</th><td>2018-01-02</td><td>1172.00</td><td>1190.00</td><td>1170.51</td><td>1189.01</td><td>1189.01</td><td>2694500</td><td>       NA</td><td>       NA</td></tr>\n",
       "\t<tr><th scope=row>2</th><td>2018-01-03</td><td>1188.30</td><td>1205.49</td><td>1188.30</td><td>1204.20</td><td>1204.20</td><td>3108800</td><td>0.9873859</td><td>0.9873859</td></tr>\n",
       "\t<tr><th scope=row>3</th><td>2018-01-04</td><td>1205.00</td><td>1215.87</td><td>1204.66</td><td>1209.59</td><td>1209.59</td><td>3022100</td><td>0.9955439</td><td>0.9955439</td></tr>\n",
       "\t<tr><th scope=row>4</th><td>2018-01-05</td><td>1217.51</td><td>1229.14</td><td>1210.00</td><td>1229.14</td><td>1229.14</td><td>3544700</td><td>0.9840945</td><td>0.9840945</td></tr>\n",
       "\t<tr><th scope=row>5</th><td>2018-01-08</td><td>1236.00</td><td>1253.08</td><td>1232.03</td><td>1246.87</td><td>1246.87</td><td>4279500</td><td>0.9857804</td><td>0.9857804</td></tr>\n",
       "\t<tr><th scope=row>6</th><td>2018-01-09</td><td>1256.90</td><td>1259.33</td><td>1241.76</td><td>1252.70</td><td>1252.70</td><td>3661300</td><td>0.9953461</td><td>0.9953461</td></tr>\n",
       "</tbody>\n",
       "</table>\n"
      ],
      "text/latex": [
       "A data.frame: 6 × 9\n",
       "\\begin{tabular}{r|lllllllll}\n",
       "  & Date & Open & High & Low & Close & Adj.Close & Volume & Close\\_Ratio & Adj.Close\\_Ratio\\\\\n",
       "  & <chr> & <dbl> & <dbl> & <dbl> & <dbl> & <dbl> & <int> & <dbl> & <dbl>\\\\\n",
       "\\hline\n",
       "\t1 & 2018-01-02 & 1172.00 & 1190.00 & 1170.51 & 1189.01 & 1189.01 & 2694500 &        NA &        NA\\\\\n",
       "\t2 & 2018-01-03 & 1188.30 & 1205.49 & 1188.30 & 1204.20 & 1204.20 & 3108800 & 0.9873859 & 0.9873859\\\\\n",
       "\t3 & 2018-01-04 & 1205.00 & 1215.87 & 1204.66 & 1209.59 & 1209.59 & 3022100 & 0.9955439 & 0.9955439\\\\\n",
       "\t4 & 2018-01-05 & 1217.51 & 1229.14 & 1210.00 & 1229.14 & 1229.14 & 3544700 & 0.9840945 & 0.9840945\\\\\n",
       "\t5 & 2018-01-08 & 1236.00 & 1253.08 & 1232.03 & 1246.87 & 1246.87 & 4279500 & 0.9857804 & 0.9857804\\\\\n",
       "\t6 & 2018-01-09 & 1256.90 & 1259.33 & 1241.76 & 1252.70 & 1252.70 & 3661300 & 0.9953461 & 0.9953461\\\\\n",
       "\\end{tabular}\n"
      ],
      "text/markdown": [
       "\n",
       "A data.frame: 6 × 9\n",
       "\n",
       "| <!--/--> | Date &lt;chr&gt; | Open &lt;dbl&gt; | High &lt;dbl&gt; | Low &lt;dbl&gt; | Close &lt;dbl&gt; | Adj.Close &lt;dbl&gt; | Volume &lt;int&gt; | Close_Ratio &lt;dbl&gt; | Adj.Close_Ratio &lt;dbl&gt; |\n",
       "|---|---|---|---|---|---|---|---|---|---|\n",
       "| 1 | 2018-01-02 | 1172.00 | 1190.00 | 1170.51 | 1189.01 | 1189.01 | 2694500 |        NA |        NA |\n",
       "| 2 | 2018-01-03 | 1188.30 | 1205.49 | 1188.30 | 1204.20 | 1204.20 | 3108800 | 0.9873859 | 0.9873859 |\n",
       "| 3 | 2018-01-04 | 1205.00 | 1215.87 | 1204.66 | 1209.59 | 1209.59 | 3022100 | 0.9955439 | 0.9955439 |\n",
       "| 4 | 2018-01-05 | 1217.51 | 1229.14 | 1210.00 | 1229.14 | 1229.14 | 3544700 | 0.9840945 | 0.9840945 |\n",
       "| 5 | 2018-01-08 | 1236.00 | 1253.08 | 1232.03 | 1246.87 | 1246.87 | 4279500 | 0.9857804 | 0.9857804 |\n",
       "| 6 | 2018-01-09 | 1256.90 | 1259.33 | 1241.76 | 1252.70 | 1252.70 | 3661300 | 0.9953461 | 0.9953461 |\n",
       "\n"
      ],
      "text/plain": [
       "  Date       Open    High    Low     Close   Adj.Close Volume  Close_Ratio\n",
       "1 2018-01-02 1172.00 1190.00 1170.51 1189.01 1189.01   2694500        NA  \n",
       "2 2018-01-03 1188.30 1205.49 1188.30 1204.20 1204.20   3108800 0.9873859  \n",
       "3 2018-01-04 1205.00 1215.87 1204.66 1209.59 1209.59   3022100 0.9955439  \n",
       "4 2018-01-05 1217.51 1229.14 1210.00 1229.14 1229.14   3544700 0.9840945  \n",
       "5 2018-01-08 1236.00 1253.08 1232.03 1246.87 1246.87   4279500 0.9857804  \n",
       "6 2018-01-09 1256.90 1259.33 1241.76 1252.70 1252.70   3661300 0.9953461  \n",
       "  Adj.Close_Ratio\n",
       "1        NA      \n",
       "2 0.9873859      \n",
       "3 0.9955439      \n",
       "4 0.9840945      \n",
       "5 0.9857804      \n",
       "6 0.9953461      "
      ]
     },
     "metadata": {},
     "output_type": "display_data"
    },
    {
     "data": {
      "text/html": [
       "<table>\n",
       "<caption>A data.frame: 6 × 9</caption>\n",
       "<thead>\n",
       "\t<tr><th></th><th scope=col>Date</th><th scope=col>Open</th><th scope=col>High</th><th scope=col>Low</th><th scope=col>Close</th><th scope=col>Adj.Close</th><th scope=col>Volume</th><th scope=col>Close_Ratio</th><th scope=col>Adj.Close_Ratio</th></tr>\n",
       "\t<tr><th></th><th scope=col>&lt;chr&gt;</th><th scope=col>&lt;dbl&gt;</th><th scope=col>&lt;dbl&gt;</th><th scope=col>&lt;dbl&gt;</th><th scope=col>&lt;dbl&gt;</th><th scope=col>&lt;dbl&gt;</th><th scope=col>&lt;int&gt;</th><th scope=col>&lt;dbl&gt;</th><th scope=col>&lt;dbl&gt;</th></tr>\n",
       "</thead>\n",
       "<tbody>\n",
       "\t<tr><th scope=row>1</th><td>2018-01-02</td><td>42.5400</td><td>43.0750</td><td>42.3150</td><td>43.0650</td><td>41.51358</td><td>102223600</td><td>       NA</td><td>       NA</td></tr>\n",
       "\t<tr><th scope=row>2</th><td>2018-01-03</td><td>43.1325</td><td>43.6375</td><td>42.9900</td><td>43.0575</td><td>41.50634</td><td>118071600</td><td>1.0001742</td><td>1.0001743</td></tr>\n",
       "\t<tr><th scope=row>3</th><td>2018-01-04</td><td>43.1350</td><td>43.3675</td><td>43.0200</td><td>43.2575</td><td>41.69914</td><td> 89738400</td><td>0.9953765</td><td>0.9953765</td></tr>\n",
       "\t<tr><th scope=row>4</th><td>2018-01-05</td><td>43.3600</td><td>43.8425</td><td>43.2625</td><td>43.7500</td><td>42.17389</td><td> 94640000</td><td>0.9887429</td><td>0.9887429</td></tr>\n",
       "\t<tr><th scope=row>5</th><td>2018-01-08</td><td>43.5875</td><td>43.9025</td><td>43.4825</td><td>43.5875</td><td>42.01725</td><td> 82271200</td><td>1.0037281</td><td>1.0037280</td></tr>\n",
       "\t<tr><th scope=row>6</th><td>2018-01-09</td><td>43.6375</td><td>43.7650</td><td>43.3525</td><td>43.5825</td><td>42.01243</td><td> 86336000</td><td>1.0001148</td><td>1.0001148</td></tr>\n",
       "</tbody>\n",
       "</table>\n"
      ],
      "text/latex": [
       "A data.frame: 6 × 9\n",
       "\\begin{tabular}{r|lllllllll}\n",
       "  & Date & Open & High & Low & Close & Adj.Close & Volume & Close\\_Ratio & Adj.Close\\_Ratio\\\\\n",
       "  & <chr> & <dbl> & <dbl> & <dbl> & <dbl> & <dbl> & <int> & <dbl> & <dbl>\\\\\n",
       "\\hline\n",
       "\t1 & 2018-01-02 & 42.5400 & 43.0750 & 42.3150 & 43.0650 & 41.51358 & 102223600 &        NA &        NA\\\\\n",
       "\t2 & 2018-01-03 & 43.1325 & 43.6375 & 42.9900 & 43.0575 & 41.50634 & 118071600 & 1.0001742 & 1.0001743\\\\\n",
       "\t3 & 2018-01-04 & 43.1350 & 43.3675 & 43.0200 & 43.2575 & 41.69914 &  89738400 & 0.9953765 & 0.9953765\\\\\n",
       "\t4 & 2018-01-05 & 43.3600 & 43.8425 & 43.2625 & 43.7500 & 42.17389 &  94640000 & 0.9887429 & 0.9887429\\\\\n",
       "\t5 & 2018-01-08 & 43.5875 & 43.9025 & 43.4825 & 43.5875 & 42.01725 &  82271200 & 1.0037281 & 1.0037280\\\\\n",
       "\t6 & 2018-01-09 & 43.6375 & 43.7650 & 43.3525 & 43.5825 & 42.01243 &  86336000 & 1.0001148 & 1.0001148\\\\\n",
       "\\end{tabular}\n"
      ],
      "text/markdown": [
       "\n",
       "A data.frame: 6 × 9\n",
       "\n",
       "| <!--/--> | Date &lt;chr&gt; | Open &lt;dbl&gt; | High &lt;dbl&gt; | Low &lt;dbl&gt; | Close &lt;dbl&gt; | Adj.Close &lt;dbl&gt; | Volume &lt;int&gt; | Close_Ratio &lt;dbl&gt; | Adj.Close_Ratio &lt;dbl&gt; |\n",
       "|---|---|---|---|---|---|---|---|---|---|\n",
       "| 1 | 2018-01-02 | 42.5400 | 43.0750 | 42.3150 | 43.0650 | 41.51358 | 102223600 |        NA |        NA |\n",
       "| 2 | 2018-01-03 | 43.1325 | 43.6375 | 42.9900 | 43.0575 | 41.50634 | 118071600 | 1.0001742 | 1.0001743 |\n",
       "| 3 | 2018-01-04 | 43.1350 | 43.3675 | 43.0200 | 43.2575 | 41.69914 |  89738400 | 0.9953765 | 0.9953765 |\n",
       "| 4 | 2018-01-05 | 43.3600 | 43.8425 | 43.2625 | 43.7500 | 42.17389 |  94640000 | 0.9887429 | 0.9887429 |\n",
       "| 5 | 2018-01-08 | 43.5875 | 43.9025 | 43.4825 | 43.5875 | 42.01725 |  82271200 | 1.0037281 | 1.0037280 |\n",
       "| 6 | 2018-01-09 | 43.6375 | 43.7650 | 43.3525 | 43.5825 | 42.01243 |  86336000 | 1.0001148 | 1.0001148 |\n",
       "\n"
      ],
      "text/plain": [
       "  Date       Open    High    Low     Close   Adj.Close Volume    Close_Ratio\n",
       "1 2018-01-02 42.5400 43.0750 42.3150 43.0650 41.51358  102223600        NA  \n",
       "2 2018-01-03 43.1325 43.6375 42.9900 43.0575 41.50634  118071600 1.0001742  \n",
       "3 2018-01-04 43.1350 43.3675 43.0200 43.2575 41.69914   89738400 0.9953765  \n",
       "4 2018-01-05 43.3600 43.8425 43.2625 43.7500 42.17389   94640000 0.9887429  \n",
       "5 2018-01-08 43.5875 43.9025 43.4825 43.5875 42.01725   82271200 1.0037281  \n",
       "6 2018-01-09 43.6375 43.7650 43.3525 43.5825 42.01243   86336000 1.0001148  \n",
       "  Adj.Close_Ratio\n",
       "1        NA      \n",
       "2 1.0001743      \n",
       "3 0.9953765      \n",
       "4 0.9887429      \n",
       "5 1.0037280      \n",
       "6 1.0001148      "
      ]
     },
     "metadata": {},
     "output_type": "display_data"
    }
   ],
   "source": [
    "#Finding \"Adj.Close_Ratio\" and adding it to the dataframe\n",
    "#IBM\n",
    "ibm_adj_rat = ibm[-nrow(ibm),6] / ibm[-1,6]\n",
    "ibm$Adj.Close_Ratio = c(NA,ibm_adj_rat)\n",
    "head(ibm)\n",
    "\n",
    "#GOOG\n",
    "goog_adj_rat = goog[-nrow(goog),6] / goog[-1,6]\n",
    "goog$Adj.Close_Ratio = c(NA,goog_adj_rat)\n",
    "head(goog)\n",
    "\n",
    "#FB\n",
    "fb_adj_rat = fb[-nrow(fb),6] / fb[-1,6]\n",
    "fb$Adj.Close_Ratio = c(NA,fb_adj_rat)\n",
    "head(fb)\n",
    "\n",
    "#MSFT\n",
    "msft_adj_rat = msft[-nrow(msft),6] / msft[-1,6]\n",
    "msft$Adj.Close_Ratio = c(NA,msft_adj_rat)\n",
    "head(msft)\n",
    "\n",
    "#AMZN\n",
    "amzn_adj_rat = amzn[-nrow(amzn),6] / amzn[-1,6]\n",
    "amzn$Adj.Close_Ratio = c(NA,amzn_adj_rat)\n",
    "head(amzn)\n",
    "\n",
    "#AAPL\n",
    "aapl_adj_rat = aapl[-nrow(aapl),6] / aapl[-1,6]\n",
    "aapl$Adj.Close_Ratio = c(NA,aapl_adj_rat)\n",
    "head(aapl)\n",
    "\n",
    "#Dataframe with \"Adj.Close_Ratio\" column displayed below"
   ]
  },
  {
   "cell_type": "code",
   "execution_count": 67,
   "metadata": {},
   "outputs": [
    {
     "data": {
      "text/html": [
       "<table>\n",
       "<caption>A data.frame: 6 × 10</caption>\n",
       "<thead>\n",
       "\t<tr><th></th><th scope=col>Date</th><th scope=col>Open</th><th scope=col>High</th><th scope=col>Low</th><th scope=col>Close</th><th scope=col>Adj.Close</th><th scope=col>Volume</th><th scope=col>Close_Ratio</th><th scope=col>Adj.Close_Ratio</th><th scope=col>Difference_Ratio</th></tr>\n",
       "\t<tr><th></th><th scope=col>&lt;chr&gt;</th><th scope=col>&lt;dbl&gt;</th><th scope=col>&lt;dbl&gt;</th><th scope=col>&lt;dbl&gt;</th><th scope=col>&lt;dbl&gt;</th><th scope=col>&lt;dbl&gt;</th><th scope=col>&lt;int&gt;</th><th scope=col>&lt;dbl&gt;</th><th scope=col>&lt;dbl&gt;</th><th scope=col>&lt;dbl&gt;</th></tr>\n",
       "</thead>\n",
       "<tbody>\n",
       "\t<tr><th scope=row>1</th><td>2018-01-02</td><td>154.50</td><td>154.81</td><td>153.54</td><td>154.25</td><td>135.7438</td><td>4202500</td><td>       NA</td><td>       NA</td><td>           NA</td></tr>\n",
       "\t<tr><th scope=row>2</th><td>2018-01-03</td><td>157.34</td><td>159.81</td><td>156.33</td><td>158.49</td><td>139.4751</td><td>9441600</td><td>0.9732475</td><td>0.9732472</td><td> 3.228902e-07</td></tr>\n",
       "\t<tr><th scope=row>3</th><td>2018-01-04</td><td>159.65</td><td>162.32</td><td>159.37</td><td>161.70</td><td>142.3000</td><td>7556200</td><td>0.9801485</td><td>0.9801487</td><td>-1.937099e-07</td></tr>\n",
       "\t<tr><th scope=row>4</th><td>2018-01-05</td><td>162.44</td><td>162.90</td><td>161.10</td><td>162.49</td><td>142.9952</td><td>5195800</td><td>0.9951381</td><td>0.9951380</td><td> 6.691049e-08</td></tr>\n",
       "\t<tr><th scope=row>5</th><td>2018-01-08</td><td>162.66</td><td>163.91</td><td>161.70</td><td>163.47</td><td>143.8576</td><td>5237500</td><td>0.9940050</td><td>0.9940050</td><td> 4.466596e-08</td></tr>\n",
       "\t<tr><th scope=row>6</th><td>2018-01-09</td><td>163.90</td><td>164.53</td><td>163.06</td><td>163.83</td><td>144.1744</td><td>4341800</td><td>0.9978026</td><td>0.9978027</td><td>-1.503966e-07</td></tr>\n",
       "</tbody>\n",
       "</table>\n"
      ],
      "text/latex": [
       "A data.frame: 6 × 10\n",
       "\\begin{tabular}{r|llllllllll}\n",
       "  & Date & Open & High & Low & Close & Adj.Close & Volume & Close\\_Ratio & Adj.Close\\_Ratio & Difference\\_Ratio\\\\\n",
       "  & <chr> & <dbl> & <dbl> & <dbl> & <dbl> & <dbl> & <int> & <dbl> & <dbl> & <dbl>\\\\\n",
       "\\hline\n",
       "\t1 & 2018-01-02 & 154.50 & 154.81 & 153.54 & 154.25 & 135.7438 & 4202500 &        NA &        NA &            NA\\\\\n",
       "\t2 & 2018-01-03 & 157.34 & 159.81 & 156.33 & 158.49 & 139.4751 & 9441600 & 0.9732475 & 0.9732472 &  3.228902e-07\\\\\n",
       "\t3 & 2018-01-04 & 159.65 & 162.32 & 159.37 & 161.70 & 142.3000 & 7556200 & 0.9801485 & 0.9801487 & -1.937099e-07\\\\\n",
       "\t4 & 2018-01-05 & 162.44 & 162.90 & 161.10 & 162.49 & 142.9952 & 5195800 & 0.9951381 & 0.9951380 &  6.691049e-08\\\\\n",
       "\t5 & 2018-01-08 & 162.66 & 163.91 & 161.70 & 163.47 & 143.8576 & 5237500 & 0.9940050 & 0.9940050 &  4.466596e-08\\\\\n",
       "\t6 & 2018-01-09 & 163.90 & 164.53 & 163.06 & 163.83 & 144.1744 & 4341800 & 0.9978026 & 0.9978027 & -1.503966e-07\\\\\n",
       "\\end{tabular}\n"
      ],
      "text/markdown": [
       "\n",
       "A data.frame: 6 × 10\n",
       "\n",
       "| <!--/--> | Date &lt;chr&gt; | Open &lt;dbl&gt; | High &lt;dbl&gt; | Low &lt;dbl&gt; | Close &lt;dbl&gt; | Adj.Close &lt;dbl&gt; | Volume &lt;int&gt; | Close_Ratio &lt;dbl&gt; | Adj.Close_Ratio &lt;dbl&gt; | Difference_Ratio &lt;dbl&gt; |\n",
       "|---|---|---|---|---|---|---|---|---|---|---|\n",
       "| 1 | 2018-01-02 | 154.50 | 154.81 | 153.54 | 154.25 | 135.7438 | 4202500 |        NA |        NA |            NA |\n",
       "| 2 | 2018-01-03 | 157.34 | 159.81 | 156.33 | 158.49 | 139.4751 | 9441600 | 0.9732475 | 0.9732472 |  3.228902e-07 |\n",
       "| 3 | 2018-01-04 | 159.65 | 162.32 | 159.37 | 161.70 | 142.3000 | 7556200 | 0.9801485 | 0.9801487 | -1.937099e-07 |\n",
       "| 4 | 2018-01-05 | 162.44 | 162.90 | 161.10 | 162.49 | 142.9952 | 5195800 | 0.9951381 | 0.9951380 |  6.691049e-08 |\n",
       "| 5 | 2018-01-08 | 162.66 | 163.91 | 161.70 | 163.47 | 143.8576 | 5237500 | 0.9940050 | 0.9940050 |  4.466596e-08 |\n",
       "| 6 | 2018-01-09 | 163.90 | 164.53 | 163.06 | 163.83 | 144.1744 | 4341800 | 0.9978026 | 0.9978027 | -1.503966e-07 |\n",
       "\n"
      ],
      "text/plain": [
       "  Date       Open   High   Low    Close  Adj.Close Volume  Close_Ratio\n",
       "1 2018-01-02 154.50 154.81 153.54 154.25 135.7438  4202500        NA  \n",
       "2 2018-01-03 157.34 159.81 156.33 158.49 139.4751  9441600 0.9732475  \n",
       "3 2018-01-04 159.65 162.32 159.37 161.70 142.3000  7556200 0.9801485  \n",
       "4 2018-01-05 162.44 162.90 161.10 162.49 142.9952  5195800 0.9951381  \n",
       "5 2018-01-08 162.66 163.91 161.70 163.47 143.8576  5237500 0.9940050  \n",
       "6 2018-01-09 163.90 164.53 163.06 163.83 144.1744  4341800 0.9978026  \n",
       "  Adj.Close_Ratio Difference_Ratio\n",
       "1        NA                  NA   \n",
       "2 0.9732472        3.228902e-07   \n",
       "3 0.9801487       -1.937099e-07   \n",
       "4 0.9951380        6.691049e-08   \n",
       "5 0.9940050        4.466596e-08   \n",
       "6 0.9978027       -1.503966e-07   "
      ]
     },
     "metadata": {},
     "output_type": "display_data"
    },
    {
     "data": {
      "text/html": [
       "<table>\n",
       "<caption>A data.frame: 6 × 10</caption>\n",
       "<thead>\n",
       "\t<tr><th></th><th scope=col>Date</th><th scope=col>Open</th><th scope=col>High</th><th scope=col>Low</th><th scope=col>Close</th><th scope=col>Adj.Close</th><th scope=col>Volume</th><th scope=col>Close_Ratio</th><th scope=col>Adj.Close_Ratio</th><th scope=col>Difference_Ratio</th></tr>\n",
       "\t<tr><th></th><th scope=col>&lt;chr&gt;</th><th scope=col>&lt;dbl&gt;</th><th scope=col>&lt;dbl&gt;</th><th scope=col>&lt;dbl&gt;</th><th scope=col>&lt;dbl&gt;</th><th scope=col>&lt;dbl&gt;</th><th scope=col>&lt;int&gt;</th><th scope=col>&lt;dbl&gt;</th><th scope=col>&lt;dbl&gt;</th><th scope=col>&lt;dbl&gt;</th></tr>\n",
       "</thead>\n",
       "<tbody>\n",
       "\t<tr><th scope=row>1</th><td>2018-01-02</td><td>1048.34</td><td>1066.94</td><td>1045.230</td><td>1065.00</td><td>1065.00</td><td>1237600</td><td>       NA</td><td>       NA</td><td>NA</td></tr>\n",
       "\t<tr><th scope=row>2</th><td>2018-01-03</td><td>1064.31</td><td>1086.29</td><td>1063.210</td><td>1082.48</td><td>1082.48</td><td>1430200</td><td>0.9838519</td><td>0.9838519</td><td> 0</td></tr>\n",
       "\t<tr><th scope=row>3</th><td>2018-01-04</td><td>1088.00</td><td>1093.57</td><td>1084.002</td><td>1086.40</td><td>1086.40</td><td>1004600</td><td>0.9963917</td><td>0.9963917</td><td> 0</td></tr>\n",
       "\t<tr><th scope=row>4</th><td>2018-01-05</td><td>1094.00</td><td>1104.25</td><td>1092.000</td><td>1102.23</td><td>1102.23</td><td>1279100</td><td>0.9856382</td><td>0.9856382</td><td> 0</td></tr>\n",
       "\t<tr><th scope=row>5</th><td>2018-01-08</td><td>1102.23</td><td>1111.27</td><td>1101.620</td><td>1106.94</td><td>1106.94</td><td>1047600</td><td>0.9957451</td><td>0.9957451</td><td> 0</td></tr>\n",
       "\t<tr><th scope=row>6</th><td>2018-01-09</td><td>1109.40</td><td>1110.57</td><td>1101.231</td><td>1106.26</td><td>1106.26</td><td> 902500</td><td>1.0006146</td><td>1.0006146</td><td> 0</td></tr>\n",
       "</tbody>\n",
       "</table>\n"
      ],
      "text/latex": [
       "A data.frame: 6 × 10\n",
       "\\begin{tabular}{r|llllllllll}\n",
       "  & Date & Open & High & Low & Close & Adj.Close & Volume & Close\\_Ratio & Adj.Close\\_Ratio & Difference\\_Ratio\\\\\n",
       "  & <chr> & <dbl> & <dbl> & <dbl> & <dbl> & <dbl> & <int> & <dbl> & <dbl> & <dbl>\\\\\n",
       "\\hline\n",
       "\t1 & 2018-01-02 & 1048.34 & 1066.94 & 1045.230 & 1065.00 & 1065.00 & 1237600 &        NA &        NA & NA\\\\\n",
       "\t2 & 2018-01-03 & 1064.31 & 1086.29 & 1063.210 & 1082.48 & 1082.48 & 1430200 & 0.9838519 & 0.9838519 &  0\\\\\n",
       "\t3 & 2018-01-04 & 1088.00 & 1093.57 & 1084.002 & 1086.40 & 1086.40 & 1004600 & 0.9963917 & 0.9963917 &  0\\\\\n",
       "\t4 & 2018-01-05 & 1094.00 & 1104.25 & 1092.000 & 1102.23 & 1102.23 & 1279100 & 0.9856382 & 0.9856382 &  0\\\\\n",
       "\t5 & 2018-01-08 & 1102.23 & 1111.27 & 1101.620 & 1106.94 & 1106.94 & 1047600 & 0.9957451 & 0.9957451 &  0\\\\\n",
       "\t6 & 2018-01-09 & 1109.40 & 1110.57 & 1101.231 & 1106.26 & 1106.26 &  902500 & 1.0006146 & 1.0006146 &  0\\\\\n",
       "\\end{tabular}\n"
      ],
      "text/markdown": [
       "\n",
       "A data.frame: 6 × 10\n",
       "\n",
       "| <!--/--> | Date &lt;chr&gt; | Open &lt;dbl&gt; | High &lt;dbl&gt; | Low &lt;dbl&gt; | Close &lt;dbl&gt; | Adj.Close &lt;dbl&gt; | Volume &lt;int&gt; | Close_Ratio &lt;dbl&gt; | Adj.Close_Ratio &lt;dbl&gt; | Difference_Ratio &lt;dbl&gt; |\n",
       "|---|---|---|---|---|---|---|---|---|---|---|\n",
       "| 1 | 2018-01-02 | 1048.34 | 1066.94 | 1045.230 | 1065.00 | 1065.00 | 1237600 |        NA |        NA | NA |\n",
       "| 2 | 2018-01-03 | 1064.31 | 1086.29 | 1063.210 | 1082.48 | 1082.48 | 1430200 | 0.9838519 | 0.9838519 |  0 |\n",
       "| 3 | 2018-01-04 | 1088.00 | 1093.57 | 1084.002 | 1086.40 | 1086.40 | 1004600 | 0.9963917 | 0.9963917 |  0 |\n",
       "| 4 | 2018-01-05 | 1094.00 | 1104.25 | 1092.000 | 1102.23 | 1102.23 | 1279100 | 0.9856382 | 0.9856382 |  0 |\n",
       "| 5 | 2018-01-08 | 1102.23 | 1111.27 | 1101.620 | 1106.94 | 1106.94 | 1047600 | 0.9957451 | 0.9957451 |  0 |\n",
       "| 6 | 2018-01-09 | 1109.40 | 1110.57 | 1101.231 | 1106.26 | 1106.26 |  902500 | 1.0006146 | 1.0006146 |  0 |\n",
       "\n"
      ],
      "text/plain": [
       "  Date       Open    High    Low      Close   Adj.Close Volume  Close_Ratio\n",
       "1 2018-01-02 1048.34 1066.94 1045.230 1065.00 1065.00   1237600        NA  \n",
       "2 2018-01-03 1064.31 1086.29 1063.210 1082.48 1082.48   1430200 0.9838519  \n",
       "3 2018-01-04 1088.00 1093.57 1084.002 1086.40 1086.40   1004600 0.9963917  \n",
       "4 2018-01-05 1094.00 1104.25 1092.000 1102.23 1102.23   1279100 0.9856382  \n",
       "5 2018-01-08 1102.23 1111.27 1101.620 1106.94 1106.94   1047600 0.9957451  \n",
       "6 2018-01-09 1109.40 1110.57 1101.231 1106.26 1106.26    902500 1.0006146  \n",
       "  Adj.Close_Ratio Difference_Ratio\n",
       "1        NA       NA              \n",
       "2 0.9838519        0              \n",
       "3 0.9963917        0              \n",
       "4 0.9856382        0              \n",
       "5 0.9957451        0              \n",
       "6 1.0006146        0              "
      ]
     },
     "metadata": {},
     "output_type": "display_data"
    },
    {
     "data": {
      "text/html": [
       "<table>\n",
       "<caption>A data.frame: 6 × 10</caption>\n",
       "<thead>\n",
       "\t<tr><th></th><th scope=col>Date</th><th scope=col>Open</th><th scope=col>High</th><th scope=col>Low</th><th scope=col>Close</th><th scope=col>Adj.Close</th><th scope=col>Volume</th><th scope=col>Close_Ratio</th><th scope=col>Adj.Close_Ratio</th><th scope=col>Difference_Ratio</th></tr>\n",
       "\t<tr><th></th><th scope=col>&lt;chr&gt;</th><th scope=col>&lt;dbl&gt;</th><th scope=col>&lt;dbl&gt;</th><th scope=col>&lt;dbl&gt;</th><th scope=col>&lt;dbl&gt;</th><th scope=col>&lt;dbl&gt;</th><th scope=col>&lt;int&gt;</th><th scope=col>&lt;dbl&gt;</th><th scope=col>&lt;dbl&gt;</th><th scope=col>&lt;dbl&gt;</th></tr>\n",
       "</thead>\n",
       "<tbody>\n",
       "\t<tr><th scope=row>1</th><td>2018-01-02</td><td>177.68</td><td>181.58</td><td>177.55</td><td>181.42</td><td>181.42</td><td>18151900</td><td>       NA</td><td>       NA</td><td>NA</td></tr>\n",
       "\t<tr><th scope=row>2</th><td>2018-01-03</td><td>181.88</td><td>184.78</td><td>181.33</td><td>184.67</td><td>184.67</td><td>16886600</td><td>0.9824010</td><td>0.9824010</td><td> 0</td></tr>\n",
       "\t<tr><th scope=row>3</th><td>2018-01-04</td><td>184.90</td><td>186.21</td><td>184.10</td><td>184.33</td><td>184.33</td><td>13880900</td><td>1.0018445</td><td>1.0018445</td><td> 0</td></tr>\n",
       "\t<tr><th scope=row>4</th><td>2018-01-05</td><td>185.59</td><td>186.90</td><td>184.93</td><td>186.85</td><td>186.85</td><td>13574500</td><td>0.9865132</td><td>0.9865132</td><td> 0</td></tr>\n",
       "\t<tr><th scope=row>5</th><td>2018-01-08</td><td>187.20</td><td>188.90</td><td>186.33</td><td>188.28</td><td>188.28</td><td>17994700</td><td>0.9924050</td><td>0.9924050</td><td> 0</td></tr>\n",
       "\t<tr><th scope=row>6</th><td>2018-01-09</td><td>188.70</td><td>188.80</td><td>187.10</td><td>187.87</td><td>187.87</td><td>12393100</td><td>1.0021824</td><td>1.0021824</td><td> 0</td></tr>\n",
       "</tbody>\n",
       "</table>\n"
      ],
      "text/latex": [
       "A data.frame: 6 × 10\n",
       "\\begin{tabular}{r|llllllllll}\n",
       "  & Date & Open & High & Low & Close & Adj.Close & Volume & Close\\_Ratio & Adj.Close\\_Ratio & Difference\\_Ratio\\\\\n",
       "  & <chr> & <dbl> & <dbl> & <dbl> & <dbl> & <dbl> & <int> & <dbl> & <dbl> & <dbl>\\\\\n",
       "\\hline\n",
       "\t1 & 2018-01-02 & 177.68 & 181.58 & 177.55 & 181.42 & 181.42 & 18151900 &        NA &        NA & NA\\\\\n",
       "\t2 & 2018-01-03 & 181.88 & 184.78 & 181.33 & 184.67 & 184.67 & 16886600 & 0.9824010 & 0.9824010 &  0\\\\\n",
       "\t3 & 2018-01-04 & 184.90 & 186.21 & 184.10 & 184.33 & 184.33 & 13880900 & 1.0018445 & 1.0018445 &  0\\\\\n",
       "\t4 & 2018-01-05 & 185.59 & 186.90 & 184.93 & 186.85 & 186.85 & 13574500 & 0.9865132 & 0.9865132 &  0\\\\\n",
       "\t5 & 2018-01-08 & 187.20 & 188.90 & 186.33 & 188.28 & 188.28 & 17994700 & 0.9924050 & 0.9924050 &  0\\\\\n",
       "\t6 & 2018-01-09 & 188.70 & 188.80 & 187.10 & 187.87 & 187.87 & 12393100 & 1.0021824 & 1.0021824 &  0\\\\\n",
       "\\end{tabular}\n"
      ],
      "text/markdown": [
       "\n",
       "A data.frame: 6 × 10\n",
       "\n",
       "| <!--/--> | Date &lt;chr&gt; | Open &lt;dbl&gt; | High &lt;dbl&gt; | Low &lt;dbl&gt; | Close &lt;dbl&gt; | Adj.Close &lt;dbl&gt; | Volume &lt;int&gt; | Close_Ratio &lt;dbl&gt; | Adj.Close_Ratio &lt;dbl&gt; | Difference_Ratio &lt;dbl&gt; |\n",
       "|---|---|---|---|---|---|---|---|---|---|---|\n",
       "| 1 | 2018-01-02 | 177.68 | 181.58 | 177.55 | 181.42 | 181.42 | 18151900 |        NA |        NA | NA |\n",
       "| 2 | 2018-01-03 | 181.88 | 184.78 | 181.33 | 184.67 | 184.67 | 16886600 | 0.9824010 | 0.9824010 |  0 |\n",
       "| 3 | 2018-01-04 | 184.90 | 186.21 | 184.10 | 184.33 | 184.33 | 13880900 | 1.0018445 | 1.0018445 |  0 |\n",
       "| 4 | 2018-01-05 | 185.59 | 186.90 | 184.93 | 186.85 | 186.85 | 13574500 | 0.9865132 | 0.9865132 |  0 |\n",
       "| 5 | 2018-01-08 | 187.20 | 188.90 | 186.33 | 188.28 | 188.28 | 17994700 | 0.9924050 | 0.9924050 |  0 |\n",
       "| 6 | 2018-01-09 | 188.70 | 188.80 | 187.10 | 187.87 | 187.87 | 12393100 | 1.0021824 | 1.0021824 |  0 |\n",
       "\n"
      ],
      "text/plain": [
       "  Date       Open   High   Low    Close  Adj.Close Volume   Close_Ratio\n",
       "1 2018-01-02 177.68 181.58 177.55 181.42 181.42    18151900        NA  \n",
       "2 2018-01-03 181.88 184.78 181.33 184.67 184.67    16886600 0.9824010  \n",
       "3 2018-01-04 184.90 186.21 184.10 184.33 184.33    13880900 1.0018445  \n",
       "4 2018-01-05 185.59 186.90 184.93 186.85 186.85    13574500 0.9865132  \n",
       "5 2018-01-08 187.20 188.90 186.33 188.28 188.28    17994700 0.9924050  \n",
       "6 2018-01-09 188.70 188.80 187.10 187.87 187.87    12393100 1.0021824  \n",
       "  Adj.Close_Ratio Difference_Ratio\n",
       "1        NA       NA              \n",
       "2 0.9824010        0              \n",
       "3 1.0018445        0              \n",
       "4 0.9865132        0              \n",
       "5 0.9924050        0              \n",
       "6 1.0021824        0              "
      ]
     },
     "metadata": {},
     "output_type": "display_data"
    },
    {
     "data": {
      "text/html": [
       "<table>\n",
       "<caption>A data.frame: 6 × 10</caption>\n",
       "<thead>\n",
       "\t<tr><th></th><th scope=col>Date</th><th scope=col>Open</th><th scope=col>High</th><th scope=col>Low</th><th scope=col>Close</th><th scope=col>Adj.Close</th><th scope=col>Volume</th><th scope=col>Close_Ratio</th><th scope=col>Adj.Close_Ratio</th><th scope=col>Difference_Ratio</th></tr>\n",
       "\t<tr><th></th><th scope=col>&lt;chr&gt;</th><th scope=col>&lt;dbl&gt;</th><th scope=col>&lt;dbl&gt;</th><th scope=col>&lt;dbl&gt;</th><th scope=col>&lt;dbl&gt;</th><th scope=col>&lt;dbl&gt;</th><th scope=col>&lt;int&gt;</th><th scope=col>&lt;dbl&gt;</th><th scope=col>&lt;dbl&gt;</th><th scope=col>&lt;dbl&gt;</th></tr>\n",
       "</thead>\n",
       "<tbody>\n",
       "\t<tr><th scope=row>1</th><td>2018-01-02</td><td>86.13</td><td>86.31</td><td>85.50</td><td>85.95</td><td>82.59932</td><td>22483800</td><td>       NA</td><td>       NA</td><td>           NA</td></tr>\n",
       "\t<tr><th scope=row>2</th><td>2018-01-03</td><td>86.06</td><td>86.51</td><td>85.97</td><td>86.35</td><td>82.98373</td><td>26061400</td><td>0.9953677</td><td>0.9953677</td><td> 7.849602e-09</td></tr>\n",
       "\t<tr><th scope=row>3</th><td>2018-01-04</td><td>86.59</td><td>87.66</td><td>86.57</td><td>87.11</td><td>83.71412</td><td>21912000</td><td>0.9912754</td><td>0.9912752</td><td> 2.010697e-07</td></tr>\n",
       "\t<tr><th scope=row>4</th><td>2018-01-05</td><td>87.66</td><td>88.41</td><td>87.43</td><td>88.19</td><td>84.75201</td><td>23407100</td><td>0.9877537</td><td>0.9877537</td><td>-3.983611e-08</td></tr>\n",
       "\t<tr><th scope=row>5</th><td>2018-01-08</td><td>88.20</td><td>88.58</td><td>87.60</td><td>88.28</td><td>84.83849</td><td>22113000</td><td>0.9989806</td><td>0.9989807</td><td>-1.950922e-07</td></tr>\n",
       "\t<tr><th scope=row>6</th><td>2018-01-09</td><td>88.65</td><td>88.73</td><td>87.86</td><td>88.22</td><td>84.78084</td><td>19484300</td><td>1.0006801</td><td>1.0006800</td><td> 1.302384e-07</td></tr>\n",
       "</tbody>\n",
       "</table>\n"
      ],
      "text/latex": [
       "A data.frame: 6 × 10\n",
       "\\begin{tabular}{r|llllllllll}\n",
       "  & Date & Open & High & Low & Close & Adj.Close & Volume & Close\\_Ratio & Adj.Close\\_Ratio & Difference\\_Ratio\\\\\n",
       "  & <chr> & <dbl> & <dbl> & <dbl> & <dbl> & <dbl> & <int> & <dbl> & <dbl> & <dbl>\\\\\n",
       "\\hline\n",
       "\t1 & 2018-01-02 & 86.13 & 86.31 & 85.50 & 85.95 & 82.59932 & 22483800 &        NA &        NA &            NA\\\\\n",
       "\t2 & 2018-01-03 & 86.06 & 86.51 & 85.97 & 86.35 & 82.98373 & 26061400 & 0.9953677 & 0.9953677 &  7.849602e-09\\\\\n",
       "\t3 & 2018-01-04 & 86.59 & 87.66 & 86.57 & 87.11 & 83.71412 & 21912000 & 0.9912754 & 0.9912752 &  2.010697e-07\\\\\n",
       "\t4 & 2018-01-05 & 87.66 & 88.41 & 87.43 & 88.19 & 84.75201 & 23407100 & 0.9877537 & 0.9877537 & -3.983611e-08\\\\\n",
       "\t5 & 2018-01-08 & 88.20 & 88.58 & 87.60 & 88.28 & 84.83849 & 22113000 & 0.9989806 & 0.9989807 & -1.950922e-07\\\\\n",
       "\t6 & 2018-01-09 & 88.65 & 88.73 & 87.86 & 88.22 & 84.78084 & 19484300 & 1.0006801 & 1.0006800 &  1.302384e-07\\\\\n",
       "\\end{tabular}\n"
      ],
      "text/markdown": [
       "\n",
       "A data.frame: 6 × 10\n",
       "\n",
       "| <!--/--> | Date &lt;chr&gt; | Open &lt;dbl&gt; | High &lt;dbl&gt; | Low &lt;dbl&gt; | Close &lt;dbl&gt; | Adj.Close &lt;dbl&gt; | Volume &lt;int&gt; | Close_Ratio &lt;dbl&gt; | Adj.Close_Ratio &lt;dbl&gt; | Difference_Ratio &lt;dbl&gt; |\n",
       "|---|---|---|---|---|---|---|---|---|---|---|\n",
       "| 1 | 2018-01-02 | 86.13 | 86.31 | 85.50 | 85.95 | 82.59932 | 22483800 |        NA |        NA |            NA |\n",
       "| 2 | 2018-01-03 | 86.06 | 86.51 | 85.97 | 86.35 | 82.98373 | 26061400 | 0.9953677 | 0.9953677 |  7.849602e-09 |\n",
       "| 3 | 2018-01-04 | 86.59 | 87.66 | 86.57 | 87.11 | 83.71412 | 21912000 | 0.9912754 | 0.9912752 |  2.010697e-07 |\n",
       "| 4 | 2018-01-05 | 87.66 | 88.41 | 87.43 | 88.19 | 84.75201 | 23407100 | 0.9877537 | 0.9877537 | -3.983611e-08 |\n",
       "| 5 | 2018-01-08 | 88.20 | 88.58 | 87.60 | 88.28 | 84.83849 | 22113000 | 0.9989806 | 0.9989807 | -1.950922e-07 |\n",
       "| 6 | 2018-01-09 | 88.65 | 88.73 | 87.86 | 88.22 | 84.78084 | 19484300 | 1.0006801 | 1.0006800 |  1.302384e-07 |\n",
       "\n"
      ],
      "text/plain": [
       "  Date       Open  High  Low   Close Adj.Close Volume   Close_Ratio\n",
       "1 2018-01-02 86.13 86.31 85.50 85.95 82.59932  22483800        NA  \n",
       "2 2018-01-03 86.06 86.51 85.97 86.35 82.98373  26061400 0.9953677  \n",
       "3 2018-01-04 86.59 87.66 86.57 87.11 83.71412  21912000 0.9912754  \n",
       "4 2018-01-05 87.66 88.41 87.43 88.19 84.75201  23407100 0.9877537  \n",
       "5 2018-01-08 88.20 88.58 87.60 88.28 84.83849  22113000 0.9989806  \n",
       "6 2018-01-09 88.65 88.73 87.86 88.22 84.78084  19484300 1.0006801  \n",
       "  Adj.Close_Ratio Difference_Ratio\n",
       "1        NA                  NA   \n",
       "2 0.9953677        7.849602e-09   \n",
       "3 0.9912752        2.010697e-07   \n",
       "4 0.9877537       -3.983611e-08   \n",
       "5 0.9989807       -1.950922e-07   \n",
       "6 1.0006800        1.302384e-07   "
      ]
     },
     "metadata": {},
     "output_type": "display_data"
    },
    {
     "data": {
      "text/html": [
       "<table>\n",
       "<caption>A data.frame: 6 × 10</caption>\n",
       "<thead>\n",
       "\t<tr><th></th><th scope=col>Date</th><th scope=col>Open</th><th scope=col>High</th><th scope=col>Low</th><th scope=col>Close</th><th scope=col>Adj.Close</th><th scope=col>Volume</th><th scope=col>Close_Ratio</th><th scope=col>Adj.Close_Ratio</th><th scope=col>Difference_Ratio</th></tr>\n",
       "\t<tr><th></th><th scope=col>&lt;chr&gt;</th><th scope=col>&lt;dbl&gt;</th><th scope=col>&lt;dbl&gt;</th><th scope=col>&lt;dbl&gt;</th><th scope=col>&lt;dbl&gt;</th><th scope=col>&lt;dbl&gt;</th><th scope=col>&lt;int&gt;</th><th scope=col>&lt;dbl&gt;</th><th scope=col>&lt;dbl&gt;</th><th scope=col>&lt;dbl&gt;</th></tr>\n",
       "</thead>\n",
       "<tbody>\n",
       "\t<tr><th scope=row>1</th><td>2018-01-02</td><td>1172.00</td><td>1190.00</td><td>1170.51</td><td>1189.01</td><td>1189.01</td><td>2694500</td><td>       NA</td><td>       NA</td><td>NA</td></tr>\n",
       "\t<tr><th scope=row>2</th><td>2018-01-03</td><td>1188.30</td><td>1205.49</td><td>1188.30</td><td>1204.20</td><td>1204.20</td><td>3108800</td><td>0.9873859</td><td>0.9873859</td><td> 0</td></tr>\n",
       "\t<tr><th scope=row>3</th><td>2018-01-04</td><td>1205.00</td><td>1215.87</td><td>1204.66</td><td>1209.59</td><td>1209.59</td><td>3022100</td><td>0.9955439</td><td>0.9955439</td><td> 0</td></tr>\n",
       "\t<tr><th scope=row>4</th><td>2018-01-05</td><td>1217.51</td><td>1229.14</td><td>1210.00</td><td>1229.14</td><td>1229.14</td><td>3544700</td><td>0.9840945</td><td>0.9840945</td><td> 0</td></tr>\n",
       "\t<tr><th scope=row>5</th><td>2018-01-08</td><td>1236.00</td><td>1253.08</td><td>1232.03</td><td>1246.87</td><td>1246.87</td><td>4279500</td><td>0.9857804</td><td>0.9857804</td><td> 0</td></tr>\n",
       "\t<tr><th scope=row>6</th><td>2018-01-09</td><td>1256.90</td><td>1259.33</td><td>1241.76</td><td>1252.70</td><td>1252.70</td><td>3661300</td><td>0.9953461</td><td>0.9953461</td><td> 0</td></tr>\n",
       "</tbody>\n",
       "</table>\n"
      ],
      "text/latex": [
       "A data.frame: 6 × 10\n",
       "\\begin{tabular}{r|llllllllll}\n",
       "  & Date & Open & High & Low & Close & Adj.Close & Volume & Close\\_Ratio & Adj.Close\\_Ratio & Difference\\_Ratio\\\\\n",
       "  & <chr> & <dbl> & <dbl> & <dbl> & <dbl> & <dbl> & <int> & <dbl> & <dbl> & <dbl>\\\\\n",
       "\\hline\n",
       "\t1 & 2018-01-02 & 1172.00 & 1190.00 & 1170.51 & 1189.01 & 1189.01 & 2694500 &        NA &        NA & NA\\\\\n",
       "\t2 & 2018-01-03 & 1188.30 & 1205.49 & 1188.30 & 1204.20 & 1204.20 & 3108800 & 0.9873859 & 0.9873859 &  0\\\\\n",
       "\t3 & 2018-01-04 & 1205.00 & 1215.87 & 1204.66 & 1209.59 & 1209.59 & 3022100 & 0.9955439 & 0.9955439 &  0\\\\\n",
       "\t4 & 2018-01-05 & 1217.51 & 1229.14 & 1210.00 & 1229.14 & 1229.14 & 3544700 & 0.9840945 & 0.9840945 &  0\\\\\n",
       "\t5 & 2018-01-08 & 1236.00 & 1253.08 & 1232.03 & 1246.87 & 1246.87 & 4279500 & 0.9857804 & 0.9857804 &  0\\\\\n",
       "\t6 & 2018-01-09 & 1256.90 & 1259.33 & 1241.76 & 1252.70 & 1252.70 & 3661300 & 0.9953461 & 0.9953461 &  0\\\\\n",
       "\\end{tabular}\n"
      ],
      "text/markdown": [
       "\n",
       "A data.frame: 6 × 10\n",
       "\n",
       "| <!--/--> | Date &lt;chr&gt; | Open &lt;dbl&gt; | High &lt;dbl&gt; | Low &lt;dbl&gt; | Close &lt;dbl&gt; | Adj.Close &lt;dbl&gt; | Volume &lt;int&gt; | Close_Ratio &lt;dbl&gt; | Adj.Close_Ratio &lt;dbl&gt; | Difference_Ratio &lt;dbl&gt; |\n",
       "|---|---|---|---|---|---|---|---|---|---|---|\n",
       "| 1 | 2018-01-02 | 1172.00 | 1190.00 | 1170.51 | 1189.01 | 1189.01 | 2694500 |        NA |        NA | NA |\n",
       "| 2 | 2018-01-03 | 1188.30 | 1205.49 | 1188.30 | 1204.20 | 1204.20 | 3108800 | 0.9873859 | 0.9873859 |  0 |\n",
       "| 3 | 2018-01-04 | 1205.00 | 1215.87 | 1204.66 | 1209.59 | 1209.59 | 3022100 | 0.9955439 | 0.9955439 |  0 |\n",
       "| 4 | 2018-01-05 | 1217.51 | 1229.14 | 1210.00 | 1229.14 | 1229.14 | 3544700 | 0.9840945 | 0.9840945 |  0 |\n",
       "| 5 | 2018-01-08 | 1236.00 | 1253.08 | 1232.03 | 1246.87 | 1246.87 | 4279500 | 0.9857804 | 0.9857804 |  0 |\n",
       "| 6 | 2018-01-09 | 1256.90 | 1259.33 | 1241.76 | 1252.70 | 1252.70 | 3661300 | 0.9953461 | 0.9953461 |  0 |\n",
       "\n"
      ],
      "text/plain": [
       "  Date       Open    High    Low     Close   Adj.Close Volume  Close_Ratio\n",
       "1 2018-01-02 1172.00 1190.00 1170.51 1189.01 1189.01   2694500        NA  \n",
       "2 2018-01-03 1188.30 1205.49 1188.30 1204.20 1204.20   3108800 0.9873859  \n",
       "3 2018-01-04 1205.00 1215.87 1204.66 1209.59 1209.59   3022100 0.9955439  \n",
       "4 2018-01-05 1217.51 1229.14 1210.00 1229.14 1229.14   3544700 0.9840945  \n",
       "5 2018-01-08 1236.00 1253.08 1232.03 1246.87 1246.87   4279500 0.9857804  \n",
       "6 2018-01-09 1256.90 1259.33 1241.76 1252.70 1252.70   3661300 0.9953461  \n",
       "  Adj.Close_Ratio Difference_Ratio\n",
       "1        NA       NA              \n",
       "2 0.9873859        0              \n",
       "3 0.9955439        0              \n",
       "4 0.9840945        0              \n",
       "5 0.9857804        0              \n",
       "6 0.9953461        0              "
      ]
     },
     "metadata": {},
     "output_type": "display_data"
    },
    {
     "data": {
      "text/html": [
       "<table>\n",
       "<caption>A data.frame: 6 × 10</caption>\n",
       "<thead>\n",
       "\t<tr><th></th><th scope=col>Date</th><th scope=col>Open</th><th scope=col>High</th><th scope=col>Low</th><th scope=col>Close</th><th scope=col>Adj.Close</th><th scope=col>Volume</th><th scope=col>Close_Ratio</th><th scope=col>Adj.Close_Ratio</th><th scope=col>Difference_Ratio</th></tr>\n",
       "\t<tr><th></th><th scope=col>&lt;chr&gt;</th><th scope=col>&lt;dbl&gt;</th><th scope=col>&lt;dbl&gt;</th><th scope=col>&lt;dbl&gt;</th><th scope=col>&lt;dbl&gt;</th><th scope=col>&lt;dbl&gt;</th><th scope=col>&lt;int&gt;</th><th scope=col>&lt;dbl&gt;</th><th scope=col>&lt;dbl&gt;</th><th scope=col>&lt;dbl&gt;</th></tr>\n",
       "</thead>\n",
       "<tbody>\n",
       "\t<tr><th scope=row>1</th><td>2018-01-02</td><td>42.5400</td><td>43.0750</td><td>42.3150</td><td>43.0650</td><td>41.51358</td><td>102223600</td><td>       NA</td><td>       NA</td><td>           NA</td></tr>\n",
       "\t<tr><th scope=row>2</th><td>2018-01-03</td><td>43.1325</td><td>43.6375</td><td>42.9900</td><td>43.0575</td><td>41.50634</td><td>118071600</td><td>1.0001742</td><td>1.0001743</td><td>-1.491097e-07</td></tr>\n",
       "\t<tr><th scope=row>3</th><td>2018-01-04</td><td>43.1350</td><td>43.3675</td><td>43.0200</td><td>43.2575</td><td>41.69914</td><td> 89738400</td><td>0.9953765</td><td>0.9953765</td><td>-2.205712e-08</td></tr>\n",
       "\t<tr><th scope=row>4</th><td>2018-01-05</td><td>43.3600</td><td>43.8425</td><td>43.2625</td><td>43.7500</td><td>42.17389</td><td> 94640000</td><td>0.9887429</td><td>0.9887429</td><td>-8.389889e-08</td></tr>\n",
       "\t<tr><th scope=row>5</th><td>2018-01-08</td><td>43.5875</td><td>43.9025</td><td>43.4825</td><td>43.5875</td><td>42.01725</td><td> 82271200</td><td>1.0037281</td><td>1.0037280</td><td> 1.184949e-07</td></tr>\n",
       "\t<tr><th scope=row>6</th><td>2018-01-09</td><td>43.6375</td><td>43.7650</td><td>43.3525</td><td>43.5825</td><td>42.01243</td><td> 86336000</td><td>1.0001148</td><td>1.0001148</td><td>-4.713328e-09</td></tr>\n",
       "</tbody>\n",
       "</table>\n"
      ],
      "text/latex": [
       "A data.frame: 6 × 10\n",
       "\\begin{tabular}{r|llllllllll}\n",
       "  & Date & Open & High & Low & Close & Adj.Close & Volume & Close\\_Ratio & Adj.Close\\_Ratio & Difference\\_Ratio\\\\\n",
       "  & <chr> & <dbl> & <dbl> & <dbl> & <dbl> & <dbl> & <int> & <dbl> & <dbl> & <dbl>\\\\\n",
       "\\hline\n",
       "\t1 & 2018-01-02 & 42.5400 & 43.0750 & 42.3150 & 43.0650 & 41.51358 & 102223600 &        NA &        NA &            NA\\\\\n",
       "\t2 & 2018-01-03 & 43.1325 & 43.6375 & 42.9900 & 43.0575 & 41.50634 & 118071600 & 1.0001742 & 1.0001743 & -1.491097e-07\\\\\n",
       "\t3 & 2018-01-04 & 43.1350 & 43.3675 & 43.0200 & 43.2575 & 41.69914 &  89738400 & 0.9953765 & 0.9953765 & -2.205712e-08\\\\\n",
       "\t4 & 2018-01-05 & 43.3600 & 43.8425 & 43.2625 & 43.7500 & 42.17389 &  94640000 & 0.9887429 & 0.9887429 & -8.389889e-08\\\\\n",
       "\t5 & 2018-01-08 & 43.5875 & 43.9025 & 43.4825 & 43.5875 & 42.01725 &  82271200 & 1.0037281 & 1.0037280 &  1.184949e-07\\\\\n",
       "\t6 & 2018-01-09 & 43.6375 & 43.7650 & 43.3525 & 43.5825 & 42.01243 &  86336000 & 1.0001148 & 1.0001148 & -4.713328e-09\\\\\n",
       "\\end{tabular}\n"
      ],
      "text/markdown": [
       "\n",
       "A data.frame: 6 × 10\n",
       "\n",
       "| <!--/--> | Date &lt;chr&gt; | Open &lt;dbl&gt; | High &lt;dbl&gt; | Low &lt;dbl&gt; | Close &lt;dbl&gt; | Adj.Close &lt;dbl&gt; | Volume &lt;int&gt; | Close_Ratio &lt;dbl&gt; | Adj.Close_Ratio &lt;dbl&gt; | Difference_Ratio &lt;dbl&gt; |\n",
       "|---|---|---|---|---|---|---|---|---|---|---|\n",
       "| 1 | 2018-01-02 | 42.5400 | 43.0750 | 42.3150 | 43.0650 | 41.51358 | 102223600 |        NA |        NA |            NA |\n",
       "| 2 | 2018-01-03 | 43.1325 | 43.6375 | 42.9900 | 43.0575 | 41.50634 | 118071600 | 1.0001742 | 1.0001743 | -1.491097e-07 |\n",
       "| 3 | 2018-01-04 | 43.1350 | 43.3675 | 43.0200 | 43.2575 | 41.69914 |  89738400 | 0.9953765 | 0.9953765 | -2.205712e-08 |\n",
       "| 4 | 2018-01-05 | 43.3600 | 43.8425 | 43.2625 | 43.7500 | 42.17389 |  94640000 | 0.9887429 | 0.9887429 | -8.389889e-08 |\n",
       "| 5 | 2018-01-08 | 43.5875 | 43.9025 | 43.4825 | 43.5875 | 42.01725 |  82271200 | 1.0037281 | 1.0037280 |  1.184949e-07 |\n",
       "| 6 | 2018-01-09 | 43.6375 | 43.7650 | 43.3525 | 43.5825 | 42.01243 |  86336000 | 1.0001148 | 1.0001148 | -4.713328e-09 |\n",
       "\n"
      ],
      "text/plain": [
       "  Date       Open    High    Low     Close   Adj.Close Volume    Close_Ratio\n",
       "1 2018-01-02 42.5400 43.0750 42.3150 43.0650 41.51358  102223600        NA  \n",
       "2 2018-01-03 43.1325 43.6375 42.9900 43.0575 41.50634  118071600 1.0001742  \n",
       "3 2018-01-04 43.1350 43.3675 43.0200 43.2575 41.69914   89738400 0.9953765  \n",
       "4 2018-01-05 43.3600 43.8425 43.2625 43.7500 42.17389   94640000 0.9887429  \n",
       "5 2018-01-08 43.5875 43.9025 43.4825 43.5875 42.01725   82271200 1.0037281  \n",
       "6 2018-01-09 43.6375 43.7650 43.3525 43.5825 42.01243   86336000 1.0001148  \n",
       "  Adj.Close_Ratio Difference_Ratio\n",
       "1        NA                  NA   \n",
       "2 1.0001743       -1.491097e-07   \n",
       "3 0.9953765       -2.205712e-08   \n",
       "4 0.9887429       -8.389889e-08   \n",
       "5 1.0037280        1.184949e-07   \n",
       "6 1.0001148       -4.713328e-09   "
      ]
     },
     "metadata": {},
     "output_type": "display_data"
    }
   ],
   "source": [
    "#Finding the difference between close_ratio and adj.close_ratio and adding the \"Difference_Ratio\" column to the dataframe\n",
    "#IBM\n",
    "ibm$Difference_Ratio = ibm[,8] - ibm[,9]\n",
    "head(ibm)\n",
    "\n",
    "#GOOG\n",
    "goog$Difference_Ratio = goog[,8] - goog[,9]\n",
    "head(goog)\n",
    "\n",
    "#FB\n",
    "fb$Difference_Ratio = fb[,8] - fb[,9]\n",
    "head(fb)\n",
    "\n",
    "#MSFT\n",
    "msft$Difference_Ratio = msft[,8] - msft[,9]\n",
    "head(msft)\n",
    "\n",
    "#AMZN\n",
    "amzn$Difference_Ratio = amzn[,8] - amzn[,9]\n",
    "head(amzn)\n",
    "\n",
    "#AAPL\n",
    "aapl$Difference_Ratio = aapl[,8] - aapl[,9]\n",
    "head(aapl)\n"
   ]
  },
  {
   "cell_type": "code",
   "execution_count": 68,
   "metadata": {},
   "outputs": [
    {
     "data": {
      "text/html": [
       "<table>\n",
       "<caption>A data.frame: 6 × 11</caption>\n",
       "<thead>\n",
       "\t<tr><th></th><th scope=col>Date</th><th scope=col>Open</th><th scope=col>High</th><th scope=col>Low</th><th scope=col>Close</th><th scope=col>Adj.Close</th><th scope=col>Volume</th><th scope=col>Close_Ratio</th><th scope=col>Adj.Close_Ratio</th><th scope=col>Difference_Ratio</th><th scope=col>Dividend</th></tr>\n",
       "\t<tr><th></th><th scope=col>&lt;chr&gt;</th><th scope=col>&lt;dbl&gt;</th><th scope=col>&lt;dbl&gt;</th><th scope=col>&lt;dbl&gt;</th><th scope=col>&lt;dbl&gt;</th><th scope=col>&lt;dbl&gt;</th><th scope=col>&lt;int&gt;</th><th scope=col>&lt;dbl&gt;</th><th scope=col>&lt;dbl&gt;</th><th scope=col>&lt;dbl&gt;</th><th scope=col>&lt;dbl&gt;</th></tr>\n",
       "</thead>\n",
       "<tbody>\n",
       "\t<tr><th scope=row>1</th><td>2018-01-02</td><td>154.50</td><td>154.81</td><td>153.54</td><td>154.25</td><td>135.7438</td><td>4202500</td><td>       NA</td><td>       NA</td><td>           NA</td><td>           NA</td></tr>\n",
       "\t<tr><th scope=row>2</th><td>2018-01-03</td><td>157.34</td><td>159.81</td><td>156.33</td><td>158.49</td><td>139.4751</td><td>9441600</td><td>0.9732475</td><td>0.9732472</td><td> 3.228902e-07</td><td> 5.117487e-05</td></tr>\n",
       "\t<tr><th scope=row>3</th><td>2018-01-04</td><td>159.65</td><td>162.32</td><td>159.37</td><td>161.70</td><td>142.3000</td><td>7556200</td><td>0.9801485</td><td>0.9801487</td><td>-1.937099e-07</td><td>-3.132288e-05</td></tr>\n",
       "\t<tr><th scope=row>4</th><td>2018-01-05</td><td>162.44</td><td>162.90</td><td>161.10</td><td>162.49</td><td>142.9952</td><td>5195800</td><td>0.9951381</td><td>0.9951380</td><td> 6.691049e-08</td><td> 1.087229e-05</td></tr>\n",
       "\t<tr><th scope=row>5</th><td>2018-01-08</td><td>162.66</td><td>163.91</td><td>161.70</td><td>163.47</td><td>143.8576</td><td>5237500</td><td>0.9940050</td><td>0.9940050</td><td> 4.466596e-08</td><td> 7.301545e-06</td></tr>\n",
       "\t<tr><th scope=row>6</th><td>2018-01-09</td><td>163.90</td><td>164.53</td><td>163.06</td><td>163.83</td><td>144.1744</td><td>4341800</td><td>0.9978026</td><td>0.9978027</td><td>-1.503966e-07</td><td>-2.463947e-05</td></tr>\n",
       "</tbody>\n",
       "</table>\n"
      ],
      "text/latex": [
       "A data.frame: 6 × 11\n",
       "\\begin{tabular}{r|lllllllllll}\n",
       "  & Date & Open & High & Low & Close & Adj.Close & Volume & Close\\_Ratio & Adj.Close\\_Ratio & Difference\\_Ratio & Dividend\\\\\n",
       "  & <chr> & <dbl> & <dbl> & <dbl> & <dbl> & <dbl> & <int> & <dbl> & <dbl> & <dbl> & <dbl>\\\\\n",
       "\\hline\n",
       "\t1 & 2018-01-02 & 154.50 & 154.81 & 153.54 & 154.25 & 135.7438 & 4202500 &        NA &        NA &            NA &            NA\\\\\n",
       "\t2 & 2018-01-03 & 157.34 & 159.81 & 156.33 & 158.49 & 139.4751 & 9441600 & 0.9732475 & 0.9732472 &  3.228902e-07 &  5.117487e-05\\\\\n",
       "\t3 & 2018-01-04 & 159.65 & 162.32 & 159.37 & 161.70 & 142.3000 & 7556200 & 0.9801485 & 0.9801487 & -1.937099e-07 & -3.132288e-05\\\\\n",
       "\t4 & 2018-01-05 & 162.44 & 162.90 & 161.10 & 162.49 & 142.9952 & 5195800 & 0.9951381 & 0.9951380 &  6.691049e-08 &  1.087229e-05\\\\\n",
       "\t5 & 2018-01-08 & 162.66 & 163.91 & 161.70 & 163.47 & 143.8576 & 5237500 & 0.9940050 & 0.9940050 &  4.466596e-08 &  7.301545e-06\\\\\n",
       "\t6 & 2018-01-09 & 163.90 & 164.53 & 163.06 & 163.83 & 144.1744 & 4341800 & 0.9978026 & 0.9978027 & -1.503966e-07 & -2.463947e-05\\\\\n",
       "\\end{tabular}\n"
      ],
      "text/markdown": [
       "\n",
       "A data.frame: 6 × 11\n",
       "\n",
       "| <!--/--> | Date &lt;chr&gt; | Open &lt;dbl&gt; | High &lt;dbl&gt; | Low &lt;dbl&gt; | Close &lt;dbl&gt; | Adj.Close &lt;dbl&gt; | Volume &lt;int&gt; | Close_Ratio &lt;dbl&gt; | Adj.Close_Ratio &lt;dbl&gt; | Difference_Ratio &lt;dbl&gt; | Dividend &lt;dbl&gt; |\n",
       "|---|---|---|---|---|---|---|---|---|---|---|---|\n",
       "| 1 | 2018-01-02 | 154.50 | 154.81 | 153.54 | 154.25 | 135.7438 | 4202500 |        NA |        NA |            NA |            NA |\n",
       "| 2 | 2018-01-03 | 157.34 | 159.81 | 156.33 | 158.49 | 139.4751 | 9441600 | 0.9732475 | 0.9732472 |  3.228902e-07 |  5.117487e-05 |\n",
       "| 3 | 2018-01-04 | 159.65 | 162.32 | 159.37 | 161.70 | 142.3000 | 7556200 | 0.9801485 | 0.9801487 | -1.937099e-07 | -3.132288e-05 |\n",
       "| 4 | 2018-01-05 | 162.44 | 162.90 | 161.10 | 162.49 | 142.9952 | 5195800 | 0.9951381 | 0.9951380 |  6.691049e-08 |  1.087229e-05 |\n",
       "| 5 | 2018-01-08 | 162.66 | 163.91 | 161.70 | 163.47 | 143.8576 | 5237500 | 0.9940050 | 0.9940050 |  4.466596e-08 |  7.301545e-06 |\n",
       "| 6 | 2018-01-09 | 163.90 | 164.53 | 163.06 | 163.83 | 144.1744 | 4341800 | 0.9978026 | 0.9978027 | -1.503966e-07 | -2.463947e-05 |\n",
       "\n"
      ],
      "text/plain": [
       "  Date       Open   High   Low    Close  Adj.Close Volume  Close_Ratio\n",
       "1 2018-01-02 154.50 154.81 153.54 154.25 135.7438  4202500        NA  \n",
       "2 2018-01-03 157.34 159.81 156.33 158.49 139.4751  9441600 0.9732475  \n",
       "3 2018-01-04 159.65 162.32 159.37 161.70 142.3000  7556200 0.9801485  \n",
       "4 2018-01-05 162.44 162.90 161.10 162.49 142.9952  5195800 0.9951381  \n",
       "5 2018-01-08 162.66 163.91 161.70 163.47 143.8576  5237500 0.9940050  \n",
       "6 2018-01-09 163.90 164.53 163.06 163.83 144.1744  4341800 0.9978026  \n",
       "  Adj.Close_Ratio Difference_Ratio Dividend     \n",
       "1        NA                  NA               NA\n",
       "2 0.9732472        3.228902e-07     5.117487e-05\n",
       "3 0.9801487       -1.937099e-07    -3.132288e-05\n",
       "4 0.9951380        6.691049e-08     1.087229e-05\n",
       "5 0.9940050        4.466596e-08     7.301545e-06\n",
       "6 0.9978027       -1.503966e-07    -2.463947e-05"
      ]
     },
     "metadata": {},
     "output_type": "display_data"
    },
    {
     "data": {
      "text/html": [
       "<table>\n",
       "<caption>A data.frame: 6 × 11</caption>\n",
       "<thead>\n",
       "\t<tr><th></th><th scope=col>Date</th><th scope=col>Open</th><th scope=col>High</th><th scope=col>Low</th><th scope=col>Close</th><th scope=col>Adj.Close</th><th scope=col>Volume</th><th scope=col>Close_Ratio</th><th scope=col>Adj.Close_Ratio</th><th scope=col>Difference_Ratio</th><th scope=col>Dividend</th></tr>\n",
       "\t<tr><th></th><th scope=col>&lt;chr&gt;</th><th scope=col>&lt;dbl&gt;</th><th scope=col>&lt;dbl&gt;</th><th scope=col>&lt;dbl&gt;</th><th scope=col>&lt;dbl&gt;</th><th scope=col>&lt;dbl&gt;</th><th scope=col>&lt;int&gt;</th><th scope=col>&lt;dbl&gt;</th><th scope=col>&lt;dbl&gt;</th><th scope=col>&lt;dbl&gt;</th><th scope=col>&lt;dbl&gt;</th></tr>\n",
       "</thead>\n",
       "<tbody>\n",
       "\t<tr><th scope=row>1</th><td>2018-01-02</td><td>1048.34</td><td>1066.94</td><td>1045.230</td><td>1065.00</td><td>1065.00</td><td>1237600</td><td>       NA</td><td>       NA</td><td>NA</td><td>NA</td></tr>\n",
       "\t<tr><th scope=row>2</th><td>2018-01-03</td><td>1064.31</td><td>1086.29</td><td>1063.210</td><td>1082.48</td><td>1082.48</td><td>1430200</td><td>0.9838519</td><td>0.9838519</td><td> 0</td><td> 0</td></tr>\n",
       "\t<tr><th scope=row>3</th><td>2018-01-04</td><td>1088.00</td><td>1093.57</td><td>1084.002</td><td>1086.40</td><td>1086.40</td><td>1004600</td><td>0.9963917</td><td>0.9963917</td><td> 0</td><td> 0</td></tr>\n",
       "\t<tr><th scope=row>4</th><td>2018-01-05</td><td>1094.00</td><td>1104.25</td><td>1092.000</td><td>1102.23</td><td>1102.23</td><td>1279100</td><td>0.9856382</td><td>0.9856382</td><td> 0</td><td> 0</td></tr>\n",
       "\t<tr><th scope=row>5</th><td>2018-01-08</td><td>1102.23</td><td>1111.27</td><td>1101.620</td><td>1106.94</td><td>1106.94</td><td>1047600</td><td>0.9957451</td><td>0.9957451</td><td> 0</td><td> 0</td></tr>\n",
       "\t<tr><th scope=row>6</th><td>2018-01-09</td><td>1109.40</td><td>1110.57</td><td>1101.231</td><td>1106.26</td><td>1106.26</td><td> 902500</td><td>1.0006146</td><td>1.0006146</td><td> 0</td><td> 0</td></tr>\n",
       "</tbody>\n",
       "</table>\n"
      ],
      "text/latex": [
       "A data.frame: 6 × 11\n",
       "\\begin{tabular}{r|lllllllllll}\n",
       "  & Date & Open & High & Low & Close & Adj.Close & Volume & Close\\_Ratio & Adj.Close\\_Ratio & Difference\\_Ratio & Dividend\\\\\n",
       "  & <chr> & <dbl> & <dbl> & <dbl> & <dbl> & <dbl> & <int> & <dbl> & <dbl> & <dbl> & <dbl>\\\\\n",
       "\\hline\n",
       "\t1 & 2018-01-02 & 1048.34 & 1066.94 & 1045.230 & 1065.00 & 1065.00 & 1237600 &        NA &        NA & NA & NA\\\\\n",
       "\t2 & 2018-01-03 & 1064.31 & 1086.29 & 1063.210 & 1082.48 & 1082.48 & 1430200 & 0.9838519 & 0.9838519 &  0 &  0\\\\\n",
       "\t3 & 2018-01-04 & 1088.00 & 1093.57 & 1084.002 & 1086.40 & 1086.40 & 1004600 & 0.9963917 & 0.9963917 &  0 &  0\\\\\n",
       "\t4 & 2018-01-05 & 1094.00 & 1104.25 & 1092.000 & 1102.23 & 1102.23 & 1279100 & 0.9856382 & 0.9856382 &  0 &  0\\\\\n",
       "\t5 & 2018-01-08 & 1102.23 & 1111.27 & 1101.620 & 1106.94 & 1106.94 & 1047600 & 0.9957451 & 0.9957451 &  0 &  0\\\\\n",
       "\t6 & 2018-01-09 & 1109.40 & 1110.57 & 1101.231 & 1106.26 & 1106.26 &  902500 & 1.0006146 & 1.0006146 &  0 &  0\\\\\n",
       "\\end{tabular}\n"
      ],
      "text/markdown": [
       "\n",
       "A data.frame: 6 × 11\n",
       "\n",
       "| <!--/--> | Date &lt;chr&gt; | Open &lt;dbl&gt; | High &lt;dbl&gt; | Low &lt;dbl&gt; | Close &lt;dbl&gt; | Adj.Close &lt;dbl&gt; | Volume &lt;int&gt; | Close_Ratio &lt;dbl&gt; | Adj.Close_Ratio &lt;dbl&gt; | Difference_Ratio &lt;dbl&gt; | Dividend &lt;dbl&gt; |\n",
       "|---|---|---|---|---|---|---|---|---|---|---|---|\n",
       "| 1 | 2018-01-02 | 1048.34 | 1066.94 | 1045.230 | 1065.00 | 1065.00 | 1237600 |        NA |        NA | NA | NA |\n",
       "| 2 | 2018-01-03 | 1064.31 | 1086.29 | 1063.210 | 1082.48 | 1082.48 | 1430200 | 0.9838519 | 0.9838519 |  0 |  0 |\n",
       "| 3 | 2018-01-04 | 1088.00 | 1093.57 | 1084.002 | 1086.40 | 1086.40 | 1004600 | 0.9963917 | 0.9963917 |  0 |  0 |\n",
       "| 4 | 2018-01-05 | 1094.00 | 1104.25 | 1092.000 | 1102.23 | 1102.23 | 1279100 | 0.9856382 | 0.9856382 |  0 |  0 |\n",
       "| 5 | 2018-01-08 | 1102.23 | 1111.27 | 1101.620 | 1106.94 | 1106.94 | 1047600 | 0.9957451 | 0.9957451 |  0 |  0 |\n",
       "| 6 | 2018-01-09 | 1109.40 | 1110.57 | 1101.231 | 1106.26 | 1106.26 |  902500 | 1.0006146 | 1.0006146 |  0 |  0 |\n",
       "\n"
      ],
      "text/plain": [
       "  Date       Open    High    Low      Close   Adj.Close Volume  Close_Ratio\n",
       "1 2018-01-02 1048.34 1066.94 1045.230 1065.00 1065.00   1237600        NA  \n",
       "2 2018-01-03 1064.31 1086.29 1063.210 1082.48 1082.48   1430200 0.9838519  \n",
       "3 2018-01-04 1088.00 1093.57 1084.002 1086.40 1086.40   1004600 0.9963917  \n",
       "4 2018-01-05 1094.00 1104.25 1092.000 1102.23 1102.23   1279100 0.9856382  \n",
       "5 2018-01-08 1102.23 1111.27 1101.620 1106.94 1106.94   1047600 0.9957451  \n",
       "6 2018-01-09 1109.40 1110.57 1101.231 1106.26 1106.26    902500 1.0006146  \n",
       "  Adj.Close_Ratio Difference_Ratio Dividend\n",
       "1        NA       NA               NA      \n",
       "2 0.9838519        0                0      \n",
       "3 0.9963917        0                0      \n",
       "4 0.9856382        0                0      \n",
       "5 0.9957451        0                0      \n",
       "6 1.0006146        0                0      "
      ]
     },
     "metadata": {},
     "output_type": "display_data"
    },
    {
     "data": {
      "text/html": [
       "<table>\n",
       "<caption>A data.frame: 6 × 11</caption>\n",
       "<thead>\n",
       "\t<tr><th></th><th scope=col>Date</th><th scope=col>Open</th><th scope=col>High</th><th scope=col>Low</th><th scope=col>Close</th><th scope=col>Adj.Close</th><th scope=col>Volume</th><th scope=col>Close_Ratio</th><th scope=col>Adj.Close_Ratio</th><th scope=col>Difference_Ratio</th><th scope=col>Dividend</th></tr>\n",
       "\t<tr><th></th><th scope=col>&lt;chr&gt;</th><th scope=col>&lt;dbl&gt;</th><th scope=col>&lt;dbl&gt;</th><th scope=col>&lt;dbl&gt;</th><th scope=col>&lt;dbl&gt;</th><th scope=col>&lt;dbl&gt;</th><th scope=col>&lt;int&gt;</th><th scope=col>&lt;dbl&gt;</th><th scope=col>&lt;dbl&gt;</th><th scope=col>&lt;dbl&gt;</th><th scope=col>&lt;dbl&gt;</th></tr>\n",
       "</thead>\n",
       "<tbody>\n",
       "\t<tr><th scope=row>1</th><td>2018-01-02</td><td>177.68</td><td>181.58</td><td>177.55</td><td>181.42</td><td>181.42</td><td>18151900</td><td>       NA</td><td>       NA</td><td>NA</td><td>NA</td></tr>\n",
       "\t<tr><th scope=row>2</th><td>2018-01-03</td><td>181.88</td><td>184.78</td><td>181.33</td><td>184.67</td><td>184.67</td><td>16886600</td><td>0.9824010</td><td>0.9824010</td><td> 0</td><td> 0</td></tr>\n",
       "\t<tr><th scope=row>3</th><td>2018-01-04</td><td>184.90</td><td>186.21</td><td>184.10</td><td>184.33</td><td>184.33</td><td>13880900</td><td>1.0018445</td><td>1.0018445</td><td> 0</td><td> 0</td></tr>\n",
       "\t<tr><th scope=row>4</th><td>2018-01-05</td><td>185.59</td><td>186.90</td><td>184.93</td><td>186.85</td><td>186.85</td><td>13574500</td><td>0.9865132</td><td>0.9865132</td><td> 0</td><td> 0</td></tr>\n",
       "\t<tr><th scope=row>5</th><td>2018-01-08</td><td>187.20</td><td>188.90</td><td>186.33</td><td>188.28</td><td>188.28</td><td>17994700</td><td>0.9924050</td><td>0.9924050</td><td> 0</td><td> 0</td></tr>\n",
       "\t<tr><th scope=row>6</th><td>2018-01-09</td><td>188.70</td><td>188.80</td><td>187.10</td><td>187.87</td><td>187.87</td><td>12393100</td><td>1.0021824</td><td>1.0021824</td><td> 0</td><td> 0</td></tr>\n",
       "</tbody>\n",
       "</table>\n"
      ],
      "text/latex": [
       "A data.frame: 6 × 11\n",
       "\\begin{tabular}{r|lllllllllll}\n",
       "  & Date & Open & High & Low & Close & Adj.Close & Volume & Close\\_Ratio & Adj.Close\\_Ratio & Difference\\_Ratio & Dividend\\\\\n",
       "  & <chr> & <dbl> & <dbl> & <dbl> & <dbl> & <dbl> & <int> & <dbl> & <dbl> & <dbl> & <dbl>\\\\\n",
       "\\hline\n",
       "\t1 & 2018-01-02 & 177.68 & 181.58 & 177.55 & 181.42 & 181.42 & 18151900 &        NA &        NA & NA & NA\\\\\n",
       "\t2 & 2018-01-03 & 181.88 & 184.78 & 181.33 & 184.67 & 184.67 & 16886600 & 0.9824010 & 0.9824010 &  0 &  0\\\\\n",
       "\t3 & 2018-01-04 & 184.90 & 186.21 & 184.10 & 184.33 & 184.33 & 13880900 & 1.0018445 & 1.0018445 &  0 &  0\\\\\n",
       "\t4 & 2018-01-05 & 185.59 & 186.90 & 184.93 & 186.85 & 186.85 & 13574500 & 0.9865132 & 0.9865132 &  0 &  0\\\\\n",
       "\t5 & 2018-01-08 & 187.20 & 188.90 & 186.33 & 188.28 & 188.28 & 17994700 & 0.9924050 & 0.9924050 &  0 &  0\\\\\n",
       "\t6 & 2018-01-09 & 188.70 & 188.80 & 187.10 & 187.87 & 187.87 & 12393100 & 1.0021824 & 1.0021824 &  0 &  0\\\\\n",
       "\\end{tabular}\n"
      ],
      "text/markdown": [
       "\n",
       "A data.frame: 6 × 11\n",
       "\n",
       "| <!--/--> | Date &lt;chr&gt; | Open &lt;dbl&gt; | High &lt;dbl&gt; | Low &lt;dbl&gt; | Close &lt;dbl&gt; | Adj.Close &lt;dbl&gt; | Volume &lt;int&gt; | Close_Ratio &lt;dbl&gt; | Adj.Close_Ratio &lt;dbl&gt; | Difference_Ratio &lt;dbl&gt; | Dividend &lt;dbl&gt; |\n",
       "|---|---|---|---|---|---|---|---|---|---|---|---|\n",
       "| 1 | 2018-01-02 | 177.68 | 181.58 | 177.55 | 181.42 | 181.42 | 18151900 |        NA |        NA | NA | NA |\n",
       "| 2 | 2018-01-03 | 181.88 | 184.78 | 181.33 | 184.67 | 184.67 | 16886600 | 0.9824010 | 0.9824010 |  0 |  0 |\n",
       "| 3 | 2018-01-04 | 184.90 | 186.21 | 184.10 | 184.33 | 184.33 | 13880900 | 1.0018445 | 1.0018445 |  0 |  0 |\n",
       "| 4 | 2018-01-05 | 185.59 | 186.90 | 184.93 | 186.85 | 186.85 | 13574500 | 0.9865132 | 0.9865132 |  0 |  0 |\n",
       "| 5 | 2018-01-08 | 187.20 | 188.90 | 186.33 | 188.28 | 188.28 | 17994700 | 0.9924050 | 0.9924050 |  0 |  0 |\n",
       "| 6 | 2018-01-09 | 188.70 | 188.80 | 187.10 | 187.87 | 187.87 | 12393100 | 1.0021824 | 1.0021824 |  0 |  0 |\n",
       "\n"
      ],
      "text/plain": [
       "  Date       Open   High   Low    Close  Adj.Close Volume   Close_Ratio\n",
       "1 2018-01-02 177.68 181.58 177.55 181.42 181.42    18151900        NA  \n",
       "2 2018-01-03 181.88 184.78 181.33 184.67 184.67    16886600 0.9824010  \n",
       "3 2018-01-04 184.90 186.21 184.10 184.33 184.33    13880900 1.0018445  \n",
       "4 2018-01-05 185.59 186.90 184.93 186.85 186.85    13574500 0.9865132  \n",
       "5 2018-01-08 187.20 188.90 186.33 188.28 188.28    17994700 0.9924050  \n",
       "6 2018-01-09 188.70 188.80 187.10 187.87 187.87    12393100 1.0021824  \n",
       "  Adj.Close_Ratio Difference_Ratio Dividend\n",
       "1        NA       NA               NA      \n",
       "2 0.9824010        0                0      \n",
       "3 1.0018445        0                0      \n",
       "4 0.9865132        0                0      \n",
       "5 0.9924050        0                0      \n",
       "6 1.0021824        0                0      "
      ]
     },
     "metadata": {},
     "output_type": "display_data"
    },
    {
     "data": {
      "text/html": [
       "<table>\n",
       "<caption>A data.frame: 6 × 11</caption>\n",
       "<thead>\n",
       "\t<tr><th></th><th scope=col>Date</th><th scope=col>Open</th><th scope=col>High</th><th scope=col>Low</th><th scope=col>Close</th><th scope=col>Adj.Close</th><th scope=col>Volume</th><th scope=col>Close_Ratio</th><th scope=col>Adj.Close_Ratio</th><th scope=col>Difference_Ratio</th><th scope=col>Dividend</th></tr>\n",
       "\t<tr><th></th><th scope=col>&lt;chr&gt;</th><th scope=col>&lt;dbl&gt;</th><th scope=col>&lt;dbl&gt;</th><th scope=col>&lt;dbl&gt;</th><th scope=col>&lt;dbl&gt;</th><th scope=col>&lt;dbl&gt;</th><th scope=col>&lt;int&gt;</th><th scope=col>&lt;dbl&gt;</th><th scope=col>&lt;dbl&gt;</th><th scope=col>&lt;dbl&gt;</th><th scope=col>&lt;dbl&gt;</th></tr>\n",
       "</thead>\n",
       "<tbody>\n",
       "\t<tr><th scope=row>1</th><td>2018-01-02</td><td>86.13</td><td>86.31</td><td>85.50</td><td>85.95</td><td>82.59932</td><td>22483800</td><td>       NA</td><td>       NA</td><td>           NA</td><td>           NA</td></tr>\n",
       "\t<tr><th scope=row>2</th><td>2018-01-03</td><td>86.06</td><td>86.51</td><td>85.97</td><td>86.35</td><td>82.98373</td><td>26061400</td><td>0.9953677</td><td>0.9953677</td><td> 7.849602e-09</td><td> 6.778131e-07</td></tr>\n",
       "\t<tr><th scope=row>3</th><td>2018-01-04</td><td>86.59</td><td>87.66</td><td>86.57</td><td>87.11</td><td>83.71412</td><td>21912000</td><td>0.9912754</td><td>0.9912752</td><td> 2.010697e-07</td><td> 1.751518e-05</td></tr>\n",
       "\t<tr><th scope=row>4</th><td>2018-01-05</td><td>87.66</td><td>88.41</td><td>87.43</td><td>88.19</td><td>84.75201</td><td>23407100</td><td>0.9877537</td><td>0.9877537</td><td>-3.983611e-08</td><td>-3.513146e-06</td></tr>\n",
       "\t<tr><th scope=row>5</th><td>2018-01-08</td><td>88.20</td><td>88.58</td><td>87.60</td><td>88.28</td><td>84.83849</td><td>22113000</td><td>0.9989806</td><td>0.9989807</td><td>-1.950922e-07</td><td>-1.722274e-05</td></tr>\n",
       "\t<tr><th scope=row>6</th><td>2018-01-09</td><td>88.65</td><td>88.73</td><td>87.86</td><td>88.22</td><td>84.78084</td><td>19484300</td><td>1.0006801</td><td>1.0006800</td><td> 1.302384e-07</td><td> 1.148963e-05</td></tr>\n",
       "</tbody>\n",
       "</table>\n"
      ],
      "text/latex": [
       "A data.frame: 6 × 11\n",
       "\\begin{tabular}{r|lllllllllll}\n",
       "  & Date & Open & High & Low & Close & Adj.Close & Volume & Close\\_Ratio & Adj.Close\\_Ratio & Difference\\_Ratio & Dividend\\\\\n",
       "  & <chr> & <dbl> & <dbl> & <dbl> & <dbl> & <dbl> & <int> & <dbl> & <dbl> & <dbl> & <dbl>\\\\\n",
       "\\hline\n",
       "\t1 & 2018-01-02 & 86.13 & 86.31 & 85.50 & 85.95 & 82.59932 & 22483800 &        NA &        NA &            NA &            NA\\\\\n",
       "\t2 & 2018-01-03 & 86.06 & 86.51 & 85.97 & 86.35 & 82.98373 & 26061400 & 0.9953677 & 0.9953677 &  7.849602e-09 &  6.778131e-07\\\\\n",
       "\t3 & 2018-01-04 & 86.59 & 87.66 & 86.57 & 87.11 & 83.71412 & 21912000 & 0.9912754 & 0.9912752 &  2.010697e-07 &  1.751518e-05\\\\\n",
       "\t4 & 2018-01-05 & 87.66 & 88.41 & 87.43 & 88.19 & 84.75201 & 23407100 & 0.9877537 & 0.9877537 & -3.983611e-08 & -3.513146e-06\\\\\n",
       "\t5 & 2018-01-08 & 88.20 & 88.58 & 87.60 & 88.28 & 84.83849 & 22113000 & 0.9989806 & 0.9989807 & -1.950922e-07 & -1.722274e-05\\\\\n",
       "\t6 & 2018-01-09 & 88.65 & 88.73 & 87.86 & 88.22 & 84.78084 & 19484300 & 1.0006801 & 1.0006800 &  1.302384e-07 &  1.148963e-05\\\\\n",
       "\\end{tabular}\n"
      ],
      "text/markdown": [
       "\n",
       "A data.frame: 6 × 11\n",
       "\n",
       "| <!--/--> | Date &lt;chr&gt; | Open &lt;dbl&gt; | High &lt;dbl&gt; | Low &lt;dbl&gt; | Close &lt;dbl&gt; | Adj.Close &lt;dbl&gt; | Volume &lt;int&gt; | Close_Ratio &lt;dbl&gt; | Adj.Close_Ratio &lt;dbl&gt; | Difference_Ratio &lt;dbl&gt; | Dividend &lt;dbl&gt; |\n",
       "|---|---|---|---|---|---|---|---|---|---|---|---|\n",
       "| 1 | 2018-01-02 | 86.13 | 86.31 | 85.50 | 85.95 | 82.59932 | 22483800 |        NA |        NA |            NA |            NA |\n",
       "| 2 | 2018-01-03 | 86.06 | 86.51 | 85.97 | 86.35 | 82.98373 | 26061400 | 0.9953677 | 0.9953677 |  7.849602e-09 |  6.778131e-07 |\n",
       "| 3 | 2018-01-04 | 86.59 | 87.66 | 86.57 | 87.11 | 83.71412 | 21912000 | 0.9912754 | 0.9912752 |  2.010697e-07 |  1.751518e-05 |\n",
       "| 4 | 2018-01-05 | 87.66 | 88.41 | 87.43 | 88.19 | 84.75201 | 23407100 | 0.9877537 | 0.9877537 | -3.983611e-08 | -3.513146e-06 |\n",
       "| 5 | 2018-01-08 | 88.20 | 88.58 | 87.60 | 88.28 | 84.83849 | 22113000 | 0.9989806 | 0.9989807 | -1.950922e-07 | -1.722274e-05 |\n",
       "| 6 | 2018-01-09 | 88.65 | 88.73 | 87.86 | 88.22 | 84.78084 | 19484300 | 1.0006801 | 1.0006800 |  1.302384e-07 |  1.148963e-05 |\n",
       "\n"
      ],
      "text/plain": [
       "  Date       Open  High  Low   Close Adj.Close Volume   Close_Ratio\n",
       "1 2018-01-02 86.13 86.31 85.50 85.95 82.59932  22483800        NA  \n",
       "2 2018-01-03 86.06 86.51 85.97 86.35 82.98373  26061400 0.9953677  \n",
       "3 2018-01-04 86.59 87.66 86.57 87.11 83.71412  21912000 0.9912754  \n",
       "4 2018-01-05 87.66 88.41 87.43 88.19 84.75201  23407100 0.9877537  \n",
       "5 2018-01-08 88.20 88.58 87.60 88.28 84.83849  22113000 0.9989806  \n",
       "6 2018-01-09 88.65 88.73 87.86 88.22 84.78084  19484300 1.0006801  \n",
       "  Adj.Close_Ratio Difference_Ratio Dividend     \n",
       "1        NA                  NA               NA\n",
       "2 0.9953677        7.849602e-09     6.778131e-07\n",
       "3 0.9912752        2.010697e-07     1.751518e-05\n",
       "4 0.9877537       -3.983611e-08    -3.513146e-06\n",
       "5 0.9989807       -1.950922e-07    -1.722274e-05\n",
       "6 1.0006800        1.302384e-07     1.148963e-05"
      ]
     },
     "metadata": {},
     "output_type": "display_data"
    },
    {
     "data": {
      "text/html": [
       "<table>\n",
       "<caption>A data.frame: 6 × 11</caption>\n",
       "<thead>\n",
       "\t<tr><th></th><th scope=col>Date</th><th scope=col>Open</th><th scope=col>High</th><th scope=col>Low</th><th scope=col>Close</th><th scope=col>Adj.Close</th><th scope=col>Volume</th><th scope=col>Close_Ratio</th><th scope=col>Adj.Close_Ratio</th><th scope=col>Difference_Ratio</th><th scope=col>Dividend</th></tr>\n",
       "\t<tr><th></th><th scope=col>&lt;chr&gt;</th><th scope=col>&lt;dbl&gt;</th><th scope=col>&lt;dbl&gt;</th><th scope=col>&lt;dbl&gt;</th><th scope=col>&lt;dbl&gt;</th><th scope=col>&lt;dbl&gt;</th><th scope=col>&lt;int&gt;</th><th scope=col>&lt;dbl&gt;</th><th scope=col>&lt;dbl&gt;</th><th scope=col>&lt;dbl&gt;</th><th scope=col>&lt;dbl&gt;</th></tr>\n",
       "</thead>\n",
       "<tbody>\n",
       "\t<tr><th scope=row>1</th><td>2018-01-02</td><td>1172.00</td><td>1190.00</td><td>1170.51</td><td>1189.01</td><td>1189.01</td><td>2694500</td><td>       NA</td><td>       NA</td><td>NA</td><td>NA</td></tr>\n",
       "\t<tr><th scope=row>2</th><td>2018-01-03</td><td>1188.30</td><td>1205.49</td><td>1188.30</td><td>1204.20</td><td>1204.20</td><td>3108800</td><td>0.9873859</td><td>0.9873859</td><td> 0</td><td> 0</td></tr>\n",
       "\t<tr><th scope=row>3</th><td>2018-01-04</td><td>1205.00</td><td>1215.87</td><td>1204.66</td><td>1209.59</td><td>1209.59</td><td>3022100</td><td>0.9955439</td><td>0.9955439</td><td> 0</td><td> 0</td></tr>\n",
       "\t<tr><th scope=row>4</th><td>2018-01-05</td><td>1217.51</td><td>1229.14</td><td>1210.00</td><td>1229.14</td><td>1229.14</td><td>3544700</td><td>0.9840945</td><td>0.9840945</td><td> 0</td><td> 0</td></tr>\n",
       "\t<tr><th scope=row>5</th><td>2018-01-08</td><td>1236.00</td><td>1253.08</td><td>1232.03</td><td>1246.87</td><td>1246.87</td><td>4279500</td><td>0.9857804</td><td>0.9857804</td><td> 0</td><td> 0</td></tr>\n",
       "\t<tr><th scope=row>6</th><td>2018-01-09</td><td>1256.90</td><td>1259.33</td><td>1241.76</td><td>1252.70</td><td>1252.70</td><td>3661300</td><td>0.9953461</td><td>0.9953461</td><td> 0</td><td> 0</td></tr>\n",
       "</tbody>\n",
       "</table>\n"
      ],
      "text/latex": [
       "A data.frame: 6 × 11\n",
       "\\begin{tabular}{r|lllllllllll}\n",
       "  & Date & Open & High & Low & Close & Adj.Close & Volume & Close\\_Ratio & Adj.Close\\_Ratio & Difference\\_Ratio & Dividend\\\\\n",
       "  & <chr> & <dbl> & <dbl> & <dbl> & <dbl> & <dbl> & <int> & <dbl> & <dbl> & <dbl> & <dbl>\\\\\n",
       "\\hline\n",
       "\t1 & 2018-01-02 & 1172.00 & 1190.00 & 1170.51 & 1189.01 & 1189.01 & 2694500 &        NA &        NA & NA & NA\\\\\n",
       "\t2 & 2018-01-03 & 1188.30 & 1205.49 & 1188.30 & 1204.20 & 1204.20 & 3108800 & 0.9873859 & 0.9873859 &  0 &  0\\\\\n",
       "\t3 & 2018-01-04 & 1205.00 & 1215.87 & 1204.66 & 1209.59 & 1209.59 & 3022100 & 0.9955439 & 0.9955439 &  0 &  0\\\\\n",
       "\t4 & 2018-01-05 & 1217.51 & 1229.14 & 1210.00 & 1229.14 & 1229.14 & 3544700 & 0.9840945 & 0.9840945 &  0 &  0\\\\\n",
       "\t5 & 2018-01-08 & 1236.00 & 1253.08 & 1232.03 & 1246.87 & 1246.87 & 4279500 & 0.9857804 & 0.9857804 &  0 &  0\\\\\n",
       "\t6 & 2018-01-09 & 1256.90 & 1259.33 & 1241.76 & 1252.70 & 1252.70 & 3661300 & 0.9953461 & 0.9953461 &  0 &  0\\\\\n",
       "\\end{tabular}\n"
      ],
      "text/markdown": [
       "\n",
       "A data.frame: 6 × 11\n",
       "\n",
       "| <!--/--> | Date &lt;chr&gt; | Open &lt;dbl&gt; | High &lt;dbl&gt; | Low &lt;dbl&gt; | Close &lt;dbl&gt; | Adj.Close &lt;dbl&gt; | Volume &lt;int&gt; | Close_Ratio &lt;dbl&gt; | Adj.Close_Ratio &lt;dbl&gt; | Difference_Ratio &lt;dbl&gt; | Dividend &lt;dbl&gt; |\n",
       "|---|---|---|---|---|---|---|---|---|---|---|---|\n",
       "| 1 | 2018-01-02 | 1172.00 | 1190.00 | 1170.51 | 1189.01 | 1189.01 | 2694500 |        NA |        NA | NA | NA |\n",
       "| 2 | 2018-01-03 | 1188.30 | 1205.49 | 1188.30 | 1204.20 | 1204.20 | 3108800 | 0.9873859 | 0.9873859 |  0 |  0 |\n",
       "| 3 | 2018-01-04 | 1205.00 | 1215.87 | 1204.66 | 1209.59 | 1209.59 | 3022100 | 0.9955439 | 0.9955439 |  0 |  0 |\n",
       "| 4 | 2018-01-05 | 1217.51 | 1229.14 | 1210.00 | 1229.14 | 1229.14 | 3544700 | 0.9840945 | 0.9840945 |  0 |  0 |\n",
       "| 5 | 2018-01-08 | 1236.00 | 1253.08 | 1232.03 | 1246.87 | 1246.87 | 4279500 | 0.9857804 | 0.9857804 |  0 |  0 |\n",
       "| 6 | 2018-01-09 | 1256.90 | 1259.33 | 1241.76 | 1252.70 | 1252.70 | 3661300 | 0.9953461 | 0.9953461 |  0 |  0 |\n",
       "\n"
      ],
      "text/plain": [
       "  Date       Open    High    Low     Close   Adj.Close Volume  Close_Ratio\n",
       "1 2018-01-02 1172.00 1190.00 1170.51 1189.01 1189.01   2694500        NA  \n",
       "2 2018-01-03 1188.30 1205.49 1188.30 1204.20 1204.20   3108800 0.9873859  \n",
       "3 2018-01-04 1205.00 1215.87 1204.66 1209.59 1209.59   3022100 0.9955439  \n",
       "4 2018-01-05 1217.51 1229.14 1210.00 1229.14 1229.14   3544700 0.9840945  \n",
       "5 2018-01-08 1236.00 1253.08 1232.03 1246.87 1246.87   4279500 0.9857804  \n",
       "6 2018-01-09 1256.90 1259.33 1241.76 1252.70 1252.70   3661300 0.9953461  \n",
       "  Adj.Close_Ratio Difference_Ratio Dividend\n",
       "1        NA       NA               NA      \n",
       "2 0.9873859        0                0      \n",
       "3 0.9955439        0                0      \n",
       "4 0.9840945        0                0      \n",
       "5 0.9857804        0                0      \n",
       "6 0.9953461        0                0      "
      ]
     },
     "metadata": {},
     "output_type": "display_data"
    },
    {
     "data": {
      "text/html": [
       "<table>\n",
       "<caption>A data.frame: 6 × 11</caption>\n",
       "<thead>\n",
       "\t<tr><th></th><th scope=col>Date</th><th scope=col>Open</th><th scope=col>High</th><th scope=col>Low</th><th scope=col>Close</th><th scope=col>Adj.Close</th><th scope=col>Volume</th><th scope=col>Close_Ratio</th><th scope=col>Adj.Close_Ratio</th><th scope=col>Difference_Ratio</th><th scope=col>Dividend</th></tr>\n",
       "\t<tr><th></th><th scope=col>&lt;chr&gt;</th><th scope=col>&lt;dbl&gt;</th><th scope=col>&lt;dbl&gt;</th><th scope=col>&lt;dbl&gt;</th><th scope=col>&lt;dbl&gt;</th><th scope=col>&lt;dbl&gt;</th><th scope=col>&lt;int&gt;</th><th scope=col>&lt;dbl&gt;</th><th scope=col>&lt;dbl&gt;</th><th scope=col>&lt;dbl&gt;</th><th scope=col>&lt;dbl&gt;</th></tr>\n",
       "</thead>\n",
       "<tbody>\n",
       "\t<tr><th scope=row>1</th><td>2018-01-02</td><td>42.5400</td><td>43.0750</td><td>42.3150</td><td>43.0650</td><td>41.51358</td><td>102223600</td><td>       NA</td><td>       NA</td><td>           NA</td><td>           NA</td></tr>\n",
       "\t<tr><th scope=row>2</th><td>2018-01-03</td><td>43.1325</td><td>43.6375</td><td>42.9900</td><td>43.0575</td><td>41.50634</td><td>118071600</td><td>1.0001742</td><td>1.0001743</td><td>-1.491097e-07</td><td>-6.420290e-06</td></tr>\n",
       "\t<tr><th scope=row>3</th><td>2018-01-04</td><td>43.1350</td><td>43.3675</td><td>43.0200</td><td>43.2575</td><td>41.69914</td><td> 89738400</td><td>0.9953765</td><td>0.9953765</td><td>-2.205712e-08</td><td>-9.541357e-07</td></tr>\n",
       "\t<tr><th scope=row>4</th><td>2018-01-05</td><td>43.3600</td><td>43.8425</td><td>43.2625</td><td>43.7500</td><td>42.17389</td><td> 94640000</td><td>0.9887429</td><td>0.9887429</td><td>-8.389889e-08</td><td>-3.670576e-06</td></tr>\n",
       "\t<tr><th scope=row>5</th><td>2018-01-08</td><td>43.5875</td><td>43.9025</td><td>43.4825</td><td>43.5875</td><td>42.01725</td><td> 82271200</td><td>1.0037281</td><td>1.0037280</td><td> 1.184949e-07</td><td> 5.164895e-06</td></tr>\n",
       "\t<tr><th scope=row>6</th><td>2018-01-09</td><td>43.6375</td><td>43.7650</td><td>43.3525</td><td>43.5825</td><td>42.01243</td><td> 86336000</td><td>1.0001148</td><td>1.0001148</td><td>-4.713328e-09</td><td>-2.054186e-07</td></tr>\n",
       "</tbody>\n",
       "</table>\n"
      ],
      "text/latex": [
       "A data.frame: 6 × 11\n",
       "\\begin{tabular}{r|lllllllllll}\n",
       "  & Date & Open & High & Low & Close & Adj.Close & Volume & Close\\_Ratio & Adj.Close\\_Ratio & Difference\\_Ratio & Dividend\\\\\n",
       "  & <chr> & <dbl> & <dbl> & <dbl> & <dbl> & <dbl> & <int> & <dbl> & <dbl> & <dbl> & <dbl>\\\\\n",
       "\\hline\n",
       "\t1 & 2018-01-02 & 42.5400 & 43.0750 & 42.3150 & 43.0650 & 41.51358 & 102223600 &        NA &        NA &            NA &            NA\\\\\n",
       "\t2 & 2018-01-03 & 43.1325 & 43.6375 & 42.9900 & 43.0575 & 41.50634 & 118071600 & 1.0001742 & 1.0001743 & -1.491097e-07 & -6.420290e-06\\\\\n",
       "\t3 & 2018-01-04 & 43.1350 & 43.3675 & 43.0200 & 43.2575 & 41.69914 &  89738400 & 0.9953765 & 0.9953765 & -2.205712e-08 & -9.541357e-07\\\\\n",
       "\t4 & 2018-01-05 & 43.3600 & 43.8425 & 43.2625 & 43.7500 & 42.17389 &  94640000 & 0.9887429 & 0.9887429 & -8.389889e-08 & -3.670576e-06\\\\\n",
       "\t5 & 2018-01-08 & 43.5875 & 43.9025 & 43.4825 & 43.5875 & 42.01725 &  82271200 & 1.0037281 & 1.0037280 &  1.184949e-07 &  5.164895e-06\\\\\n",
       "\t6 & 2018-01-09 & 43.6375 & 43.7650 & 43.3525 & 43.5825 & 42.01243 &  86336000 & 1.0001148 & 1.0001148 & -4.713328e-09 & -2.054186e-07\\\\\n",
       "\\end{tabular}\n"
      ],
      "text/markdown": [
       "\n",
       "A data.frame: 6 × 11\n",
       "\n",
       "| <!--/--> | Date &lt;chr&gt; | Open &lt;dbl&gt; | High &lt;dbl&gt; | Low &lt;dbl&gt; | Close &lt;dbl&gt; | Adj.Close &lt;dbl&gt; | Volume &lt;int&gt; | Close_Ratio &lt;dbl&gt; | Adj.Close_Ratio &lt;dbl&gt; | Difference_Ratio &lt;dbl&gt; | Dividend &lt;dbl&gt; |\n",
       "|---|---|---|---|---|---|---|---|---|---|---|---|\n",
       "| 1 | 2018-01-02 | 42.5400 | 43.0750 | 42.3150 | 43.0650 | 41.51358 | 102223600 |        NA |        NA |            NA |            NA |\n",
       "| 2 | 2018-01-03 | 43.1325 | 43.6375 | 42.9900 | 43.0575 | 41.50634 | 118071600 | 1.0001742 | 1.0001743 | -1.491097e-07 | -6.420290e-06 |\n",
       "| 3 | 2018-01-04 | 43.1350 | 43.3675 | 43.0200 | 43.2575 | 41.69914 |  89738400 | 0.9953765 | 0.9953765 | -2.205712e-08 | -9.541357e-07 |\n",
       "| 4 | 2018-01-05 | 43.3600 | 43.8425 | 43.2625 | 43.7500 | 42.17389 |  94640000 | 0.9887429 | 0.9887429 | -8.389889e-08 | -3.670576e-06 |\n",
       "| 5 | 2018-01-08 | 43.5875 | 43.9025 | 43.4825 | 43.5875 | 42.01725 |  82271200 | 1.0037281 | 1.0037280 |  1.184949e-07 |  5.164895e-06 |\n",
       "| 6 | 2018-01-09 | 43.6375 | 43.7650 | 43.3525 | 43.5825 | 42.01243 |  86336000 | 1.0001148 | 1.0001148 | -4.713328e-09 | -2.054186e-07 |\n",
       "\n"
      ],
      "text/plain": [
       "  Date       Open    High    Low     Close   Adj.Close Volume    Close_Ratio\n",
       "1 2018-01-02 42.5400 43.0750 42.3150 43.0650 41.51358  102223600        NA  \n",
       "2 2018-01-03 43.1325 43.6375 42.9900 43.0575 41.50634  118071600 1.0001742  \n",
       "3 2018-01-04 43.1350 43.3675 43.0200 43.2575 41.69914   89738400 0.9953765  \n",
       "4 2018-01-05 43.3600 43.8425 43.2625 43.7500 42.17389   94640000 0.9887429  \n",
       "5 2018-01-08 43.5875 43.9025 43.4825 43.5875 42.01725   82271200 1.0037281  \n",
       "6 2018-01-09 43.6375 43.7650 43.3525 43.5825 42.01243   86336000 1.0001148  \n",
       "  Adj.Close_Ratio Difference_Ratio Dividend     \n",
       "1        NA                  NA               NA\n",
       "2 1.0001743       -1.491097e-07    -6.420290e-06\n",
       "3 0.9953765       -2.205712e-08    -9.541357e-07\n",
       "4 0.9887429       -8.389889e-08    -3.670576e-06\n",
       "5 1.0037280        1.184949e-07     5.164895e-06\n",
       "6 1.0001148       -4.713328e-09    -2.054186e-07"
      ]
     },
     "metadata": {},
     "output_type": "display_data"
    }
   ],
   "source": [
    "#Finding the \"Dividend\" and adding the column to the dataframe\n",
    "#IBM\n",
    "ibm$Dividend = ibm[,5]*ibm[,10]\n",
    "head(ibm)\n",
    "\n",
    "#GOOG\n",
    "goog$Dividend = goog[,5]*goog[,10]\n",
    "head(goog)\n",
    "\n",
    "#FB\n",
    "fb$Dividend = fb[,5]*fb[,10]\n",
    "head(fb)\n",
    "\n",
    "#MSFT\n",
    "msft$Dividend = msft[,5]*msft[,10]\n",
    "head(msft)\n",
    "\n",
    "#AMZN\n",
    "amzn$Dividend = amzn[,5]*amzn[,10]\n",
    "head(amzn)\n",
    "\n",
    "#AAPL\n",
    "aapl$Dividend = aapl[,5]*aapl[,10]\n",
    "head(aapl)\n"
   ]
  },
  {
   "cell_type": "code",
   "execution_count": 69,
   "metadata": {},
   "outputs": [
    {
     "data": {
      "text/html": [
       "<table>\n",
       "<caption>A data.frame: 5 × 2</caption>\n",
       "<thead>\n",
       "\t<tr><th></th><th scope=col>Date</th><th scope=col>Dividend</th></tr>\n",
       "\t<tr><th></th><th scope=col>&lt;chr&gt;</th><th scope=col>&lt;dbl&gt;</th></tr>\n",
       "</thead>\n",
       "<tbody>\n",
       "\t<tr><th scope=row>NA</th><td>NA        </td><td>      NA</td></tr>\n",
       "\t<tr><th scope=row>27</th><td>2018-02-08</td><td>1.500006</td></tr>\n",
       "\t<tr><th scope=row>89</th><td>2018-05-09</td><td>1.569984</td></tr>\n",
       "\t<tr><th scope=row>153</th><td>2018-08-09</td><td>1.570014</td></tr>\n",
       "\t<tr><th scope=row>217</th><td>2018-11-08</td><td>1.569999</td></tr>\n",
       "</tbody>\n",
       "</table>\n"
      ],
      "text/latex": [
       "A data.frame: 5 × 2\n",
       "\\begin{tabular}{r|ll}\n",
       "  & Date & Dividend\\\\\n",
       "  & <chr> & <dbl>\\\\\n",
       "\\hline\n",
       "\tNA & NA         &       NA\\\\\n",
       "\t27 & 2018-02-08 & 1.500006\\\\\n",
       "\t89 & 2018-05-09 & 1.569984\\\\\n",
       "\t153 & 2018-08-09 & 1.570014\\\\\n",
       "\t217 & 2018-11-08 & 1.569999\\\\\n",
       "\\end{tabular}\n"
      ],
      "text/markdown": [
       "\n",
       "A data.frame: 5 × 2\n",
       "\n",
       "| <!--/--> | Date &lt;chr&gt; | Dividend &lt;dbl&gt; |\n",
       "|---|---|---|\n",
       "| NA | NA         |       NA |\n",
       "| 27 | 2018-02-08 | 1.500006 |\n",
       "| 89 | 2018-05-09 | 1.569984 |\n",
       "| 153 | 2018-08-09 | 1.570014 |\n",
       "| 217 | 2018-11-08 | 1.569999 |\n",
       "\n"
      ],
      "text/plain": [
       "    Date       Dividend\n",
       "NA  NA               NA\n",
       "27  2018-02-08 1.500006\n",
       "89  2018-05-09 1.569984\n",
       "153 2018-08-09 1.570014\n",
       "217 2018-11-08 1.569999"
      ]
     },
     "metadata": {},
     "output_type": "display_data"
    },
    {
     "name": "stdout",
     "output_type": "stream",
     "text": [
      "[1] \"IBM\"\n"
     ]
    },
    {
     "data": {
      "text/html": [
       "<table>\n",
       "<caption>A data.frame: 1 × 2</caption>\n",
       "<thead>\n",
       "\t<tr><th></th><th scope=col>Date</th><th scope=col>Dividend</th></tr>\n",
       "\t<tr><th></th><th scope=col>&lt;chr&gt;</th><th scope=col>&lt;dbl&gt;</th></tr>\n",
       "</thead>\n",
       "<tbody>\n",
       "\t<tr><th scope=row>NA</th><td>NA</td><td>NA</td></tr>\n",
       "</tbody>\n",
       "</table>\n"
      ],
      "text/latex": [
       "A data.frame: 1 × 2\n",
       "\\begin{tabular}{r|ll}\n",
       "  & Date & Dividend\\\\\n",
       "  & <chr> & <dbl>\\\\\n",
       "\\hline\n",
       "\tNA & NA & NA\\\\\n",
       "\\end{tabular}\n"
      ],
      "text/markdown": [
       "\n",
       "A data.frame: 1 × 2\n",
       "\n",
       "| <!--/--> | Date &lt;chr&gt; | Dividend &lt;dbl&gt; |\n",
       "|---|---|---|\n",
       "| NA | NA | NA |\n",
       "\n"
      ],
      "text/plain": [
       "   Date Dividend\n",
       "NA NA   NA      "
      ]
     },
     "metadata": {},
     "output_type": "display_data"
    },
    {
     "name": "stdout",
     "output_type": "stream",
     "text": [
      "[1] \"GOOG\"\n"
     ]
    },
    {
     "data": {
      "text/html": [
       "<table>\n",
       "<caption>A data.frame: 1 × 2</caption>\n",
       "<thead>\n",
       "\t<tr><th></th><th scope=col>Date</th><th scope=col>Dividend</th></tr>\n",
       "\t<tr><th></th><th scope=col>&lt;chr&gt;</th><th scope=col>&lt;dbl&gt;</th></tr>\n",
       "</thead>\n",
       "<tbody>\n",
       "\t<tr><th scope=row>NA</th><td>NA</td><td>NA</td></tr>\n",
       "</tbody>\n",
       "</table>\n"
      ],
      "text/latex": [
       "A data.frame: 1 × 2\n",
       "\\begin{tabular}{r|ll}\n",
       "  & Date & Dividend\\\\\n",
       "  & <chr> & <dbl>\\\\\n",
       "\\hline\n",
       "\tNA & NA & NA\\\\\n",
       "\\end{tabular}\n"
      ],
      "text/markdown": [
       "\n",
       "A data.frame: 1 × 2\n",
       "\n",
       "| <!--/--> | Date &lt;chr&gt; | Dividend &lt;dbl&gt; |\n",
       "|---|---|---|\n",
       "| NA | NA | NA |\n",
       "\n"
      ],
      "text/plain": [
       "   Date Dividend\n",
       "NA NA   NA      "
      ]
     },
     "metadata": {},
     "output_type": "display_data"
    },
    {
     "name": "stdout",
     "output_type": "stream",
     "text": [
      "[1] \"FB\"\n"
     ]
    },
    {
     "data": {
      "text/html": [
       "<table>\n",
       "<caption>A data.frame: 5 × 2</caption>\n",
       "<thead>\n",
       "\t<tr><th></th><th scope=col>Date</th><th scope=col>Dividend</th></tr>\n",
       "\t<tr><th></th><th scope=col>&lt;chr&gt;</th><th scope=col>&lt;dbl&gt;</th></tr>\n",
       "</thead>\n",
       "<tbody>\n",
       "\t<tr><th scope=row>NA</th><td>NA        </td><td>       NA</td></tr>\n",
       "\t<tr><th scope=row>31</th><td>2018-02-14</td><td>0.4200146</td></tr>\n",
       "\t<tr><th scope=row>94</th><td>2018-05-16</td><td>0.4199766</td></tr>\n",
       "\t<tr><th scope=row>157</th><td>2018-08-15</td><td>0.4199988</td></tr>\n",
       "\t<tr><th scope=row>221</th><td>2018-11-14</td><td>0.4599991</td></tr>\n",
       "</tbody>\n",
       "</table>\n"
      ],
      "text/latex": [
       "A data.frame: 5 × 2\n",
       "\\begin{tabular}{r|ll}\n",
       "  & Date & Dividend\\\\\n",
       "  & <chr> & <dbl>\\\\\n",
       "\\hline\n",
       "\tNA & NA         &        NA\\\\\n",
       "\t31 & 2018-02-14 & 0.4200146\\\\\n",
       "\t94 & 2018-05-16 & 0.4199766\\\\\n",
       "\t157 & 2018-08-15 & 0.4199988\\\\\n",
       "\t221 & 2018-11-14 & 0.4599991\\\\\n",
       "\\end{tabular}\n"
      ],
      "text/markdown": [
       "\n",
       "A data.frame: 5 × 2\n",
       "\n",
       "| <!--/--> | Date &lt;chr&gt; | Dividend &lt;dbl&gt; |\n",
       "|---|---|---|\n",
       "| NA | NA         |        NA |\n",
       "| 31 | 2018-02-14 | 0.4200146 |\n",
       "| 94 | 2018-05-16 | 0.4199766 |\n",
       "| 157 | 2018-08-15 | 0.4199988 |\n",
       "| 221 | 2018-11-14 | 0.4599991 |\n",
       "\n"
      ],
      "text/plain": [
       "    Date       Dividend \n",
       "NA  NA                NA\n",
       "31  2018-02-14 0.4200146\n",
       "94  2018-05-16 0.4199766\n",
       "157 2018-08-15 0.4199988\n",
       "221 2018-11-14 0.4599991"
      ]
     },
     "metadata": {},
     "output_type": "display_data"
    },
    {
     "name": "stdout",
     "output_type": "stream",
     "text": [
      "[1] \"MSFT\"\n"
     ]
    },
    {
     "data": {
      "text/html": [
       "<table>\n",
       "<caption>A data.frame: 1 × 2</caption>\n",
       "<thead>\n",
       "\t<tr><th></th><th scope=col>Date</th><th scope=col>Dividend</th></tr>\n",
       "\t<tr><th></th><th scope=col>&lt;chr&gt;</th><th scope=col>&lt;dbl&gt;</th></tr>\n",
       "</thead>\n",
       "<tbody>\n",
       "\t<tr><th scope=row>NA</th><td>NA</td><td>NA</td></tr>\n",
       "</tbody>\n",
       "</table>\n"
      ],
      "text/latex": [
       "A data.frame: 1 × 2\n",
       "\\begin{tabular}{r|ll}\n",
       "  & Date & Dividend\\\\\n",
       "  & <chr> & <dbl>\\\\\n",
       "\\hline\n",
       "\tNA & NA & NA\\\\\n",
       "\\end{tabular}\n"
      ],
      "text/markdown": [
       "\n",
       "A data.frame: 1 × 2\n",
       "\n",
       "| <!--/--> | Date &lt;chr&gt; | Dividend &lt;dbl&gt; |\n",
       "|---|---|---|\n",
       "| NA | NA | NA |\n",
       "\n"
      ],
      "text/plain": [
       "   Date Dividend\n",
       "NA NA   NA      "
      ]
     },
     "metadata": {},
     "output_type": "display_data"
    },
    {
     "name": "stdout",
     "output_type": "stream",
     "text": [
      "[1] \"AMZN\"\n"
     ]
    },
    {
     "data": {
      "text/html": [
       "<table>\n",
       "<caption>A data.frame: 5 × 2</caption>\n",
       "<thead>\n",
       "\t<tr><th></th><th scope=col>Date</th><th scope=col>Dividend</th></tr>\n",
       "\t<tr><th></th><th scope=col>&lt;chr&gt;</th><th scope=col>&lt;dbl&gt;</th></tr>\n",
       "</thead>\n",
       "<tbody>\n",
       "\t<tr><th scope=row>NA</th><td>NA        </td><td>       NA</td></tr>\n",
       "\t<tr><th scope=row>28</th><td>2018-02-09</td><td>0.1574937</td></tr>\n",
       "\t<tr><th scope=row>91</th><td>2018-05-11</td><td>0.1825018</td></tr>\n",
       "\t<tr><th scope=row>154</th><td>2018-08-10</td><td>0.1824938</td></tr>\n",
       "\t<tr><th scope=row>217</th><td>2018-11-08</td><td>0.1824986</td></tr>\n",
       "</tbody>\n",
       "</table>\n"
      ],
      "text/latex": [
       "A data.frame: 5 × 2\n",
       "\\begin{tabular}{r|ll}\n",
       "  & Date & Dividend\\\\\n",
       "  & <chr> & <dbl>\\\\\n",
       "\\hline\n",
       "\tNA & NA         &        NA\\\\\n",
       "\t28 & 2018-02-09 & 0.1574937\\\\\n",
       "\t91 & 2018-05-11 & 0.1825018\\\\\n",
       "\t154 & 2018-08-10 & 0.1824938\\\\\n",
       "\t217 & 2018-11-08 & 0.1824986\\\\\n",
       "\\end{tabular}\n"
      ],
      "text/markdown": [
       "\n",
       "A data.frame: 5 × 2\n",
       "\n",
       "| <!--/--> | Date &lt;chr&gt; | Dividend &lt;dbl&gt; |\n",
       "|---|---|---|\n",
       "| NA | NA         |        NA |\n",
       "| 28 | 2018-02-09 | 0.1574937 |\n",
       "| 91 | 2018-05-11 | 0.1825018 |\n",
       "| 154 | 2018-08-10 | 0.1824938 |\n",
       "| 217 | 2018-11-08 | 0.1824986 |\n",
       "\n"
      ],
      "text/plain": [
       "    Date       Dividend \n",
       "NA  NA                NA\n",
       "28  2018-02-09 0.1574937\n",
       "91  2018-05-11 0.1825018\n",
       "154 2018-08-10 0.1824938\n",
       "217 2018-11-08 0.1824986"
      ]
     },
     "metadata": {},
     "output_type": "display_data"
    },
    {
     "name": "stdout",
     "output_type": "stream",
     "text": [
      "[1] \"AAPL\"\n"
     ]
    }
   ],
   "source": [
    "#\"result\" dataframe is displayed with \n",
    "#IBM\n",
    "result_ibm = ibm[ibm$Difference_Ratio >=0.0001,] \n",
    "result_ibm = result_ibm[c('Date','Dividend')]\n",
    "result_ibm\n",
    "print(\"IBM\")\n",
    "\n",
    "#GOOG\n",
    "result_goog = goog[goog$Difference_Ratio >=0.0001,] \n",
    "result_goog = result_goog[c('Date','Dividend')]\n",
    "result_goog\n",
    "print(\"GOOG\")\n",
    "\n",
    "#FB\n",
    "result_fb = fb[fb$Difference_Ratio >=0.0001,] \n",
    "result_fb = result_fb[c('Date','Dividend')]\n",
    "result_fb\n",
    "print(\"FB\")\n",
    "\n",
    "#MSFT\n",
    "result_msft = msft[msft$Difference_Ratio >=0.0001,] \n",
    "result_msft = result_msft[c('Date','Dividend')]\n",
    "result_msft\n",
    "print(\"MSFT\")\n",
    "\n",
    "#AMZN\n",
    "result_amzn = amzn[amzn$Difference_Ratio >=0.0001,] \n",
    "result_amzn = result_amzn[c('Date','Dividend')]\n",
    "result_amzn\n",
    "print(\"AMZN\")\n",
    "\n",
    "#AAPL\n",
    "result_aapl = aapl[aapl$Difference_Ratio >=0.0001,] \n",
    "result_aapl = result_aapl[c('Date','Dividend')]\n",
    "result_aapl\n",
    "print(\"AAPL\")\n"
   ]
  }
 ],
 "metadata": {
  "kernelspec": {
   "display_name": "R",
   "language": "R",
   "name": "ir"
  },
  "language_info": {
   "codemirror_mode": "r",
   "file_extension": ".r",
   "mimetype": "text/x-r-source",
   "name": "R",
   "pygments_lexer": "r",
   "version": "4.0.2"
  }
 },
 "nbformat": 4,
 "nbformat_minor": 4
}
