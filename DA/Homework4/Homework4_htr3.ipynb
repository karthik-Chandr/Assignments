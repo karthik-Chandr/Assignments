{
 "cells": [
  {
   "cell_type": "code",
   "execution_count": 81,
   "metadata": {},
   "outputs": [
    {
     "data": {
      "text/html": [
       "0.999999998026825"
      ],
      "text/latex": [
       "0.999999998026825"
      ],
      "text/markdown": [
       "0.999999998026825"
      ],
      "text/plain": [
       "[1] 1"
      ]
     },
     "metadata": {},
     "output_type": "display_data"
    }
   ],
   "source": [
    "#1.1 6σ\n",
    "mu<-0\n",
    "sd<-1\n",
    "lowb<-mu-sd*6\n",
    "upb<-mu+sd*6\n",
    "pnorm(upb,mu,sd)-pnorm(lowb,mu,sd)"
   ]
  },
  {
   "cell_type": "code",
   "execution_count": 82,
   "metadata": {},
   "outputs": [
    {
     "data": {
      "text/html": [
       "0.682689492137086"
      ],
      "text/latex": [
       "0.682689492137086"
      ],
      "text/markdown": [
       "0.682689492137086"
      ],
      "text/plain": [
       "[1] 0.6826895"
      ]
     },
     "metadata": {},
     "output_type": "display_data"
    }
   ],
   "source": [
    "#1.1 σ\n",
    "mu<-0\n",
    "sd<-1\n",
    "lowb<-mu-sd*1\n",
    "upb<-mu+sd*1\n",
    "pnorm(upb,mu,sd)-pnorm(lowb,mu,sd)"
   ]
  },
  {
   "cell_type": "code",
   "execution_count": 83,
   "metadata": {},
   "outputs": [
    {
     "data": {
      "text/html": [
       "0.954499736103642"
      ],
      "text/latex": [
       "0.954499736103642"
      ],
      "text/markdown": [
       "0.954499736103642"
      ],
      "text/plain": [
       "[1] 0.9544997"
      ]
     },
     "metadata": {},
     "output_type": "display_data"
    }
   ],
   "source": [
    "#1.1 2σ\n",
    "mu<-0\n",
    "sd<-1\n",
    "lowb<-mu-sd*2\n",
    "upb<-mu+sd*2\n",
    "pnorm(upb,mu,sd)-pnorm(lowb,mu,sd)"
   ]
  },
  {
   "cell_type": "code",
   "execution_count": 84,
   "metadata": {},
   "outputs": [
    {
     "data": {
      "text/html": [
       "0.99730020393674"
      ],
      "text/latex": [
       "0.99730020393674"
      ],
      "text/markdown": [
       "0.99730020393674"
      ],
      "text/plain": [
       "[1] 0.9973002"
      ]
     },
     "metadata": {},
     "output_type": "display_data"
    }
   ],
   "source": [
    "#1.1 3σ\n",
    "mu<-0\n",
    "sd<-1\n",
    "lowb<-mu-sd*3\n",
    "upb<-mu+sd*3\n",
    "pnorm(upb,mu,sd)-pnorm(lowb,mu,sd)"
   ]
  },
  {
   "cell_type": "code",
   "execution_count": 12,
   "metadata": {},
   "outputs": [
    {
     "data": {
      "text/html": [
       "6.11156498103593"
      ],
      "text/latex": [
       "6.11156498103593"
      ],
      "text/markdown": [
       "6.11156498103593"
      ],
      "text/plain": [
       "[1] 6.111565"
      ]
     },
     "metadata": {},
     "output_type": "display_data"
    },
    {
     "name": "stdout",
     "output_type": "stream",
     "text": [
      "[1] \"above answer wrong | below answer correct\"\n"
     ]
    },
    {
     "data": {
      "text/html": [
       "4.64504641802141"
      ],
      "text/latex": [
       "4.64504641802141"
      ],
      "text/markdown": [
       "4.64504641802141"
      ],
      "text/plain": [
       "[1] 4.645046"
      ]
     },
     "metadata": {},
     "output_type": "display_data"
    }
   ],
   "source": [
    "#1.2\n",
    "mu<-0\n",
    "sd<-1\n",
    "c<-0.999999999013412+((1-0.999999999013412)/2) ### mistake lost 1 marks\n",
    "qnorm(c,mu,sd)\n",
    "print(\"above answer wrong | below answer correct\")\n",
    "c1<-0.9999966+((1-0.9999966)/2) ### correct, edited after grading\n",
    "qnorm(c1,mu,sd)"
   ]
  },
  {
   "cell_type": "code",
   "execution_count": 86,
   "metadata": {},
   "outputs": [
    {
     "data": {
      "text/html": [
       "0.633967658726771"
      ],
      "text/latex": [
       "0.633967658726771"
      ],
      "text/markdown": [
       "0.633967658726771"
      ],
      "text/plain": [
       "[1] 0.6339677"
      ]
     },
     "metadata": {},
     "output_type": "display_data"
    }
   ],
   "source": [
    "#2.1\n",
    "# P(X>=1)=1-P(X=0) =1-(1-0.01)^100 =1-0.36603234 =0.6339676587\n",
    "prob=1-(1-0.01)^100\n",
    "prob"
   ]
  },
  {
   "cell_type": "code",
   "execution_count": 87,
   "metadata": {},
   "outputs": [
    {
     "data": {
      "text/html": [
       "0.63396765872677"
      ],
      "text/latex": [
       "0.63396765872677"
      ],
      "text/markdown": [
       "0.63396765872677"
      ],
      "text/plain": [
       "[1] 0.6339677"
      ]
     },
     "metadata": {},
     "output_type": "display_data"
    }
   ],
   "source": [
    "#2.2\n",
    "1-pbinom(0,100,0.01)"
   ]
  },
  {
   "cell_type": "code",
   "execution_count": 88,
   "metadata": {},
   "outputs": [
    {
     "data": {
      "text/html": [
       "<strong>0:</strong> 0.633967658726771"
      ],
      "text/latex": [
       "\\textbf{0:} 0.633967658726771"
      ],
      "text/markdown": [
       "**0:** 0.633967658726771"
      ],
      "text/plain": [
       "        0 \n",
       "0.6339677 "
      ]
     },
     "metadata": {},
     "output_type": "display_data"
    }
   ],
   "source": [
    "#2.3\n",
    "sampSp=c(0,1)\n",
    "a<-table(sample(0:1,100,replace=TRUE,prob=c(0.99,0.01)))\n",
    "prob<-1-(a[\"0\"]/100)^100\n",
    "prob"
   ]
  },
  {
   "cell_type": "code",
   "execution_count": 89,
   "metadata": {},
   "outputs": [
    {
     "data": {
      "text/html": [
       "230"
      ],
      "text/latex": [
       "230"
      ],
      "text/markdown": [
       "230"
      ],
      "text/plain": [
       "[1] 230"
      ]
     },
     "metadata": {},
     "output_type": "display_data"
    }
   ],
   "source": [
    "#2.4\n",
    "#P(atleast 1 job)=0.9 \n",
    "#P(0 job offer)=0.1 \n",
    "#(1-0.01)^n=0.1 \n",
    "#n=230\n",
    "\n",
    "n=log(0.1)/log(0.99)\n",
    "ceiling(n)"
   ]
  },
  {
   "cell_type": "code",
   "execution_count": 90,
   "metadata": {},
   "outputs": [
    {
     "data": {
      "text/html": [
       "1.36423206065217e-10"
      ],
      "text/latex": [
       "1.36423206065217e-10"
      ],
      "text/markdown": [
       "1.36423206065217e-10"
      ],
      "text/plain": [
       "[1] 1.364232e-10"
      ]
     },
     "metadata": {},
     "output_type": "display_data"
    }
   ],
   "source": [
    "#3.1\n",
    "#P(X>=600) = P(X=600)+P(X=601)+...upto X=1000\n",
    "#P(X>=600) =1000C600(0.5)^600(0.5)^400+1000C601(0.5)^601(0.5)^399+...+1000C1000(0.5)^1000(0.5)^0\n",
    "#P(X>=600) =0 (approx)\n",
    "1-pbinom(599,1000,0.5)"
   ]
  },
  {
   "cell_type": "code",
   "execution_count": 91,
   "metadata": {},
   "outputs": [
    {
     "data": {
      "text/html": [
       "1.90878646222359e-10"
      ],
      "text/latex": [
       "1.90878646222359e-10"
      ],
      "text/markdown": [
       "1.90878646222359e-10"
      ],
      "text/plain": [
       "[1] 1.908786e-10"
      ]
     },
     "metadata": {},
     "output_type": "display_data"
    }
   ],
   "source": [
    "#3.2\n",
    "mu=1000*0.5\n",
    "sd=sqrt(1000*0.5*0.5)\n",
    "1-pnorm(599,mu,sd)"
   ]
  },
  {
   "cell_type": "code",
   "execution_count": null,
   "metadata": {},
   "outputs": [],
   "source": []
  }
 ],
 "metadata": {
  "kernelspec": {
   "display_name": "R",
   "language": "R",
   "name": "ir"
  },
  "language_info": {
   "codemirror_mode": "r",
   "file_extension": ".r",
   "mimetype": "text/x-r-source",
   "name": "R",
   "pygments_lexer": "r",
   "version": "4.0.2"
  }
 },
 "nbformat": 4,
 "nbformat_minor": 4
}
