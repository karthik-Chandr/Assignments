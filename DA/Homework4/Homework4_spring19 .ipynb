{
 "cells": [
  {
   "cell_type": "markdown",
   "metadata": {},
   "source": [
    "1. Please write R code to verify the probabilities within σ, 2σ and 3σ as shown in the above graph"
   ]
  },
  {
   "cell_type": "code",
   "execution_count": 76,
   "metadata": {},
   "outputs": [
    {
     "data": {
      "text/html": [
       "0.682689492137086"
      ],
      "text/latex": [
       "0.682689492137086"
      ],
      "text/markdown": [
       "0.682689492137086"
      ],
      "text/plain": [
       "[1] 0.6826895"
      ]
     },
     "metadata": {},
     "output_type": "display_data"
    }
   ],
   "source": [
    "mu<-0\n",
    "sd<-1\n",
    "lb<-mu-sd*1\n",
    "ub<-mu+sd*1\n",
    "pnorm(ub,mu,sd)-pnorm(lb,mu,sd)"
   ]
  },
  {
   "cell_type": "code",
   "execution_count": 77,
   "metadata": {},
   "outputs": [
    {
     "data": {
      "text/html": [
       "0.954499736103642"
      ],
      "text/latex": [
       "0.954499736103642"
      ],
      "text/markdown": [
       "0.954499736103642"
      ],
      "text/plain": [
       "[1] 0.9544997"
      ]
     },
     "metadata": {},
     "output_type": "display_data"
    }
   ],
   "source": [
    "mu<-0\n",
    "sd<-1\n",
    "lb<-mu-sd*2\n",
    "ub<-mu+sd*2\n",
    "pnorm(ub,mu,sd)-pnorm(lb,mu,sd)"
   ]
  },
  {
   "cell_type": "code",
   "execution_count": 78,
   "metadata": {},
   "outputs": [
    {
     "data": {
      "text/html": [
       "0.99730020393674"
      ],
      "text/latex": [
       "0.99730020393674"
      ],
      "text/markdown": [
       "0.99730020393674"
      ],
      "text/plain": [
       "[1] 0.9973002"
      ]
     },
     "metadata": {},
     "output_type": "display_data"
    }
   ],
   "source": [
    "mu<-0\n",
    "sd<-1\n",
    "lb<-mu-sd*3\n",
    "ub<-mu+sd*3\n",
    "pnorm(ub,mu,sd)-pnorm(lb,mu,sd)"
   ]
  },
  {
   "cell_type": "code",
   "execution_count": 79,
   "metadata": {},
   "outputs": [
    {
     "data": {
      "text/html": [
       "0.999999998026825"
      ],
      "text/latex": [
       "0.999999998026825"
      ],
      "text/markdown": [
       "0.999999998026825"
      ],
      "text/plain": [
       "[1] 1"
      ]
     },
     "metadata": {},
     "output_type": "display_data"
    }
   ],
   "source": [
    "mu<-0\n",
    "sd<-1\n",
    "lb<-mu-sd*6\n",
    "ub<-mu+sd*6\n",
    "pnorm(ub,mu,sd)-pnorm(lb,mu,sd)"
   ]
  },
  {
   "cell_type": "markdown",
   "metadata": {},
   "source": [
    "2. Write R code to find out, within how many σ, the probability is 99.99966%. Is it really 6σ?"
   ]
  },
  {
   "cell_type": "code",
   "execution_count": 81,
   "metadata": {},
   "outputs": [
    {
     "data": {
      "text/html": [
       "6.11156498103593"
      ],
      "text/latex": [
       "6.11156498103593"
      ],
      "text/markdown": [
       "6.11156498103593"
      ],
      "text/plain": [
       "[1] 6.111565"
      ]
     },
     "metadata": {},
     "output_type": "display_data"
    }
   ],
   "source": [
    "mu<-0\n",
    "sd<-1\n",
    "ar<-0.999999999013412+((1-0.999999999013412)/2)\n",
    "qnorm(ar,mu,sd)"
   ]
  },
  {
   "cell_type": "markdown",
   "metadata": {},
   "source": [
    "2)1. Please solve the problem by math. Use R mathematical expression to get the result.\n",
    "     P(X>=1)=1-P(X=0)\n",
    "            =1-(1-0.01)^100\n",
    "            =1-0.36603234\n",
    "            =0.6339676587"
   ]
  },
  {
   "cell_type": "code",
   "execution_count": 49,
   "metadata": {},
   "outputs": [
    {
     "data": {
      "text/html": [
       "0.633967658726771"
      ],
      "text/latex": [
       "0.633967658726771"
      ],
      "text/markdown": [
       "0.633967658726771"
      ],
      "text/plain": [
       "[1] 0.6339677"
      ]
     },
     "metadata": {},
     "output_type": "display_data"
    }
   ],
   "source": [
    "probability=1-(1-0.01)^100\n",
    "probability"
   ]
  },
  {
   "cell_type": "markdown",
   "metadata": {},
   "source": [
    "2)2. Analytic solution. Use R’s probability functions to solve the problem."
   ]
  },
  {
   "cell_type": "code",
   "execution_count": 50,
   "metadata": {},
   "outputs": [
    {
     "data": {
      "text/html": [
       "0.63396765872677"
      ],
      "text/latex": [
       "0.63396765872677"
      ],
      "text/markdown": [
       "0.63396765872677"
      ],
      "text/plain": [
       "[1] 0.6339677"
      ]
     },
     "metadata": {},
     "output_type": "display_data"
    }
   ],
   "source": [
    "1-pbinom(0,100,0.01)"
   ]
  },
  {
   "cell_type": "markdown",
   "metadata": {},
   "source": [
    "2)3. Answer by simulation. Use sampling function to simulate the process and estimate the answer"
   ]
  },
  {
   "cell_type": "code",
   "execution_count": 69,
   "metadata": {},
   "outputs": [
    {
     "name": "stdout",
     "output_type": "stream",
     "text": [
      " int [1:100] 0 0 0 0 0 0 0 0 0 0 ...\n"
     ]
    }
   ],
   "source": [
    "x<-rbinom(100,1,0.01)\n",
    "str(x)"
   ]
  },
  {
   "cell_type": "code",
   "execution_count": 89,
   "metadata": {},
   "outputs": [
    {
     "data": {
      "text/html": [
       "<strong>0:</strong> 0.633967658726771"
      ],
      "text/latex": [
       "\\textbf{0:} 0.633967658726771"
      ],
      "text/markdown": [
       "**0:** 0.633967658726771"
      ],
      "text/plain": [
       "        0 \n",
       "0.6339677 "
      ]
     },
     "metadata": {},
     "output_type": "display_data"
    }
   ],
   "source": [
    "sample_space=c(0,1)\n",
    "result<-table(sample(0:1,100,replace=TRUE,prob=c(0.99,0.01)))\n",
    "probability<-1-(result[\"0\"]/100)^100\n",
    "probability"
   ]
  },
  {
   "cell_type": "markdown",
   "metadata": {},
   "source": [
    "2)4. How many resumes in total do you have to spam so that you will have 90% chance to get at\n",
    "     least one job offer?\n",
    "     P(atleast one job)=0.9\n",
    "     P(zero job offer)=0.1\n",
    "     (1-0.01)^n=0.1\n",
    "     n=230"
   ]
  },
  {
   "cell_type": "code",
   "execution_count": 73,
   "metadata": {},
   "outputs": [
    {
     "data": {
      "text/html": [
       "230"
      ],
      "text/latex": [
       "230"
      ],
      "text/markdown": [
       "230"
      ],
      "text/plain": [
       "[1] 230"
      ]
     },
     "metadata": {},
     "output_type": "display_data"
    }
   ],
   "source": [
    "n=log(0.1)/log(0.99)\n",
    "ceiling(n)"
   ]
  },
  {
   "cell_type": "markdown",
   "metadata": {},
   "source": [
    "3)Half of the population supports the president (i.e., p=0.5). For a random sample of size 1000, what\n",
    "is the probability of having ≥600 in support of the president?\n",
    "1. Use binomial distribution\n",
    "   P(X>=600)=P(X=600)+P(X=601)+P(X=602)+.......+P(X=1000)\n",
    "            =1000C600(0.5)^600(0.5)^400+1000C601(0.5)^601(0.5)^399+...+1000C1000(0.5)^1000(0.5)^0\n",
    "            =0+0+0\n",
    "            =0"
   ]
  },
  {
   "cell_type": "code",
   "execution_count": 71,
   "metadata": {},
   "outputs": [
    {
     "data": {
      "text/html": [
       "1.36423206065217e-10"
      ],
      "text/latex": [
       "1.36423206065217e-10"
      ],
      "text/markdown": [
       "1.36423206065217e-10"
      ],
      "text/plain": [
       "[1] 1.364232e-10"
      ]
     },
     "metadata": {},
     "output_type": "display_data"
    }
   ],
   "source": [
    "1-pbinom(599,1000,0.5)"
   ]
  },
  {
   "cell_type": "markdown",
   "metadata": {},
   "source": [
    "2. Use normal distribution as approximation."
   ]
  },
  {
   "cell_type": "code",
   "execution_count": 72,
   "metadata": {},
   "outputs": [
    {
     "data": {
      "text/html": [
       "1.90878646222359e-10"
      ],
      "text/latex": [
       "1.90878646222359e-10"
      ],
      "text/markdown": [
       "1.90878646222359e-10"
      ],
      "text/plain": [
       "[1] 1.908786e-10"
      ]
     },
     "metadata": {},
     "output_type": "display_data"
    }
   ],
   "source": [
    "mu=1000*0.5\n",
    "sd=sqrt(1000*0.5*0.5)\n",
    "1-pnorm(599,mu,sd)"
   ]
  },
  {
   "cell_type": "code",
   "execution_count": null,
   "metadata": {},
   "outputs": [],
   "source": []
  }
 ],
 "metadata": {
  "kernelspec": {
   "display_name": "R",
   "language": "R",
   "name": "ir"
  },
  "language_info": {
   "codemirror_mode": "r",
   "file_extension": ".r",
   "mimetype": "text/x-r-source",
   "name": "R",
   "pygments_lexer": "r",
   "version": "4.0.3"
  }
 },
 "nbformat": 4,
 "nbformat_minor": 4
}
