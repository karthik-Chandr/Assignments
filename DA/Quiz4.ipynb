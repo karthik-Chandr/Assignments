{
 "cells": [
  {
   "cell_type": "code",
   "execution_count": 11,
   "metadata": {},
   "outputs": [
    {
     "data": {
      "text/html": [
       "<table>\n",
       "<caption>A matrix: 5 × 4 of type dbl</caption>\n",
       "<tbody>\n",
       "\t<tr><td> 2</td><td> 2</td><td> 1</td><td>5</td></tr>\n",
       "\t<tr><td> 2</td><td> 2</td><td> 2</td><td>2</td></tr>\n",
       "\t<tr><td> 2</td><td> 2</td><td> 0</td><td>2</td></tr>\n",
       "\t<tr><td>10</td><td> 8</td><td>10</td><td>6</td></tr>\n",
       "\t<tr><td>11</td><td>10</td><td>10</td><td>8</td></tr>\n",
       "</tbody>\n",
       "</table>\n"
      ],
      "text/latex": [
       "A matrix: 5 × 4 of type dbl\n",
       "\\begin{tabular}{llll}\n",
       "\t  2 &  2 &  1 & 5\\\\\n",
       "\t  2 &  2 &  2 & 2\\\\\n",
       "\t  2 &  2 &  0 & 2\\\\\n",
       "\t 10 &  8 & 10 & 6\\\\\n",
       "\t 11 & 10 & 10 & 8\\\\\n",
       "\\end{tabular}\n"
      ],
      "text/markdown": [
       "\n",
       "A matrix: 5 × 4 of type dbl\n",
       "\n",
       "|  2 |  2 |  1 | 5 |\n",
       "|  2 |  2 |  2 | 2 |\n",
       "|  2 |  2 |  0 | 2 |\n",
       "| 10 |  8 | 10 | 6 |\n",
       "| 11 | 10 | 10 | 8 |\n",
       "\n"
      ],
      "text/plain": [
       "     [,1] [,2] [,3] [,4]\n",
       "[1,]  2    2    1   5   \n",
       "[2,]  2    2    2   2   \n",
       "[3,]  2    2    0   2   \n",
       "[4,] 10    8   10   6   \n",
       "[5,] 11   10   10   8   "
      ]
     },
     "metadata": {},
     "output_type": "display_data"
    }
   ],
   "source": [
    "d = rbind ( c ( 2, 2, 1, 5 ), c ( 2, 2, 2, 2 ), c ( 2, 2, 0, 2 ), c ( 10, 8, 10, 6 ), c ( 11, 10, 10, 8 ) )\n",
    "d"
   ]
  },
  {
   "cell_type": "code",
   "execution_count": 10,
   "metadata": {},
   "outputs": [
    {
     "data": {
      "text/html": [
       "<table>\n",
       "<caption>A matrix: 2 × 4 of type dbl</caption>\n",
       "<tbody>\n",
       "\t<tr><td>1</td><td>2</td><td>3</td><td>4</td></tr>\n",
       "\t<tr><td>9</td><td>8</td><td>7</td><td>6</td></tr>\n",
       "</tbody>\n",
       "</table>\n"
      ],
      "text/latex": [
       "A matrix: 2 × 4 of type dbl\n",
       "\\begin{tabular}{llll}\n",
       "\t 1 & 2 & 3 & 4\\\\\n",
       "\t 9 & 8 & 7 & 6\\\\\n",
       "\\end{tabular}\n"
      ],
      "text/markdown": [
       "\n",
       "A matrix: 2 × 4 of type dbl\n",
       "\n",
       "| 1 | 2 | 3 | 4 |\n",
       "| 9 | 8 | 7 | 6 |\n",
       "\n"
      ],
      "text/plain": [
       "     [,1] [,2] [,3] [,4]\n",
       "[1,] 1    2    3    4   \n",
       "[2,] 9    8    7    6   "
      ]
     },
     "metadata": {},
     "output_type": "display_data"
    }
   ],
   "source": [
    "\n",
    "i = rbind ( c (1,2,3,4 ), c (9,8,7,6 ) )\n",
    "i"
   ]
  },
  {
   "cell_type": "code",
   "execution_count": 9,
   "metadata": {},
   "outputs": [
    {
     "data": {
      "text/plain": [
       "K-means clustering with 2 clusters of sizes 3, 2\n",
       "\n",
       "Cluster means:\n",
       "  [,1] [,2] [,3] [,4]\n",
       "1  2.0    2    1    3\n",
       "2 10.5    9   10    7\n",
       "\n",
       "Clustering vector:\n",
       "[1] 1 1 1 2 2\n",
       "\n",
       "Within cluster sum of squares by cluster:\n",
       "[1] 8.0 4.5\n",
       " (between_SS / total_SS =  95.4 %)\n",
       "\n",
       "Available components:\n",
       "\n",
       "[1] \"cluster\"      \"centers\"      \"totss\"        \"withinss\"     \"tot.withinss\"\n",
       "[6] \"betweenss\"    \"size\"         \"iter\"         \"ifault\"      "
      ]
     },
     "metadata": {},
     "output_type": "display_data"
    }
   ],
   "source": [
    "cl = kmeans ( d, centers = i, iter.max = 300 )\n",
    "cl"
   ]
  },
  {
   "cell_type": "code",
   "execution_count": 14,
   "metadata": {},
   "outputs": [
    {
     "data": {
      "text/plain": [
       "K-means clustering with 2 clusters of sizes 2, 3\n",
       "\n",
       "Cluster means:\n",
       "  [,1] [,2] [,3] [,4]\n",
       "1 10.5    9   10    7\n",
       "2  2.0    2    1    3\n",
       "\n",
       "Clustering vector:\n",
       "[1] 2 2 2 1 1\n",
       "\n",
       "Within cluster sum of squares by cluster:\n",
       "[1] 4.5 8.0\n",
       " (between_SS / total_SS =  95.4 %)\n",
       "\n",
       "Available components:\n",
       "\n",
       "[1] \"cluster\"      \"centers\"      \"totss\"        \"withinss\"     \"tot.withinss\"\n",
       "[6] \"betweenss\"    \"size\"         \"iter\"         \"ifault\"      "
      ]
     },
     "metadata": {},
     "output_type": "display_data"
    }
   ],
   "source": [
    "kmeans(d,2)"
   ]
  }
 ],
 "metadata": {
  "kernelspec": {
   "display_name": "R",
   "language": "R",
   "name": "ir"
  },
  "language_info": {
   "codemirror_mode": "r",
   "file_extension": ".r",
   "mimetype": "text/x-r-source",
   "name": "R",
   "pygments_lexer": "r",
   "version": "4.0.2"
  }
 },
 "nbformat": 4,
 "nbformat_minor": 4
}
