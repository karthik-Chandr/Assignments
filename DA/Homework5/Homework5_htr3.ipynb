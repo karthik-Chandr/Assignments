{
 "cells": [
  {
   "cell_type": "code",
   "execution_count": 22,
   "metadata": {},
   "outputs": [],
   "source": [
    "library(stringr)"
   ]
  },
  {
   "cell_type": "code",
   "execution_count": 23,
   "metadata": {},
   "outputs": [
    {
     "data": {
      "text/html": [
       "<style>\n",
       ".list-inline {list-style: none; margin:0; padding: 0}\n",
       ".list-inline>li {display: inline-block}\n",
       ".list-inline>li:not(:last-child)::after {content: \"\\00b7\"; padding: 0 .5ex}\n",
       "</style>\n",
       "<ol class=list-inline><li>'219 733 8965'</li><li>'329-293-8753'</li><li>'233.398.9187'</li><li>'800.747.1234'</li><li>'700.747.1234'</li><li>'2119 733 8965'</li><li>'329293-8753'</li><li>'233-398.9187'</li><li>'800.747.1234'</li></ol>\n"
      ],
      "text/latex": [
       "\\begin{enumerate*}\n",
       "\\item '219 733 8965'\n",
       "\\item '329-293-8753'\n",
       "\\item '233.398.9187'\n",
       "\\item '800.747.1234'\n",
       "\\item '700.747.1234'\n",
       "\\item '2119 733 8965'\n",
       "\\item '329293-8753'\n",
       "\\item '233-398.9187'\n",
       "\\item '800.747.1234'\n",
       "\\end{enumerate*}\n"
      ],
      "text/markdown": [
       "1. '219 733 8965'\n",
       "2. '329-293-8753'\n",
       "3. '233.398.9187'\n",
       "4. '800.747.1234'\n",
       "5. '700.747.1234'\n",
       "6. '2119 733 8965'\n",
       "7. '329293-8753'\n",
       "8. '233-398.9187'\n",
       "9. '800.747.1234'\n",
       "\n",
       "\n"
      ],
      "text/plain": [
       "[1] \"219 733 8965\"  \"329-293-8753\"  \"233.398.9187\"  \"800.747.1234\" \n",
       "[5] \"700.747.1234\"  \"2119 733 8965\" \"329293-8753\"   \"233-398.9187\" \n",
       "[9] \"800.747.1234\" "
      ]
     },
     "metadata": {},
     "output_type": "display_data"
    }
   ],
   "source": [
    "#num = readLines(\"hw5test.txt\")\n",
    "num = c('219 733 8965','329-293-8753','233.398.9187','800.747.1234','700.747.1234','2119 733 8965','329293-8753','233-398.9187','800.747.1234')\n",
    "num"
   ]
  },
  {
   "cell_type": "code",
   "execution_count": 24,
   "metadata": {},
   "outputs": [
    {
     "data": {
      "text/html": [
       "<style>\n",
       ".list-inline {list-style: none; margin:0; padding: 0}\n",
       ".list-inline>li {display: inline-block}\n",
       ".list-inline>li:not(:last-child)::after {content: \"\\00b7\"; padding: 0 .5ex}\n",
       "</style>\n",
       "<ol class=list-inline><li>'219 733 8965'</li><li>'329-293-8753'</li><li>'233.398.9187'</li><li>'800.747.1234'</li><li>'700.747.1234'</li><li>'233-398.9187'</li><li>'800.747.1234'</li></ol>\n"
      ],
      "text/latex": [
       "\\begin{enumerate*}\n",
       "\\item '219 733 8965'\n",
       "\\item '329-293-8753'\n",
       "\\item '233.398.9187'\n",
       "\\item '800.747.1234'\n",
       "\\item '700.747.1234'\n",
       "\\item '233-398.9187'\n",
       "\\item '800.747.1234'\n",
       "\\end{enumerate*}\n"
      ],
      "text/markdown": [
       "1. '219 733 8965'\n",
       "2. '329-293-8753'\n",
       "3. '233.398.9187'\n",
       "4. '800.747.1234'\n",
       "5. '700.747.1234'\n",
       "6. '233-398.9187'\n",
       "7. '800.747.1234'\n",
       "\n",
       "\n"
      ],
      "text/plain": [
       "[1] \"219 733 8965\" \"329-293-8753\" \"233.398.9187\" \"800.747.1234\" \"700.747.1234\"\n",
       "[6] \"233-398.9187\" \"800.747.1234\""
      ]
     },
     "metadata": {},
     "output_type": "display_data"
    },
    {
     "data": {
      "text/html": [
       "<style>\n",
       ".list-inline {list-style: none; margin:0; padding: 0}\n",
       ".list-inline>li {display: inline-block}\n",
       ".list-inline>li:not(:last-child)::after {content: \"\\00b7\"; padding: 0 .5ex}\n",
       "</style>\n",
       "<ol class=list-inline><li>'219 733 8965'</li><li>'329-293-8753'</li><li>'233.398.9187'</li><li>'800.747.1234'</li><li>'700.747.1234'</li><li>'800.747.1234'</li></ol>\n"
      ],
      "text/latex": [
       "\\begin{enumerate*}\n",
       "\\item '219 733 8965'\n",
       "\\item '329-293-8753'\n",
       "\\item '233.398.9187'\n",
       "\\item '800.747.1234'\n",
       "\\item '700.747.1234'\n",
       "\\item '800.747.1234'\n",
       "\\end{enumerate*}\n"
      ],
      "text/markdown": [
       "1. '219 733 8965'\n",
       "2. '329-293-8753'\n",
       "3. '233.398.9187'\n",
       "4. '800.747.1234'\n",
       "5. '700.747.1234'\n",
       "6. '800.747.1234'\n",
       "\n",
       "\n"
      ],
      "text/plain": [
       "[1] \"219 733 8965\" \"329-293-8753\" \"233.398.9187\" \"800.747.1234\" \"700.747.1234\"\n",
       "[6] \"800.747.1234\""
      ]
     },
     "metadata": {},
     "output_type": "display_data"
    }
   ],
   "source": [
    "m = grep(\"^[0-9][0-9][0-9].[0-9][0-9][0-9].[0-9][0-9][0-9][0-9]\",num,value=T)\n",
    "m\n",
    "grep(\"-...-|\\\\....\\\\.| ... \",m,value=T)"
   ]
  },
  {
   "cell_type": "code",
   "execution_count": 25,
   "metadata": {},
   "outputs": [
    {
     "data": {
      "text/html": [
       "<style>\n",
       ".list-inline {list-style: none; margin:0; padding: 0}\n",
       ".list-inline>li {display: inline-block}\n",
       ".list-inline>li:not(:last-child)::after {content: \"\\00b7\"; padding: 0 .5ex}\n",
       "</style>\n",
       "<ol class=list-inline><li>'219 733 8965'</li><li>'329-293-8753'</li><li>'233.398.9187'</li><li>'800.747.1234'</li><li>'700.747.1234'</li><li>'800.747.1234'</li></ol>\n"
      ],
      "text/latex": [
       "\\begin{enumerate*}\n",
       "\\item '219 733 8965'\n",
       "\\item '329-293-8753'\n",
       "\\item '233.398.9187'\n",
       "\\item '800.747.1234'\n",
       "\\item '700.747.1234'\n",
       "\\item '800.747.1234'\n",
       "\\end{enumerate*}\n"
      ],
      "text/markdown": [
       "1. '219 733 8965'\n",
       "2. '329-293-8753'\n",
       "3. '233.398.9187'\n",
       "4. '800.747.1234'\n",
       "5. '700.747.1234'\n",
       "6. '800.747.1234'\n",
       "\n",
       "\n"
      ],
      "text/plain": [
       "[1] \"219 733 8965\" \"329-293-8753\" \"233.398.9187\" \"800.747.1234\" \"700.747.1234\"\n",
       "[6] \"800.747.1234\""
      ]
     },
     "metadata": {},
     "output_type": "display_data"
    }
   ],
   "source": [
    "#Q1\n",
    "grep(\"^([0-9]{3}\\\\.){2}([0-9]{4})|^([0-9]{3}-){2}([0-9]{4})|^([0-9]{3} ){2}([0-9]{4})\",num,value=T)\n",
    "\n",
    "#\"^([0-9]{3}\\\\.){2}([0-9]{4})|^([0-9]{3}-){2}([0-9]{4})|^([0-9]{3} ){2}([0-9]{4})\""
   ]
  },
  {
   "cell_type": "code",
   "execution_count": 26,
   "metadata": {},
   "outputs": [
    {
     "data": {
      "text/html": [
       "<style>\n",
       ".list-inline {list-style: none; margin:0; padding: 0}\n",
       ".list-inline>li {display: inline-block}\n",
       ".list-inline>li:not(:last-child)::after {content: \"\\00b7\"; padding: 0 .5ex}\n",
       "</style>\n",
       "<ol class=list-inline><li>'219 733 8965'</li><li>'329-293-8753'</li><li>'233.398.9187'</li><li>'700.747.1234'</li></ol>\n"
      ],
      "text/latex": [
       "\\begin{enumerate*}\n",
       "\\item '219 733 8965'\n",
       "\\item '329-293-8753'\n",
       "\\item '233.398.9187'\n",
       "\\item '700.747.1234'\n",
       "\\end{enumerate*}\n"
      ],
      "text/markdown": [
       "1. '219 733 8965'\n",
       "2. '329-293-8753'\n",
       "3. '233.398.9187'\n",
       "4. '700.747.1234'\n",
       "\n",
       "\n"
      ],
      "text/plain": [
       "[1] \"219 733 8965\" \"329-293-8753\" \"233.398.9187\" \"700.747.1234\""
      ]
     },
     "metadata": {},
     "output_type": "display_data"
    }
   ],
   "source": [
    "#Q2\n",
    "setdiff(grep(\"^([0-9]{3}\\\\.){2}([0-9]{4})|^([0-9]{3}-){2}([0-9]{4})|^([0-9]{3} ){2}([0-9]{4})\",num,value=T),grep(\"^800\",num,value=T))"
   ]
  },
  {
   "cell_type": "code",
   "execution_count": 27,
   "metadata": {},
   "outputs": [
    {
     "data": {
      "text/html": [
       "<style>\n",
       ".list-inline {list-style: none; margin:0; padding: 0}\n",
       ".list-inline>li {display: inline-block}\n",
       ".list-inline>li:not(:last-child)::after {content: \"\\00b7\"; padding: 0 .5ex}\n",
       "</style>\n",
       "<ol class=list-inline><li>'219 733 8965'</li><li>'329-293-8753'</li><li>'233.398.9187'</li><li>'800.747.1234'</li><li>'700.747.1234'</li><li>'800.747.1234'</li></ol>\n"
      ],
      "text/latex": [
       "\\begin{enumerate*}\n",
       "\\item '219 733 8965'\n",
       "\\item '329-293-8753'\n",
       "\\item '233.398.9187'\n",
       "\\item '800.747.1234'\n",
       "\\item '700.747.1234'\n",
       "\\item '800.747.1234'\n",
       "\\end{enumerate*}\n"
      ],
      "text/markdown": [
       "1. '219 733 8965'\n",
       "2. '329-293-8753'\n",
       "3. '233.398.9187'\n",
       "4. '800.747.1234'\n",
       "5. '700.747.1234'\n",
       "6. '800.747.1234'\n",
       "\n",
       "\n"
      ],
      "text/plain": [
       "[1] \"219 733 8965\" \"329-293-8753\" \"233.398.9187\" \"800.747.1234\" \"700.747.1234\"\n",
       "[6] \"800.747.1234\""
      ]
     },
     "metadata": {},
     "output_type": "display_data"
    }
   ],
   "source": [
    "#Q1 for others\n",
    "grep(\"^([0-9]{3}\\\\.)([0-9]{3}\\\\.)([0-9]{4})|^([0-9]{3}-)([0-9]{3}-)([0-9]{4})|^([0-9]{3} )([0-9]{3} )([0-9]{4})\",num,value=T)"
   ]
  },
  {
   "cell_type": "code",
   "execution_count": 28,
   "metadata": {},
   "outputs": [
    {
     "data": {
      "text/html": [
       "<style>\n",
       ".list-inline {list-style: none; margin:0; padding: 0}\n",
       ".list-inline>li {display: inline-block}\n",
       ".list-inline>li:not(:last-child)::after {content: \"\\00b7\"; padding: 0 .5ex}\n",
       "</style>\n",
       "<ol class=list-inline><li>'219 733 8965'</li><li>'329-293-8753'</li><li>'233.398.9187'</li><li>'700.747.1234'</li></ol>\n"
      ],
      "text/latex": [
       "\\begin{enumerate*}\n",
       "\\item '219 733 8965'\n",
       "\\item '329-293-8753'\n",
       "\\item '233.398.9187'\n",
       "\\item '700.747.1234'\n",
       "\\end{enumerate*}\n"
      ],
      "text/markdown": [
       "1. '219 733 8965'\n",
       "2. '329-293-8753'\n",
       "3. '233.398.9187'\n",
       "4. '700.747.1234'\n",
       "\n",
       "\n"
      ],
      "text/plain": [
       "[1] \"219 733 8965\" \"329-293-8753\" \"233.398.9187\" \"700.747.1234\""
      ]
     },
     "metadata": {},
     "output_type": "display_data"
    }
   ],
   "source": [
    "#Q2\n",
    "i=grep(\"^([0-9]{3}\\\\.)([0-9]{3}\\\\.)([0-9]{4})|^([0-9]{3}-)([0-9]{3}-)([0-9]{4})|^([0-9]{3} )([0-9]{3} )([0-9]{4})\",num,value=T)\n",
    "j=grep(\"^800\",num,value=T)\n",
    "setdiff(i,j)"
   ]
  },
  {
   "cell_type": "code",
   "execution_count": null,
   "metadata": {},
   "outputs": [],
   "source": []
  }
 ],
 "metadata": {
  "kernelspec": {
   "display_name": "R",
   "language": "R",
   "name": "ir"
  },
  "language_info": {
   "codemirror_mode": "r",
   "file_extension": ".r",
   "mimetype": "text/x-r-source",
   "name": "R",
   "pygments_lexer": "r",
   "version": "4.0.2"
  }
 },
 "nbformat": 4,
 "nbformat_minor": 4
}
